{
 "cells": [
  {
   "cell_type": "code",
   "execution_count": 1,
   "id": "initial_id",
   "metadata": {
    "collapsed": true,
    "ExecuteTime": {
     "end_time": "2024-05-11T15:52:01.547835800Z",
     "start_time": "2024-05-11T15:51:55.312329100Z"
    }
   },
   "outputs": [],
   "source": [
    "from sklearn.datasets import make_classification\n",
    "from sklearn.linear_model import LogisticRegression\n",
    "\n",
    "# Define dataset\n",
    "\n",
    "X,y = make_classification(n_samples=1000, n_features=10, n_informative=5,  n_redundant=5, n_classes=3, random_state=42)"
   ]
  },
  {
   "cell_type": "code",
   "outputs": [
    {
     "data": {
      "text/plain": "array([0, 0, 1, 0, 0, 1, 2, 2, 0, 2, 1, 2, 1, 2, 1, 1, 0, 2, 2, 2, 1, 0,\n       0, 0, 2, 2, 1, 1, 2, 1, 0, 0, 1, 2, 0, 1, 2, 2, 2, 0, 1, 1, 1, 2,\n       2, 2, 1, 2, 0, 2, 0, 0, 0, 0, 0, 2, 1, 2, 0, 1, 2, 2, 1, 2, 1, 1,\n       2, 1, 1, 0, 1, 1, 1, 1, 1, 2, 0, 0, 0, 2, 2, 2, 2, 0, 2, 0, 1, 1,\n       2, 0, 0, 1, 0, 0, 1, 2, 1, 2, 1, 0, 1, 2, 2, 2, 1, 1, 1, 1, 1, 1,\n       0, 0, 1, 1, 1, 1, 0, 1, 1, 2, 0, 1, 0, 1, 1, 0, 2, 0, 1, 0, 2, 0,\n       2, 0, 1, 2, 2, 0, 0, 0, 1, 1, 1, 1, 0, 1, 1, 2, 2, 0, 0, 0, 1, 1,\n       0, 1, 2, 2, 0, 0, 2, 0, 0, 2, 0, 0, 0, 0, 0, 1, 1, 0, 0, 0, 2, 2,\n       0, 0, 0, 1, 1, 2, 0, 1, 0, 1, 1, 1, 2, 0, 2, 0, 0, 1, 1, 1, 0, 0,\n       1, 1, 0, 0, 0, 2, 0, 0, 0, 0, 1, 2, 0, 2, 2, 1, 1, 2, 2, 0, 1, 1,\n       0, 0, 2, 1, 0, 0, 1, 0, 0, 2, 2, 1, 2, 2, 0, 0, 1, 1, 0, 2, 0, 0,\n       0, 2, 2, 2, 0, 2, 1, 1, 0, 2, 2, 1, 1, 2, 2, 0, 2, 1, 0, 2, 1, 2,\n       1, 2, 0, 2, 0, 0, 0, 2, 0, 1, 1, 2, 1, 0, 1, 0, 2, 1, 0, 2, 0, 2,\n       0, 2, 0, 1, 2, 1, 2, 0, 1, 2, 0, 2, 0, 0, 1, 1, 0, 1, 1, 0, 2, 0,\n       2, 2, 0, 2, 2, 1, 0, 0, 1, 2, 2, 1, 1, 1, 1, 2, 2, 1, 0, 2, 0, 1,\n       0, 1, 1, 1, 0, 1, 2, 0, 0, 2, 1, 1, 0, 1, 0, 0, 0, 0, 2, 0, 2, 2,\n       2, 1, 1, 1, 2, 1, 1, 0, 1, 1, 1, 0, 1, 2, 0, 0, 2, 1, 2, 0, 1, 0,\n       0, 1, 2, 0, 1, 1, 1, 0, 1, 2, 2, 1, 1, 0, 0, 1, 2, 2, 1, 1, 1, 2,\n       1, 1, 1, 1, 0, 2, 1, 2, 0, 1, 1, 1, 0, 1, 0, 2, 0, 1, 1, 0, 2, 0,\n       2, 0, 2, 2, 0, 1, 0, 0, 0, 0, 0, 2, 1, 1, 0, 2, 2, 2, 2, 2, 2, 1,\n       2, 1, 0, 2, 2, 2, 0, 1, 2, 0, 0, 1, 2, 2, 1, 2, 0, 2, 2, 1, 0, 0,\n       1, 2, 1, 0, 2, 1, 1, 0, 0, 1, 1, 0, 2, 2, 2, 0, 1, 0, 2, 2, 2, 2,\n       0, 1, 1, 0, 2, 2, 2, 1, 2, 2, 1, 2, 0, 0, 0, 2, 0, 0, 1, 2, 2, 0,\n       1, 1, 2, 0, 1, 2, 2, 2, 0, 0, 1, 2, 2, 1, 2, 1, 2, 0, 2, 1, 0, 0,\n       2, 0, 2, 2, 0, 1, 2, 0, 2, 2, 1, 2, 0, 1, 0, 1, 0, 1, 1, 1, 2, 2,\n       0, 2, 1, 0, 1, 1, 2, 2, 2, 0, 0, 0, 2, 0, 0, 2, 2, 2, 0, 0, 1, 0,\n       0, 1, 1, 0, 1, 2, 1, 0, 1, 1, 2, 0, 1, 1, 2, 2, 0, 0, 0, 2, 2, 1,\n       2, 1, 2, 1, 2, 2, 2, 0, 1, 0, 1, 1, 2, 2, 2, 0, 1, 2, 1, 1, 1, 0,\n       0, 2, 1, 1, 0, 1, 0, 2, 0, 2, 1, 1, 0, 1, 2, 2, 2, 1, 2, 2, 0, 1,\n       1, 2, 2, 2, 0, 2, 1, 0, 2, 2, 2, 1, 2, 2, 2, 2, 1, 2, 1, 2, 2, 1,\n       2, 0, 2, 1, 1, 0, 1, 2, 1, 2, 1, 0, 1, 2, 1, 1, 0, 0, 0, 2, 0, 0,\n       2, 1, 2, 0, 2, 0, 1, 0, 2, 1, 0, 0, 2, 0, 2, 0, 1, 1, 2, 0, 1, 1,\n       1, 1, 0, 0, 1, 0, 0, 1, 0, 1, 0, 2, 1, 0, 2, 1, 1, 2, 2, 2, 0, 0,\n       0, 0, 2, 2, 1, 1, 2, 2, 0, 1, 0, 2, 0, 0, 1, 1, 0, 1, 1, 2, 2, 2,\n       2, 1, 1, 2, 2, 1, 1, 0, 0, 2, 2, 0, 0, 2, 1, 1, 0, 2, 2, 0, 2, 2,\n       1, 2, 1, 0, 0, 1, 0, 1, 1, 1, 1, 1, 2, 2, 1, 0, 0, 0, 0, 0, 0, 1,\n       2, 0, 1, 0, 0, 2, 2, 1, 1, 2, 1, 2, 0, 1, 2, 2, 1, 1, 2, 1, 1, 0,\n       2, 1, 1, 1, 0, 1, 1, 2, 2, 0, 0, 2, 2, 0, 0, 1, 1, 0, 0, 0, 1, 0,\n       0, 1, 0, 0, 2, 0, 0, 0, 1, 2, 2, 2, 2, 0, 1, 2, 2, 1, 1, 1, 2, 1,\n       1, 2, 1, 2, 2, 0, 1, 0, 0, 0, 0, 1, 0, 0, 0, 2, 2, 1, 2, 1, 2, 0,\n       2, 0, 2, 2, 1, 1, 0, 0, 2, 0, 2, 1, 2, 1, 2, 1, 0, 0, 2, 0, 2, 2,\n       2, 1, 2, 1, 1, 2, 2, 0, 1, 0, 1, 0, 0, 0, 2, 2, 1, 0, 1, 1, 1, 2,\n       0, 1, 1, 0, 1, 2, 0, 2, 0, 2, 2, 0, 2, 2, 0, 1, 1, 1, 0, 0, 0, 1,\n       1, 0, 0, 2, 2, 1, 0, 0, 0, 2, 2, 0, 1, 2, 2, 0, 1, 0, 0, 2, 0, 0,\n       0, 2, 0, 1, 2, 0, 2, 2, 1, 2, 1, 2, 1, 2, 0, 2, 1, 0, 2, 0, 2, 1,\n       2, 0, 2, 0, 1, 1, 2, 1, 2, 0])"
     },
     "execution_count": 2,
     "metadata": {},
     "output_type": "execute_result"
    }
   ],
   "source": [
    "# Define model\n",
    "y"
   ],
   "metadata": {
    "collapsed": false,
    "ExecuteTime": {
     "end_time": "2024-05-11T15:52:14.967023300Z",
     "start_time": "2024-05-11T15:52:14.941092400Z"
    }
   },
   "id": "f3199d7ed75773c5",
   "execution_count": 2
  },
  {
   "cell_type": "code",
   "outputs": [],
   "source": [
    "#define the multinomial logistic regression model\n",
    "model = LogisticRegression(multi_class='ovr', solver='lbfgs')"
   ],
   "metadata": {
    "collapsed": false,
    "ExecuteTime": {
     "end_time": "2024-05-11T15:54:57.710268100Z",
     "start_time": "2024-05-11T15:54:57.698267Z"
    }
   },
   "id": "7fd0eb8558104ea5",
   "execution_count": 4
  },
  {
   "cell_type": "code",
   "outputs": [],
   "source": [
    "#Train test split\n",
    "from sklearn.model_selection import train_test_split\n",
    "X_train, X_test, y_train, y_test = train_test_split(X,y, test_size=0.20, random_state=42)"
   ],
   "metadata": {
    "collapsed": false,
    "ExecuteTime": {
     "end_time": "2024-05-11T15:55:42.636894600Z",
     "start_time": "2024-05-11T15:55:42.610386900Z"
    }
   },
   "id": "42436851251be606",
   "execution_count": 5
  },
  {
   "cell_type": "code",
   "outputs": [
    {
     "data": {
      "text/plain": "LogisticRegression(multi_class='ovr')",
      "text/html": "<style>#sk-container-id-2 {\n  /* Definition of color scheme common for light and dark mode */\n  --sklearn-color-text: black;\n  --sklearn-color-line: gray;\n  /* Definition of color scheme for unfitted estimators */\n  --sklearn-color-unfitted-level-0: #fff5e6;\n  --sklearn-color-unfitted-level-1: #f6e4d2;\n  --sklearn-color-unfitted-level-2: #ffe0b3;\n  --sklearn-color-unfitted-level-3: chocolate;\n  /* Definition of color scheme for fitted estimators */\n  --sklearn-color-fitted-level-0: #f0f8ff;\n  --sklearn-color-fitted-level-1: #d4ebff;\n  --sklearn-color-fitted-level-2: #b3dbfd;\n  --sklearn-color-fitted-level-3: cornflowerblue;\n\n  /* Specific color for light theme */\n  --sklearn-color-text-on-default-background: var(--sg-text-color, var(--theme-code-foreground, var(--jp-content-font-color1, black)));\n  --sklearn-color-background: var(--sg-background-color, var(--theme-background, var(--jp-layout-color0, white)));\n  --sklearn-color-border-box: var(--sg-text-color, var(--theme-code-foreground, var(--jp-content-font-color1, black)));\n  --sklearn-color-icon: #696969;\n\n  @media (prefers-color-scheme: dark) {\n    /* Redefinition of color scheme for dark theme */\n    --sklearn-color-text-on-default-background: var(--sg-text-color, var(--theme-code-foreground, var(--jp-content-font-color1, white)));\n    --sklearn-color-background: var(--sg-background-color, var(--theme-background, var(--jp-layout-color0, #111)));\n    --sklearn-color-border-box: var(--sg-text-color, var(--theme-code-foreground, var(--jp-content-font-color1, white)));\n    --sklearn-color-icon: #878787;\n  }\n}\n\n#sk-container-id-2 {\n  color: var(--sklearn-color-text);\n}\n\n#sk-container-id-2 pre {\n  padding: 0;\n}\n\n#sk-container-id-2 input.sk-hidden--visually {\n  border: 0;\n  clip: rect(1px 1px 1px 1px);\n  clip: rect(1px, 1px, 1px, 1px);\n  height: 1px;\n  margin: -1px;\n  overflow: hidden;\n  padding: 0;\n  position: absolute;\n  width: 1px;\n}\n\n#sk-container-id-2 div.sk-dashed-wrapped {\n  border: 1px dashed var(--sklearn-color-line);\n  margin: 0 0.4em 0.5em 0.4em;\n  box-sizing: border-box;\n  padding-bottom: 0.4em;\n  background-color: var(--sklearn-color-background);\n}\n\n#sk-container-id-2 div.sk-container {\n  /* jupyter's `normalize.less` sets `[hidden] { display: none; }`\n     but bootstrap.min.css set `[hidden] { display: none !important; }`\n     so we also need the `!important` here to be able to override the\n     default hidden behavior on the sphinx rendered scikit-learn.org.\n     See: https://github.com/scikit-learn/scikit-learn/issues/21755 */\n  display: inline-block !important;\n  position: relative;\n}\n\n#sk-container-id-2 div.sk-text-repr-fallback {\n  display: none;\n}\n\ndiv.sk-parallel-item,\ndiv.sk-serial,\ndiv.sk-item {\n  /* draw centered vertical line to link estimators */\n  background-image: linear-gradient(var(--sklearn-color-text-on-default-background), var(--sklearn-color-text-on-default-background));\n  background-size: 2px 100%;\n  background-repeat: no-repeat;\n  background-position: center center;\n}\n\n/* Parallel-specific style estimator block */\n\n#sk-container-id-2 div.sk-parallel-item::after {\n  content: \"\";\n  width: 100%;\n  border-bottom: 2px solid var(--sklearn-color-text-on-default-background);\n  flex-grow: 1;\n}\n\n#sk-container-id-2 div.sk-parallel {\n  display: flex;\n  align-items: stretch;\n  justify-content: center;\n  background-color: var(--sklearn-color-background);\n  position: relative;\n}\n\n#sk-container-id-2 div.sk-parallel-item {\n  display: flex;\n  flex-direction: column;\n}\n\n#sk-container-id-2 div.sk-parallel-item:first-child::after {\n  align-self: flex-end;\n  width: 50%;\n}\n\n#sk-container-id-2 div.sk-parallel-item:last-child::after {\n  align-self: flex-start;\n  width: 50%;\n}\n\n#sk-container-id-2 div.sk-parallel-item:only-child::after {\n  width: 0;\n}\n\n/* Serial-specific style estimator block */\n\n#sk-container-id-2 div.sk-serial {\n  display: flex;\n  flex-direction: column;\n  align-items: center;\n  background-color: var(--sklearn-color-background);\n  padding-right: 1em;\n  padding-left: 1em;\n}\n\n\n/* Toggleable style: style used for estimator/Pipeline/ColumnTransformer box that is\nclickable and can be expanded/collapsed.\n- Pipeline and ColumnTransformer use this feature and define the default style\n- Estimators will overwrite some part of the style using the `sk-estimator` class\n*/\n\n/* Pipeline and ColumnTransformer style (default) */\n\n#sk-container-id-2 div.sk-toggleable {\n  /* Default theme specific background. It is overwritten whether we have a\n  specific estimator or a Pipeline/ColumnTransformer */\n  background-color: var(--sklearn-color-background);\n}\n\n/* Toggleable label */\n#sk-container-id-2 label.sk-toggleable__label {\n  cursor: pointer;\n  display: block;\n  width: 100%;\n  margin-bottom: 0;\n  padding: 0.5em;\n  box-sizing: border-box;\n  text-align: center;\n}\n\n#sk-container-id-2 label.sk-toggleable__label-arrow:before {\n  /* Arrow on the left of the label */\n  content: \"▸\";\n  float: left;\n  margin-right: 0.25em;\n  color: var(--sklearn-color-icon);\n}\n\n#sk-container-id-2 label.sk-toggleable__label-arrow:hover:before {\n  color: var(--sklearn-color-text);\n}\n\n/* Toggleable content - dropdown */\n\n#sk-container-id-2 div.sk-toggleable__content {\n  max-height: 0;\n  max-width: 0;\n  overflow: hidden;\n  text-align: left;\n  /* unfitted */\n  background-color: var(--sklearn-color-unfitted-level-0);\n}\n\n#sk-container-id-2 div.sk-toggleable__content.fitted {\n  /* fitted */\n  background-color: var(--sklearn-color-fitted-level-0);\n}\n\n#sk-container-id-2 div.sk-toggleable__content pre {\n  margin: 0.2em;\n  border-radius: 0.25em;\n  color: var(--sklearn-color-text);\n  /* unfitted */\n  background-color: var(--sklearn-color-unfitted-level-0);\n}\n\n#sk-container-id-2 div.sk-toggleable__content.fitted pre {\n  /* unfitted */\n  background-color: var(--sklearn-color-fitted-level-0);\n}\n\n#sk-container-id-2 input.sk-toggleable__control:checked~div.sk-toggleable__content {\n  /* Expand drop-down */\n  max-height: 200px;\n  max-width: 100%;\n  overflow: auto;\n}\n\n#sk-container-id-2 input.sk-toggleable__control:checked~label.sk-toggleable__label-arrow:before {\n  content: \"▾\";\n}\n\n/* Pipeline/ColumnTransformer-specific style */\n\n#sk-container-id-2 div.sk-label input.sk-toggleable__control:checked~label.sk-toggleable__label {\n  color: var(--sklearn-color-text);\n  background-color: var(--sklearn-color-unfitted-level-2);\n}\n\n#sk-container-id-2 div.sk-label.fitted input.sk-toggleable__control:checked~label.sk-toggleable__label {\n  background-color: var(--sklearn-color-fitted-level-2);\n}\n\n/* Estimator-specific style */\n\n/* Colorize estimator box */\n#sk-container-id-2 div.sk-estimator input.sk-toggleable__control:checked~label.sk-toggleable__label {\n  /* unfitted */\n  background-color: var(--sklearn-color-unfitted-level-2);\n}\n\n#sk-container-id-2 div.sk-estimator.fitted input.sk-toggleable__control:checked~label.sk-toggleable__label {\n  /* fitted */\n  background-color: var(--sklearn-color-fitted-level-2);\n}\n\n#sk-container-id-2 div.sk-label label.sk-toggleable__label,\n#sk-container-id-2 div.sk-label label {\n  /* The background is the default theme color */\n  color: var(--sklearn-color-text-on-default-background);\n}\n\n/* On hover, darken the color of the background */\n#sk-container-id-2 div.sk-label:hover label.sk-toggleable__label {\n  color: var(--sklearn-color-text);\n  background-color: var(--sklearn-color-unfitted-level-2);\n}\n\n/* Label box, darken color on hover, fitted */\n#sk-container-id-2 div.sk-label.fitted:hover label.sk-toggleable__label.fitted {\n  color: var(--sklearn-color-text);\n  background-color: var(--sklearn-color-fitted-level-2);\n}\n\n/* Estimator label */\n\n#sk-container-id-2 div.sk-label label {\n  font-family: monospace;\n  font-weight: bold;\n  display: inline-block;\n  line-height: 1.2em;\n}\n\n#sk-container-id-2 div.sk-label-container {\n  text-align: center;\n}\n\n/* Estimator-specific */\n#sk-container-id-2 div.sk-estimator {\n  font-family: monospace;\n  border: 1px dotted var(--sklearn-color-border-box);\n  border-radius: 0.25em;\n  box-sizing: border-box;\n  margin-bottom: 0.5em;\n  /* unfitted */\n  background-color: var(--sklearn-color-unfitted-level-0);\n}\n\n#sk-container-id-2 div.sk-estimator.fitted {\n  /* fitted */\n  background-color: var(--sklearn-color-fitted-level-0);\n}\n\n/* on hover */\n#sk-container-id-2 div.sk-estimator:hover {\n  /* unfitted */\n  background-color: var(--sklearn-color-unfitted-level-2);\n}\n\n#sk-container-id-2 div.sk-estimator.fitted:hover {\n  /* fitted */\n  background-color: var(--sklearn-color-fitted-level-2);\n}\n\n/* Specification for estimator info (e.g. \"i\" and \"?\") */\n\n/* Common style for \"i\" and \"?\" */\n\n.sk-estimator-doc-link,\na:link.sk-estimator-doc-link,\na:visited.sk-estimator-doc-link {\n  float: right;\n  font-size: smaller;\n  line-height: 1em;\n  font-family: monospace;\n  background-color: var(--sklearn-color-background);\n  border-radius: 1em;\n  height: 1em;\n  width: 1em;\n  text-decoration: none !important;\n  margin-left: 1ex;\n  /* unfitted */\n  border: var(--sklearn-color-unfitted-level-1) 1pt solid;\n  color: var(--sklearn-color-unfitted-level-1);\n}\n\n.sk-estimator-doc-link.fitted,\na:link.sk-estimator-doc-link.fitted,\na:visited.sk-estimator-doc-link.fitted {\n  /* fitted */\n  border: var(--sklearn-color-fitted-level-1) 1pt solid;\n  color: var(--sklearn-color-fitted-level-1);\n}\n\n/* On hover */\ndiv.sk-estimator:hover .sk-estimator-doc-link:hover,\n.sk-estimator-doc-link:hover,\ndiv.sk-label-container:hover .sk-estimator-doc-link:hover,\n.sk-estimator-doc-link:hover {\n  /* unfitted */\n  background-color: var(--sklearn-color-unfitted-level-3);\n  color: var(--sklearn-color-background);\n  text-decoration: none;\n}\n\ndiv.sk-estimator.fitted:hover .sk-estimator-doc-link.fitted:hover,\n.sk-estimator-doc-link.fitted:hover,\ndiv.sk-label-container:hover .sk-estimator-doc-link.fitted:hover,\n.sk-estimator-doc-link.fitted:hover {\n  /* fitted */\n  background-color: var(--sklearn-color-fitted-level-3);\n  color: var(--sklearn-color-background);\n  text-decoration: none;\n}\n\n/* Span, style for the box shown on hovering the info icon */\n.sk-estimator-doc-link span {\n  display: none;\n  z-index: 9999;\n  position: relative;\n  font-weight: normal;\n  right: .2ex;\n  padding: .5ex;\n  margin: .5ex;\n  width: min-content;\n  min-width: 20ex;\n  max-width: 50ex;\n  color: var(--sklearn-color-text);\n  box-shadow: 2pt 2pt 4pt #999;\n  /* unfitted */\n  background: var(--sklearn-color-unfitted-level-0);\n  border: .5pt solid var(--sklearn-color-unfitted-level-3);\n}\n\n.sk-estimator-doc-link.fitted span {\n  /* fitted */\n  background: var(--sklearn-color-fitted-level-0);\n  border: var(--sklearn-color-fitted-level-3);\n}\n\n.sk-estimator-doc-link:hover span {\n  display: block;\n}\n\n/* \"?\"-specific style due to the `<a>` HTML tag */\n\n#sk-container-id-2 a.estimator_doc_link {\n  float: right;\n  font-size: 1rem;\n  line-height: 1em;\n  font-family: monospace;\n  background-color: var(--sklearn-color-background);\n  border-radius: 1rem;\n  height: 1rem;\n  width: 1rem;\n  text-decoration: none;\n  /* unfitted */\n  color: var(--sklearn-color-unfitted-level-1);\n  border: var(--sklearn-color-unfitted-level-1) 1pt solid;\n}\n\n#sk-container-id-2 a.estimator_doc_link.fitted {\n  /* fitted */\n  border: var(--sklearn-color-fitted-level-1) 1pt solid;\n  color: var(--sklearn-color-fitted-level-1);\n}\n\n/* On hover */\n#sk-container-id-2 a.estimator_doc_link:hover {\n  /* unfitted */\n  background-color: var(--sklearn-color-unfitted-level-3);\n  color: var(--sklearn-color-background);\n  text-decoration: none;\n}\n\n#sk-container-id-2 a.estimator_doc_link.fitted:hover {\n  /* fitted */\n  background-color: var(--sklearn-color-fitted-level-3);\n}\n</style><div id=\"sk-container-id-2\" class=\"sk-top-container\"><div class=\"sk-text-repr-fallback\"><pre>LogisticRegression(multi_class=&#x27;ovr&#x27;)</pre><b>In a Jupyter environment, please rerun this cell to show the HTML representation or trust the notebook. <br />On GitHub, the HTML representation is unable to render, please try loading this page with nbviewer.org.</b></div><div class=\"sk-container\" hidden><div class=\"sk-item\"><div class=\"sk-estimator fitted sk-toggleable\"><input class=\"sk-toggleable__control sk-hidden--visually\" id=\"sk-estimator-id-2\" type=\"checkbox\" checked><label for=\"sk-estimator-id-2\" class=\"sk-toggleable__label fitted sk-toggleable__label-arrow fitted\">&nbsp;&nbsp;LogisticRegression<a class=\"sk-estimator-doc-link fitted\" rel=\"noreferrer\" target=\"_blank\" href=\"https://scikit-learn.org/1.4/modules/generated/sklearn.linear_model.LogisticRegression.html\">?<span>Documentation for LogisticRegression</span></a><span class=\"sk-estimator-doc-link fitted\">i<span>Fitted</span></span></label><div class=\"sk-toggleable__content fitted\"><pre>LogisticRegression(multi_class=&#x27;ovr&#x27;)</pre></div> </div></div></div></div>"
     },
     "execution_count": 6,
     "metadata": {},
     "output_type": "execute_result"
    }
   ],
   "source": [
    "#train the model\n",
    "model.fit(X_train, y_train)"
   ],
   "metadata": {
    "collapsed": false,
    "ExecuteTime": {
     "end_time": "2024-05-11T15:57:18.337020500Z",
     "start_time": "2024-05-11T15:57:18.280050700Z"
    }
   },
   "id": "b8f7f4f1687de5b3",
   "execution_count": 6
  },
  {
   "cell_type": "code",
   "outputs": [],
   "source": [
    "y_pred = model.predict(X_test)"
   ],
   "metadata": {
    "collapsed": false,
    "ExecuteTime": {
     "end_time": "2024-05-11T15:58:18.646403600Z",
     "start_time": "2024-05-11T15:58:18.617447400Z"
    }
   },
   "id": "9d6c89cfe8d0b63",
   "execution_count": 8
  },
  {
   "cell_type": "code",
   "outputs": [
    {
     "data": {
      "text/plain": "array([[1.03512535e-01, 6.81528642e-01, 2.14958823e-01],\n       [4.93432315e-01, 3.27356274e-01, 1.79211411e-01],\n       [2.77833953e-01, 4.03128164e-01, 3.19037882e-01],\n       [4.79425364e-03, 6.59408844e-01, 3.35796902e-01],\n       [6.18032006e-01, 5.30536207e-02, 3.28914374e-01],\n       [7.19077722e-01, 2.55236820e-04, 2.80667041e-01],\n       [6.50620631e-02, 5.34615423e-01, 4.00322514e-01],\n       [4.22413483e-01, 1.00471694e-01, 4.77114822e-01],\n       [1.69173078e-01, 3.79783818e-01, 4.51043105e-01],\n       [3.63467910e-01, 1.76769956e-01, 4.59762134e-01],\n       [4.79791786e-01, 1.47559719e-01, 3.72648494e-01],\n       [8.19550236e-01, 8.74703366e-03, 1.71702730e-01],\n       [5.69965815e-01, 8.86721026e-03, 4.21166974e-01],\n       [7.97069833e-01, 1.06337115e-02, 1.92296456e-01],\n       [6.90424822e-01, 5.23050194e-02, 2.57270159e-01],\n       [6.94391572e-01, 1.17191589e-02, 2.93889270e-01],\n       [4.00546672e-01, 1.00712340e-01, 4.98740988e-01],\n       [5.78404185e-02, 4.93580555e-01, 4.48579027e-01],\n       [2.16491212e-01, 2.24743957e-01, 5.58764831e-01],\n       [3.28902973e-03, 8.58594005e-01, 1.38116965e-01],\n       [2.13722517e-01, 1.65515814e-01, 6.20761669e-01],\n       [8.01527256e-02, 3.72964288e-01, 5.46882986e-01],\n       [6.83268499e-01, 5.16227632e-02, 2.65108738e-01],\n       [5.30397186e-01, 2.41058772e-01, 2.28544042e-01],\n       [6.01103659e-01, 6.36962459e-02, 3.35200095e-01],\n       [7.89386060e-01, 3.50773091e-02, 1.75536631e-01],\n       [2.81359599e-02, 6.78462425e-01, 2.93401615e-01],\n       [2.18662737e-01, 2.09943645e-01, 5.71393618e-01],\n       [4.79813204e-01, 1.04573934e-01, 4.15612862e-01],\n       [7.64427071e-01, 2.98696008e-03, 2.32585969e-01],\n       [2.19214261e-01, 5.92568941e-01, 1.88216798e-01],\n       [8.40024499e-01, 5.02872637e-02, 1.09688238e-01],\n       [2.82521720e-02, 4.10513603e-01, 5.61234225e-01],\n       [7.99980250e-02, 3.36152687e-01, 5.83849289e-01],\n       [5.93170270e-02, 6.08685511e-01, 3.31997462e-01],\n       [8.67535933e-02, 6.06002212e-01, 3.07244195e-01],\n       [6.96334582e-01, 1.67600426e-01, 1.36064992e-01],\n       [2.39929617e-03, 7.77712490e-01, 2.19888214e-01],\n       [2.73825618e-01, 4.15306697e-01, 3.10867685e-01],\n       [4.41848439e-01, 4.11046645e-01, 1.47104916e-01],\n       [7.23056386e-01, 7.41942808e-02, 2.02749333e-01],\n       [2.23064182e-02, 4.19953705e-01, 5.57739877e-01],\n       [4.01846201e-01, 7.68349589e-02, 5.21318841e-01],\n       [2.37502004e-01, 7.17997806e-02, 6.90698215e-01],\n       [4.40619253e-01, 3.31095796e-02, 5.26271167e-01],\n       [7.98274781e-01, 6.47122742e-02, 1.37012945e-01],\n       [6.81722590e-01, 9.67577210e-02, 2.21519689e-01],\n       [7.15123953e-01, 1.20259314e-02, 2.72850116e-01],\n       [7.17297480e-02, 8.26476518e-01, 1.01793734e-01],\n       [9.44597582e-02, 5.67887229e-01, 3.37653012e-01],\n       [1.18473368e-02, 6.56960115e-01, 3.31192548e-01],\n       [3.25024937e-01, 4.69885249e-01, 2.05089813e-01],\n       [3.14750901e-02, 5.53352639e-01, 4.15172271e-01],\n       [2.10844573e-02, 7.90881865e-01, 1.88033677e-01],\n       [3.82001545e-01, 3.76320974e-01, 2.41677481e-01],\n       [6.97666212e-01, 1.13758489e-01, 1.88575300e-01],\n       [2.62868429e-01, 1.12505634e-01, 6.24625937e-01],\n       [9.75961070e-02, 7.42553705e-01, 1.59850188e-01],\n       [7.34767454e-01, 1.85125679e-01, 8.01068672e-02],\n       [1.57446945e-01, 7.01511488e-01, 1.41041567e-01],\n       [3.35563044e-01, 3.58922581e-01, 3.05514375e-01],\n       [6.26397637e-01, 7.19431032e-02, 3.01659260e-01],\n       [4.69462045e-01, 1.48494822e-01, 3.82043132e-01],\n       [3.13617717e-01, 7.49409542e-02, 6.11441329e-01],\n       [2.61540995e-01, 5.72678144e-01, 1.65780860e-01],\n       [5.07957414e-01, 2.20783360e-03, 4.89834753e-01],\n       [6.23167769e-01, 7.68685495e-02, 2.99963681e-01],\n       [7.03126929e-01, 2.74938854e-03, 2.94123683e-01],\n       [2.32149496e-02, 4.89424713e-01, 4.87360338e-01],\n       [1.53801123e-04, 2.82661651e-01, 7.17184548e-01],\n       [5.59722223e-02, 3.20684316e-01, 6.23343462e-01],\n       [5.47188289e-01, 1.98199626e-01, 2.54612085e-01],\n       [1.33678381e-01, 4.72128402e-01, 3.94193218e-01],\n       [1.94146139e-01, 2.57351693e-01, 5.48502168e-01],\n       [2.16818678e-01, 3.42779195e-01, 4.40402128e-01],\n       [6.53095124e-03, 8.64043183e-01, 1.29425866e-01],\n       [1.07140529e-01, 3.83380339e-01, 5.09479132e-01],\n       [4.92236791e-01, 1.47106010e-01, 3.60657199e-01],\n       [4.05980772e-01, 3.95776740e-01, 1.98242488e-01],\n       [7.46687614e-01, 2.12030852e-02, 2.32109301e-01],\n       [4.39069600e-01, 3.27378952e-01, 2.33551447e-01],\n       [2.88948095e-01, 2.18427447e-01, 4.92624459e-01],\n       [3.24156330e-01, 2.83142054e-02, 6.47529464e-01],\n       [3.20568027e-02, 5.21801315e-01, 4.46141883e-01],\n       [3.02218750e-01, 9.94641907e-02, 5.98317060e-01],\n       [3.97480372e-01, 1.00235576e-01, 5.02284052e-01],\n       [4.84332436e-01, 8.64697775e-02, 4.29197787e-01],\n       [3.08512401e-01, 3.45598844e-01, 3.45888756e-01],\n       [5.55843935e-01, 2.68113711e-01, 1.76042354e-01],\n       [7.45252072e-02, 5.05227143e-01, 4.20247650e-01],\n       [3.20760457e-02, 6.36534413e-01, 3.31389541e-01],\n       [6.21394421e-02, 6.50308224e-01, 2.87552334e-01],\n       [1.69870248e-03, 7.15640416e-01, 2.82660881e-01],\n       [7.18109984e-04, 8.56400461e-01, 1.42881429e-01],\n       [5.76294008e-01, 2.03308196e-01, 2.20397796e-01],\n       [2.14431115e-01, 4.16417214e-01, 3.69151671e-01],\n       [6.09641305e-01, 1.42788654e-01, 2.47570041e-01],\n       [4.68095467e-01, 3.59787845e-02, 4.95925748e-01],\n       [1.71510642e-01, 4.07940857e-01, 4.20548502e-01],\n       [3.05048080e-01, 8.56978863e-02, 6.09254034e-01],\n       [7.29800640e-03, 6.50372159e-01, 3.42329835e-01],\n       [5.05335067e-01, 1.32638171e-01, 3.62026761e-01],\n       [1.40849957e-01, 6.27022597e-01, 2.32127445e-01],\n       [8.39861180e-02, 5.15785776e-01, 4.00228106e-01],\n       [3.53672386e-01, 3.96513931e-02, 6.06676221e-01],\n       [3.74980112e-01, 5.51638979e-01, 7.33809088e-02],\n       [8.09309183e-03, 7.56681516e-01, 2.35225393e-01],\n       [4.98464732e-02, 4.28284400e-01, 5.21869126e-01],\n       [5.72339337e-01, 2.07617054e-01, 2.20043608e-01],\n       [8.61128498e-02, 6.60469962e-01, 2.53417188e-01],\n       [1.95717086e-01, 2.99797744e-01, 5.04485171e-01],\n       [7.71951594e-01, 3.13572870e-02, 1.96691119e-01],\n       [5.31406479e-01, 8.67559503e-02, 3.81837571e-01],\n       [1.33056087e-02, 4.68369070e-01, 5.18325322e-01],\n       [5.80386401e-03, 4.85988685e-01, 5.08207451e-01],\n       [3.55599127e-01, 2.28751261e-01, 4.15649613e-01],\n       [4.52474770e-01, 1.81572002e-01, 3.65953228e-01],\n       [7.15684532e-03, 7.17450853e-01, 2.75392302e-01],\n       [2.91964388e-01, 2.79255342e-01, 4.28780270e-01],\n       [6.34588733e-04, 5.26592973e-01, 4.72772438e-01],\n       [2.89853235e-01, 4.01808899e-02, 6.69965875e-01],\n       [4.48767916e-01, 1.87049152e-01, 3.64182933e-01],\n       [1.76167381e-02, 6.61240491e-01, 3.21142771e-01],\n       [8.01911454e-01, 1.12597451e-02, 1.86828801e-01],\n       [4.76736396e-01, 4.37264625e-01, 8.59989783e-02],\n       [6.93623692e-01, 2.18865654e-01, 8.75106546e-02],\n       [2.85988377e-02, 6.63319464e-01, 3.08081698e-01],\n       [2.25871353e-01, 1.22029273e-01, 6.52099374e-01],\n       [4.64052579e-01, 8.14535495e-02, 4.54493872e-01],\n       [4.24073238e-02, 4.34289902e-01, 5.23302774e-01],\n       [5.70932740e-01, 4.22638758e-02, 3.86803385e-01],\n       [7.88164765e-01, 7.26722608e-03, 2.04568009e-01],\n       [2.08022873e-01, 3.48533360e-01, 4.43443767e-01],\n       [5.12766865e-02, 6.64241107e-01, 2.84482207e-01],\n       [7.44744867e-01, 3.09145425e-02, 2.24340590e-01],\n       [9.69586138e-02, 4.46373991e-01, 4.56667395e-01],\n       [8.19569456e-01, 2.96809862e-02, 1.50749557e-01],\n       [8.71126198e-03, 6.50128382e-01, 3.41160356e-01],\n       [2.93934194e-01, 6.67245617e-02, 6.39341244e-01],\n       [6.51995635e-04, 7.10303787e-01, 2.89044217e-01],\n       [4.42747536e-01, 1.50342639e-01, 4.06909825e-01],\n       [4.23572380e-01, 6.60662768e-02, 5.10361343e-01],\n       [8.76994674e-03, 7.97226103e-01, 1.94003950e-01],\n       [4.39730343e-01, 2.47702851e-01, 3.12566807e-01],\n       [1.53634349e-03, 4.55539402e-01, 5.42924255e-01],\n       [7.72855167e-01, 5.59703720e-02, 1.71174461e-01],\n       [4.43298158e-01, 4.82770653e-03, 5.51874136e-01],\n       [2.82200010e-01, 2.98060466e-01, 4.19739524e-01],\n       [1.05267207e-01, 4.63825242e-01, 4.30907550e-01],\n       [2.99387807e-02, 6.84371810e-01, 2.85689409e-01],\n       [6.16070513e-01, 7.07576996e-02, 3.13171787e-01],\n       [5.93143497e-01, 6.44229277e-02, 3.42433576e-01],\n       [6.03270517e-01, 2.48873417e-02, 3.71842141e-01],\n       [1.49148246e-01, 2.22334076e-01, 6.28517678e-01],\n       [3.33494340e-02, 7.20483494e-01, 2.46167072e-01],\n       [8.48354703e-01, 4.24721051e-02, 1.09173192e-01],\n       [1.10184158e-02, 7.35405820e-01, 2.53575764e-01],\n       [5.94756889e-01, 5.87576759e-02, 3.46485435e-01],\n       [5.51691416e-01, 2.64527289e-02, 4.21855855e-01],\n       [6.27384295e-03, 4.83911860e-01, 5.09814297e-01],\n       [4.62287428e-02, 4.49449091e-01, 5.04322166e-01],\n       [2.27190829e-01, 4.12419516e-01, 3.60389655e-01],\n       [1.62111861e-02, 7.27196203e-01, 2.56592611e-01],\n       [8.03765451e-01, 1.02512591e-02, 1.85983289e-01],\n       [7.94324181e-01, 6.80733260e-04, 2.04995085e-01],\n       [1.52092789e-01, 7.64823512e-01, 8.30836990e-02],\n       [7.22192870e-01, 1.13732547e-01, 1.64074583e-01],\n       [6.14581772e-01, 1.84333634e-01, 2.01084594e-01],\n       [3.96410075e-01, 3.62640940e-01, 2.40948986e-01],\n       [2.23700415e-01, 2.29185127e-01, 5.47114458e-01],\n       [3.14102866e-03, 3.95192859e-01, 6.01666112e-01],\n       [6.39866961e-01, 7.49369782e-02, 2.85196061e-01],\n       [4.83732622e-01, 1.49862336e-02, 5.01281145e-01],\n       [1.96426648e-03, 4.90337414e-01, 5.07698320e-01],\n       [7.80480543e-04, 8.76492027e-01, 1.22727492e-01],\n       [3.64328019e-01, 2.43622602e-01, 3.92049379e-01],\n       [8.10857412e-02, 8.14278483e-01, 1.04635776e-01],\n       [2.04949887e-01, 6.62255147e-01, 1.32794966e-01],\n       [2.02004219e-03, 2.03752346e-01, 7.94227611e-01],\n       [7.10382765e-01, 3.16318271e-02, 2.57985408e-01],\n       [2.73810045e-02, 6.90868562e-01, 2.81750433e-01],\n       [6.71024200e-02, 8.57507911e-01, 7.53896687e-02],\n       [5.62645139e-01, 2.72663664e-01, 1.64691197e-01],\n       [7.36678067e-01, 3.59415065e-03, 2.59727783e-01],\n       [2.37093951e-01, 5.22068061e-02, 7.10699243e-01],\n       [2.75533460e-01, 2.51072505e-01, 4.73394035e-01],\n       [1.35727499e-02, 9.12396139e-01, 7.40311107e-02],\n       [2.14990048e-01, 4.31858464e-01, 3.53151487e-01],\n       [8.16365077e-01, 2.70640167e-02, 1.56570907e-01],\n       [8.13398835e-02, 5.95487960e-01, 3.23172156e-01],\n       [6.40346184e-01, 1.42789175e-02, 3.45374899e-01],\n       [1.94042885e-03, 8.70084418e-01, 1.27975153e-01],\n       [1.00741385e-04, 7.99555219e-01, 2.00344040e-01],\n       [1.87530655e-01, 7.48448202e-01, 6.40211425e-02],\n       [3.20363454e-02, 5.45337205e-01, 4.22626450e-01],\n       [7.30113950e-01, 9.76077554e-02, 1.72278295e-01],\n       [1.05467976e-01, 6.50070569e-01, 2.44461455e-01],\n       [6.15783614e-03, 5.35751599e-01, 4.58090565e-01],\n       [3.06212362e-02, 7.22692572e-01, 2.46686192e-01],\n       [1.96509368e-01, 5.26607882e-01, 2.76882750e-01]])"
     },
     "execution_count": 10,
     "metadata": {},
     "output_type": "execute_result"
    }
   ],
   "source": [
    "model.predict_proba(X_test)"
   ],
   "metadata": {
    "collapsed": false,
    "ExecuteTime": {
     "end_time": "2024-05-11T15:58:51.931774600Z",
     "start_time": "2024-05-11T15:58:51.896870500Z"
    }
   },
   "id": "c23aa40ea9b016d6",
   "execution_count": 10
  },
  {
   "cell_type": "code",
   "outputs": [
    {
     "data": {
      "text/plain": "array([1, 0, 1, 1, 0, 0, 1, 2, 2, 2, 0, 0, 0, 0, 0, 0, 2, 1, 2, 1, 2, 2,\n       0, 0, 0, 0, 1, 2, 0, 0, 1, 0, 2, 2, 1, 1, 0, 1, 1, 0, 0, 2, 2, 2,\n       2, 0, 0, 0, 1, 1, 1, 1, 1, 1, 0, 0, 2, 1, 0, 1, 1, 0, 0, 2, 1, 0,\n       0, 0, 1, 2, 2, 0, 1, 2, 2, 1, 2, 0, 0, 0, 0, 2, 2, 1, 2, 2, 0, 2,\n       0, 1, 1, 1, 1, 1, 0, 1, 0, 2, 2, 2, 1, 0, 1, 1, 2, 1, 1, 2, 0, 1,\n       2, 0, 0, 2, 2, 2, 0, 1, 2, 1, 2, 0, 1, 0, 0, 0, 1, 2, 0, 2, 0, 0,\n       2, 1, 0, 2, 0, 1, 2, 1, 0, 2, 1, 0, 2, 0, 2, 2, 1, 1, 0, 0, 0, 2,\n       1, 0, 1, 0, 0, 2, 2, 1, 1, 0, 0, 1, 0, 0, 0, 2, 2, 0, 2, 2, 1, 2,\n       1, 1, 2, 0, 1, 1, 0, 0, 2, 2, 1, 1, 0, 1, 0, 1, 1, 1, 1, 0, 1, 1,\n       1, 1])"
     },
     "execution_count": 11,
     "metadata": {},
     "output_type": "execute_result"
    }
   ],
   "source": [
    "y_pred"
   ],
   "metadata": {
    "collapsed": false,
    "ExecuteTime": {
     "end_time": "2024-05-11T15:59:19.721987800Z",
     "start_time": "2024-05-11T15:59:19.692003200Z"
    }
   },
   "id": "2348599d876cba0c",
   "execution_count": 11
  },
  {
   "cell_type": "code",
   "outputs": [
    {
     "name": "stdout",
     "output_type": "stream",
     "text": [
      "[[54  7  7]\n",
      " [ 6 45 14]\n",
      " [14 17 36]]\n",
      "              precision    recall  f1-score   support\n",
      "\n",
      "           0       0.73      0.79      0.76        68\n",
      "           1       0.65      0.69      0.67        65\n",
      "           2       0.63      0.54      0.58        67\n",
      "\n",
      "    accuracy                           0.68       200\n",
      "   macro avg       0.67      0.67      0.67       200\n",
      "weighted avg       0.67      0.68      0.67       200\n",
      "\n",
      "0.675\n"
     ]
    }
   ],
   "source": [
    "from sklearn.metrics import accuracy_score, confusion_matrix,classification_report\n",
    "print(confusion_matrix(y_test, y_pred))\n",
    "print(classification_report(y_test, y_pred))\n",
    "print(accuracy_score(y_test, y_pred))"
   ],
   "metadata": {
    "collapsed": false,
    "ExecuteTime": {
     "end_time": "2024-05-11T16:00:17.472756900Z",
     "start_time": "2024-05-11T16:00:17.432335Z"
    }
   },
   "id": "7b36d261befd0484",
   "execution_count": 12
  },
  {
   "cell_type": "code",
   "outputs": [],
   "source": [
    "from sklearn.datasets import load_iris"
   ],
   "metadata": {
    "collapsed": false,
    "ExecuteTime": {
     "end_time": "2024-05-11T16:00:58.230884800Z",
     "start_time": "2024-05-11T16:00:58.211931700Z"
    }
   },
   "id": "6a05f20ed9a164b5",
   "execution_count": 13
  },
  {
   "cell_type": "code",
   "outputs": [],
   "source": [
    "dataset = load_iris()"
   ],
   "metadata": {
    "collapsed": false,
    "ExecuteTime": {
     "end_time": "2024-05-11T16:01:08.853761900Z",
     "start_time": "2024-05-11T16:01:08.815826Z"
    }
   },
   "id": "879a0fd4eea4e95e",
   "execution_count": 14
  },
  {
   "cell_type": "code",
   "outputs": [
    {
     "data": {
      "text/plain": "{'data': array([[5.1, 3.5, 1.4, 0.2],\n        [4.9, 3. , 1.4, 0.2],\n        [4.7, 3.2, 1.3, 0.2],\n        [4.6, 3.1, 1.5, 0.2],\n        [5. , 3.6, 1.4, 0.2],\n        [5.4, 3.9, 1.7, 0.4],\n        [4.6, 3.4, 1.4, 0.3],\n        [5. , 3.4, 1.5, 0.2],\n        [4.4, 2.9, 1.4, 0.2],\n        [4.9, 3.1, 1.5, 0.1],\n        [5.4, 3.7, 1.5, 0.2],\n        [4.8, 3.4, 1.6, 0.2],\n        [4.8, 3. , 1.4, 0.1],\n        [4.3, 3. , 1.1, 0.1],\n        [5.8, 4. , 1.2, 0.2],\n        [5.7, 4.4, 1.5, 0.4],\n        [5.4, 3.9, 1.3, 0.4],\n        [5.1, 3.5, 1.4, 0.3],\n        [5.7, 3.8, 1.7, 0.3],\n        [5.1, 3.8, 1.5, 0.3],\n        [5.4, 3.4, 1.7, 0.2],\n        [5.1, 3.7, 1.5, 0.4],\n        [4.6, 3.6, 1. , 0.2],\n        [5.1, 3.3, 1.7, 0.5],\n        [4.8, 3.4, 1.9, 0.2],\n        [5. , 3. , 1.6, 0.2],\n        [5. , 3.4, 1.6, 0.4],\n        [5.2, 3.5, 1.5, 0.2],\n        [5.2, 3.4, 1.4, 0.2],\n        [4.7, 3.2, 1.6, 0.2],\n        [4.8, 3.1, 1.6, 0.2],\n        [5.4, 3.4, 1.5, 0.4],\n        [5.2, 4.1, 1.5, 0.1],\n        [5.5, 4.2, 1.4, 0.2],\n        [4.9, 3.1, 1.5, 0.2],\n        [5. , 3.2, 1.2, 0.2],\n        [5.5, 3.5, 1.3, 0.2],\n        [4.9, 3.6, 1.4, 0.1],\n        [4.4, 3. , 1.3, 0.2],\n        [5.1, 3.4, 1.5, 0.2],\n        [5. , 3.5, 1.3, 0.3],\n        [4.5, 2.3, 1.3, 0.3],\n        [4.4, 3.2, 1.3, 0.2],\n        [5. , 3.5, 1.6, 0.6],\n        [5.1, 3.8, 1.9, 0.4],\n        [4.8, 3. , 1.4, 0.3],\n        [5.1, 3.8, 1.6, 0.2],\n        [4.6, 3.2, 1.4, 0.2],\n        [5.3, 3.7, 1.5, 0.2],\n        [5. , 3.3, 1.4, 0.2],\n        [7. , 3.2, 4.7, 1.4],\n        [6.4, 3.2, 4.5, 1.5],\n        [6.9, 3.1, 4.9, 1.5],\n        [5.5, 2.3, 4. , 1.3],\n        [6.5, 2.8, 4.6, 1.5],\n        [5.7, 2.8, 4.5, 1.3],\n        [6.3, 3.3, 4.7, 1.6],\n        [4.9, 2.4, 3.3, 1. ],\n        [6.6, 2.9, 4.6, 1.3],\n        [5.2, 2.7, 3.9, 1.4],\n        [5. , 2. , 3.5, 1. ],\n        [5.9, 3. , 4.2, 1.5],\n        [6. , 2.2, 4. , 1. ],\n        [6.1, 2.9, 4.7, 1.4],\n        [5.6, 2.9, 3.6, 1.3],\n        [6.7, 3.1, 4.4, 1.4],\n        [5.6, 3. , 4.5, 1.5],\n        [5.8, 2.7, 4.1, 1. ],\n        [6.2, 2.2, 4.5, 1.5],\n        [5.6, 2.5, 3.9, 1.1],\n        [5.9, 3.2, 4.8, 1.8],\n        [6.1, 2.8, 4. , 1.3],\n        [6.3, 2.5, 4.9, 1.5],\n        [6.1, 2.8, 4.7, 1.2],\n        [6.4, 2.9, 4.3, 1.3],\n        [6.6, 3. , 4.4, 1.4],\n        [6.8, 2.8, 4.8, 1.4],\n        [6.7, 3. , 5. , 1.7],\n        [6. , 2.9, 4.5, 1.5],\n        [5.7, 2.6, 3.5, 1. ],\n        [5.5, 2.4, 3.8, 1.1],\n        [5.5, 2.4, 3.7, 1. ],\n        [5.8, 2.7, 3.9, 1.2],\n        [6. , 2.7, 5.1, 1.6],\n        [5.4, 3. , 4.5, 1.5],\n        [6. , 3.4, 4.5, 1.6],\n        [6.7, 3.1, 4.7, 1.5],\n        [6.3, 2.3, 4.4, 1.3],\n        [5.6, 3. , 4.1, 1.3],\n        [5.5, 2.5, 4. , 1.3],\n        [5.5, 2.6, 4.4, 1.2],\n        [6.1, 3. , 4.6, 1.4],\n        [5.8, 2.6, 4. , 1.2],\n        [5. , 2.3, 3.3, 1. ],\n        [5.6, 2.7, 4.2, 1.3],\n        [5.7, 3. , 4.2, 1.2],\n        [5.7, 2.9, 4.2, 1.3],\n        [6.2, 2.9, 4.3, 1.3],\n        [5.1, 2.5, 3. , 1.1],\n        [5.7, 2.8, 4.1, 1.3],\n        [6.3, 3.3, 6. , 2.5],\n        [5.8, 2.7, 5.1, 1.9],\n        [7.1, 3. , 5.9, 2.1],\n        [6.3, 2.9, 5.6, 1.8],\n        [6.5, 3. , 5.8, 2.2],\n        [7.6, 3. , 6.6, 2.1],\n        [4.9, 2.5, 4.5, 1.7],\n        [7.3, 2.9, 6.3, 1.8],\n        [6.7, 2.5, 5.8, 1.8],\n        [7.2, 3.6, 6.1, 2.5],\n        [6.5, 3.2, 5.1, 2. ],\n        [6.4, 2.7, 5.3, 1.9],\n        [6.8, 3. , 5.5, 2.1],\n        [5.7, 2.5, 5. , 2. ],\n        [5.8, 2.8, 5.1, 2.4],\n        [6.4, 3.2, 5.3, 2.3],\n        [6.5, 3. , 5.5, 1.8],\n        [7.7, 3.8, 6.7, 2.2],\n        [7.7, 2.6, 6.9, 2.3],\n        [6. , 2.2, 5. , 1.5],\n        [6.9, 3.2, 5.7, 2.3],\n        [5.6, 2.8, 4.9, 2. ],\n        [7.7, 2.8, 6.7, 2. ],\n        [6.3, 2.7, 4.9, 1.8],\n        [6.7, 3.3, 5.7, 2.1],\n        [7.2, 3.2, 6. , 1.8],\n        [6.2, 2.8, 4.8, 1.8],\n        [6.1, 3. , 4.9, 1.8],\n        [6.4, 2.8, 5.6, 2.1],\n        [7.2, 3. , 5.8, 1.6],\n        [7.4, 2.8, 6.1, 1.9],\n        [7.9, 3.8, 6.4, 2. ],\n        [6.4, 2.8, 5.6, 2.2],\n        [6.3, 2.8, 5.1, 1.5],\n        [6.1, 2.6, 5.6, 1.4],\n        [7.7, 3. , 6.1, 2.3],\n        [6.3, 3.4, 5.6, 2.4],\n        [6.4, 3.1, 5.5, 1.8],\n        [6. , 3. , 4.8, 1.8],\n        [6.9, 3.1, 5.4, 2.1],\n        [6.7, 3.1, 5.6, 2.4],\n        [6.9, 3.1, 5.1, 2.3],\n        [5.8, 2.7, 5.1, 1.9],\n        [6.8, 3.2, 5.9, 2.3],\n        [6.7, 3.3, 5.7, 2.5],\n        [6.7, 3. , 5.2, 2.3],\n        [6.3, 2.5, 5. , 1.9],\n        [6.5, 3. , 5.2, 2. ],\n        [6.2, 3.4, 5.4, 2.3],\n        [5.9, 3. , 5.1, 1.8]]),\n 'target': array([0, 0, 0, 0, 0, 0, 0, 0, 0, 0, 0, 0, 0, 0, 0, 0, 0, 0, 0, 0, 0, 0,\n        0, 0, 0, 0, 0, 0, 0, 0, 0, 0, 0, 0, 0, 0, 0, 0, 0, 0, 0, 0, 0, 0,\n        0, 0, 0, 0, 0, 0, 1, 1, 1, 1, 1, 1, 1, 1, 1, 1, 1, 1, 1, 1, 1, 1,\n        1, 1, 1, 1, 1, 1, 1, 1, 1, 1, 1, 1, 1, 1, 1, 1, 1, 1, 1, 1, 1, 1,\n        1, 1, 1, 1, 1, 1, 1, 1, 1, 1, 1, 1, 2, 2, 2, 2, 2, 2, 2, 2, 2, 2,\n        2, 2, 2, 2, 2, 2, 2, 2, 2, 2, 2, 2, 2, 2, 2, 2, 2, 2, 2, 2, 2, 2,\n        2, 2, 2, 2, 2, 2, 2, 2, 2, 2, 2, 2, 2, 2, 2, 2, 2, 2]),\n 'frame': None,\n 'target_names': array(['setosa', 'versicolor', 'virginica'], dtype='<U10'),\n 'DESCR': '.. _iris_dataset:\\n\\nIris plants dataset\\n--------------------\\n\\n**Data Set Characteristics:**\\n\\n:Number of Instances: 150 (50 in each of three classes)\\n:Number of Attributes: 4 numeric, predictive attributes and the class\\n:Attribute Information:\\n    - sepal length in cm\\n    - sepal width in cm\\n    - petal length in cm\\n    - petal width in cm\\n    - class:\\n            - Iris-Setosa\\n            - Iris-Versicolour\\n            - Iris-Virginica\\n\\n:Summary Statistics:\\n\\n============== ==== ==== ======= ===== ====================\\n                Min  Max   Mean    SD   Class Correlation\\n============== ==== ==== ======= ===== ====================\\nsepal length:   4.3  7.9   5.84   0.83    0.7826\\nsepal width:    2.0  4.4   3.05   0.43   -0.4194\\npetal length:   1.0  6.9   3.76   1.76    0.9490  (high!)\\npetal width:    0.1  2.5   1.20   0.76    0.9565  (high!)\\n============== ==== ==== ======= ===== ====================\\n\\n:Missing Attribute Values: None\\n:Class Distribution: 33.3% for each of 3 classes.\\n:Creator: R.A. Fisher\\n:Donor: Michael Marshall (MARSHALL%PLU@io.arc.nasa.gov)\\n:Date: July, 1988\\n\\nThe famous Iris database, first used by Sir R.A. Fisher. The dataset is taken\\nfrom Fisher\\'s paper. Note that it\\'s the same as in R, but not as in the UCI\\nMachine Learning Repository, which has two wrong data points.\\n\\nThis is perhaps the best known database to be found in the\\npattern recognition literature.  Fisher\\'s paper is a classic in the field and\\nis referenced frequently to this day.  (See Duda & Hart, for example.)  The\\ndata set contains 3 classes of 50 instances each, where each class refers to a\\ntype of iris plant.  One class is linearly separable from the other 2; the\\nlatter are NOT linearly separable from each other.\\n\\n|details-start|\\n**References**\\n|details-split|\\n\\n- Fisher, R.A. \"The use of multiple measurements in taxonomic problems\"\\n  Annual Eugenics, 7, Part II, 179-188 (1936); also in \"Contributions to\\n  Mathematical Statistics\" (John Wiley, NY, 1950).\\n- Duda, R.O., & Hart, P.E. (1973) Pattern Classification and Scene Analysis.\\n  (Q327.D83) John Wiley & Sons.  ISBN 0-471-22361-1.  See page 218.\\n- Dasarathy, B.V. (1980) \"Nosing Around the Neighborhood: A New System\\n  Structure and Classification Rule for Recognition in Partially Exposed\\n  Environments\".  IEEE Transactions on Pattern Analysis and Machine\\n  Intelligence, Vol. PAMI-2, No. 1, 67-71.\\n- Gates, G.W. (1972) \"The Reduced Nearest Neighbor Rule\".  IEEE Transactions\\n  on Information Theory, May 1972, 431-433.\\n- See also: 1988 MLC Proceedings, 54-64.  Cheeseman et al\"s AUTOCLASS II\\n  conceptual clustering system finds 3 classes in the data.\\n- Many, many more ...\\n\\n|details-end|\\n',\n 'feature_names': ['sepal length (cm)',\n  'sepal width (cm)',\n  'petal length (cm)',\n  'petal width (cm)'],\n 'filename': 'iris.csv',\n 'data_module': 'sklearn.datasets.data'}"
     },
     "execution_count": 15,
     "metadata": {},
     "output_type": "execute_result"
    }
   ],
   "source": [
    "dataset"
   ],
   "metadata": {
    "collapsed": false,
    "ExecuteTime": {
     "end_time": "2024-05-11T16:01:14.622905700Z",
     "start_time": "2024-05-11T16:01:14.572013900Z"
    }
   },
   "id": "d4a5fa1b0a64e1dc",
   "execution_count": 15
  },
  {
   "cell_type": "code",
   "outputs": [],
   "source": [
    "import pandas as pd\n",
    "import numpy as np"
   ],
   "metadata": {
    "collapsed": false,
    "ExecuteTime": {
     "end_time": "2024-05-11T16:01:53.698862200Z",
     "start_time": "2024-05-11T16:01:53.675926200Z"
    }
   },
   "id": "7430e15500863b08",
   "execution_count": 16
  },
  {
   "cell_type": "code",
   "outputs": [],
   "source": [
    "df = pd.DataFrame(dataset.data, columns=dataset.feature_names)"
   ],
   "metadata": {
    "collapsed": false,
    "ExecuteTime": {
     "end_time": "2024-05-11T16:02:14.253555900Z",
     "start_time": "2024-05-11T16:02:14.235571500Z"
    }
   },
   "id": "fd2baa94d4947599",
   "execution_count": 17
  },
  {
   "cell_type": "code",
   "outputs": [
    {
     "data": {
      "text/plain": "   sepal length (cm)  sepal width (cm)  petal length (cm)  petal width (cm)\n0                5.1               3.5                1.4               0.2\n1                4.9               3.0                1.4               0.2\n2                4.7               3.2                1.3               0.2\n3                4.6               3.1                1.5               0.2\n4                5.0               3.6                1.4               0.2",
      "text/html": "<div>\n<style scoped>\n    .dataframe tbody tr th:only-of-type {\n        vertical-align: middle;\n    }\n\n    .dataframe tbody tr th {\n        vertical-align: top;\n    }\n\n    .dataframe thead th {\n        text-align: right;\n    }\n</style>\n<table border=\"1\" class=\"dataframe\">\n  <thead>\n    <tr style=\"text-align: right;\">\n      <th></th>\n      <th>sepal length (cm)</th>\n      <th>sepal width (cm)</th>\n      <th>petal length (cm)</th>\n      <th>petal width (cm)</th>\n    </tr>\n  </thead>\n  <tbody>\n    <tr>\n      <th>0</th>\n      <td>5.1</td>\n      <td>3.5</td>\n      <td>1.4</td>\n      <td>0.2</td>\n    </tr>\n    <tr>\n      <th>1</th>\n      <td>4.9</td>\n      <td>3.0</td>\n      <td>1.4</td>\n      <td>0.2</td>\n    </tr>\n    <tr>\n      <th>2</th>\n      <td>4.7</td>\n      <td>3.2</td>\n      <td>1.3</td>\n      <td>0.2</td>\n    </tr>\n    <tr>\n      <th>3</th>\n      <td>4.6</td>\n      <td>3.1</td>\n      <td>1.5</td>\n      <td>0.2</td>\n    </tr>\n    <tr>\n      <th>4</th>\n      <td>5.0</td>\n      <td>3.6</td>\n      <td>1.4</td>\n      <td>0.2</td>\n    </tr>\n  </tbody>\n</table>\n</div>"
     },
     "execution_count": 18,
     "metadata": {},
     "output_type": "execute_result"
    }
   ],
   "source": [
    "df.head()"
   ],
   "metadata": {
    "collapsed": false,
    "ExecuteTime": {
     "end_time": "2024-05-11T16:02:16.818457700Z",
     "start_time": "2024-05-11T16:02:16.785023700Z"
    }
   },
   "id": "829b30e4877a5c9f",
   "execution_count": 18
  },
  {
   "cell_type": "code",
   "outputs": [],
   "source": [],
   "metadata": {
    "collapsed": false
   },
   "id": "ffae1d30395f39d8"
  }
 ],
 "metadata": {
  "kernelspec": {
   "display_name": "Python 3",
   "language": "python",
   "name": "python3"
  },
  "language_info": {
   "codemirror_mode": {
    "name": "ipython",
    "version": 2
   },
   "file_extension": ".py",
   "mimetype": "text/x-python",
   "name": "python",
   "nbconvert_exporter": "python",
   "pygments_lexer": "ipython2",
   "version": "2.7.6"
  }
 },
 "nbformat": 4,
 "nbformat_minor": 5
}
