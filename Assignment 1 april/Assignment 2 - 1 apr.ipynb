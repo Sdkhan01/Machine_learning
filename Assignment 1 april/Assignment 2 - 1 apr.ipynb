{
 "cells": [
  {
   "cell_type": "markdown",
   "source": [
    "## Assignment 2 - 1 apr"
   ],
   "metadata": {
    "collapsed": false
   },
   "id": "4a3ace4b6d0250df"
  },
  {
   "cell_type": "markdown",
   "source": [
    "### Q1. What is the purpose of grid search cv in machine learning, and how does it work?"
   ],
   "metadata": {
    "collapsed": false
   },
   "id": "acb06886e6982168"
  },
  {
   "cell_type": "markdown",
   "source": [
    "##### Answer 1: It takes all possible combination and choose the one with best accuracy.GridSearchCV is a hyperparameter tuning technique that is used to find the best hyperparameters for a model. It is an exhaustive search over a specified parameter grid. It is used to find the best hyperparameters for a model by evaluating the model's performance on a validation set for each combination of hyperparameters in the grid. The grid search algorithm works by training the model on the training data with each combination of hyperparameters in the grid and evaluating the model's performance on the validation data. The hyperparameters that give the best performance on the validation data are selected as the best hyperparameters for the model."
   ],
   "metadata": {
    "collapsed": false
   },
   "id": "209247119e2572cf"
  },
  {
   "cell_type": "markdown",
   "source": [
    "### Q2. Describe the difference between grid search cv and randomize search cv, and when might you choose one over the other?"
   ],
   "metadata": {
    "collapsed": false
   },
   "id": "e6857670ce811183"
  },
  {
   "cell_type": "markdown",
   "source": [
    "Answer 2 : GridSearchCV is an exhaustive search over a specified parameter grid, while RandomizedSearchCV is a random search over a specified parameter grid. GridSearchCV evaluates all possible combinations of hyperparameters in the grid, while RandomizedSearchCV evaluates a random sample of hyperparameters from the grid. GridSearchCV is computationally expensive and can take a long time to run, while RandomizedSearchCV is less computationally expensive and can run faster. GridSearchCV is best suited for small parameter grids, while RandomizedSearchCV is best suited for large parameter grids. GridSearchCV is best suited for finding the best hyperparameters for a model, while RandomizedSearchCV is best suited for finding good hyperparameters for a model.\n",
    "\n",
    "Advantages of GridSearchCV:Increase model performance and accuracy, Find the best hyperparameters for a model, Exhaustive search over a specified parameter grid, Evaluate all possible combinations of hyperparameters in the grid, Best suited for small parameter grids.\n",
    "\n",
    "Advantages of RandomizedSearchCV:Time complexity decreases and Less computationally expensive, Faster run time, Random search over a specified parameter grid, Evaluate a random sample of hyperparameters from the grid, Best suited for large parameter grids, Find good hyperparameters for a model."
   ],
   "metadata": {
    "collapsed": false
   },
   "id": "8a8b9694c223bbe3"
  },
  {
   "cell_type": "markdown",
   "source": [],
   "metadata": {
    "collapsed": false
   },
   "id": "33253413c3dcc3f0"
  },
  {
   "cell_type": "markdown",
   "source": [
    "### Q3 - Q3. What is data leakage, and why is it a problem in machine learning? Provide an example."
   ],
   "metadata": {
    "collapsed": false
   },
   "id": "5782c7baed2fec8b"
  },
  {
   "cell_type": "markdown",
   "source": [
    "Answer 3- Data leakage is a problem in machine learning where information from the training data is used to make predictions on the test data, leading to inflated performance metrics and inaccurate model evaluation. Data leakage can occur when the training data contains information that is not available in the test data, leading to overfitting and poor generalization of the model. Data leakage can also occur when the training data contains information that is not available in the real-world data, leading to poor performance of the model in production. "
   ],
   "metadata": {
    "collapsed": false
   },
   "id": "445ecc420eb1b031"
  },
  {
   "cell_type": "markdown",
   "source": [
    "### Q4. How can you prevent data leakage when building a machine learning model?"
   ],
   "metadata": {
    "collapsed": false
   },
   "id": "8a3d8b96af924c8d"
  },
  {
   "cell_type": "markdown",
   "source": [
    "Answer 4- Data leakage can be prevented by following best practices in data preprocessing, feature engineering, and model evaluation. Some ways to prevent data leakage when building a machine learning model include:\n",
    " Splitting the data into training and test sets before preprocessing the data\n",
    " Using cross-validation to evaluate the model performance\n",
    " \n",
    " Using time-based splitting for time series data\n",
    " \n",
    " Removing features that contain information that is not available in the test data\n",
    " \n",
    " Using feature scaling and normalization techniques\n"
   ],
   "metadata": {
    "collapsed": false
   },
   "id": "d5286b1d43b38188"
  },
  {
   "cell_type": "markdown",
   "source": [
    "### Q5. What is a confusion matrix, and what does it tell you about the performance of a classification model?"
   ],
   "metadata": {
    "collapsed": false
   },
   "id": "80ff4bd3614d287e"
  },
  {
   "cell_type": "markdown",
   "source": [
    "Answer 5- A confusion matrix is a table that is used to evaluate the performance of a classification model. It shows the number of true positive, true negative, false positive, and false negative predictions made by the model. A confusion matrix provides a detailed breakdown of the model's performance on the test data, allowing you to evaluate the model's accuracy, precision, recall, and F1 score. It helps you to understand how well the model is performing and identify areas where the model can be improved."
   ],
   "metadata": {
    "collapsed": false
   },
   "id": "71fed0670ebff6c"
  },
  {
   "cell_type": "markdown",
   "source": [
    "### Q6. Explain the difference between precision and recall in the context of a confusion matrix."
   ],
   "metadata": {
    "collapsed": false
   },
   "id": "2bca732502961eba"
  },
  {
   "cell_type": "markdown",
   "source": [
    "Answer 6- Precision and recall are two important metrics that are used to evaluate the performance of a classification model. Precision is the ratio of true positive predictions to the total number of positive predictions made by the model. It measures the accuracy of the positive predictions made by the model. Recall is the ratio of true positive predictions to the total number of actual positive instances in the test data. It measures the ability of the model to identify all positive instances in the test data. Precision and recall are inversely related, meaning that as precision increases, recall decreases, and vice versa. A high precision value indicates that the model is making accurate positive predictions, while a high recall value indicates that the model is identifying all positive instances in the test data."
   ],
   "metadata": {
    "collapsed": false
   },
   "id": "1660299144d6567"
  },
  {
   "cell_type": "markdown",
   "source": [
    "### Q7. How can you interpret a confusion matrix to determine which types of errors your model is making?"
   ],
   "metadata": {
    "collapsed": false
   },
   "id": "fc522519b6c8caab"
  },
  {
   "cell_type": "markdown",
   "source": [
    "Answer 7- A confusion matrix provides a detailed breakdown of the model's performance on the test data, allowing you to evaluate the model's accuracy, precision, recall, and F1 score. By analyzing the confusion matrix, you can determine which types of errors your model is making and identify areas where the model can be improved. For example, if the model is making a high number of false positive predictions, it may be overfitting the training data. If the model is making a high number of false negative predictions, it may be underfitting the training data. By analyzing the confusion matrix, you can identify the strengths and weaknesses of the model and make adjustments to improve its performance."
   ],
   "metadata": {
    "collapsed": false
   },
   "id": "bc45af65ba0fccc6"
  },
  {
   "cell_type": "markdown",
   "source": [
    "### Q8. What are some common metrics that can be derived from a confusion matrix, and how are they calculated?"
   ],
   "metadata": {
    "collapsed": false
   },
   "id": "366fb34bdc529b90"
  },
  {
   "cell_type": "markdown",
   "source": [
    "Answer 8- Some common metrics that can be derived from a confusion matrix include accuracy, precision, recall, and F1 score. These metrics are calculated using the values in the confusion matrix as follows:\n",
    "\n",
    "Accuracy is the ratio of the sum of true positive and true negative predictions to the total number of predictions made by the model. It measures the overall performance of the model on the test data.\n",
    "\n",
    "Precision is the ratio of true positive predictions to the sum of true positive and false positive predictions made by the model. It measures the accuracy of the positive predictions made by the model.\n",
    "\n",
    "Recall is the ratio of true positive predictions to the sum of true positive and false negative predictions made by the model. It measures the ability of the model to identify all positive instances in the test data.\n",
    "\n",
    "F1 score is the harmonic mean of precision and recall. It provides a balance between precision and recall, taking into account both false positive and false negative predictions made by the model.\n",
    "\n",
    "These metrics provide a comprehensive evaluation of the model's performance on the test data, allowing you to identify areas where the model can be improved and make adjustments to improve its performance."
   ],
   "metadata": {
    "collapsed": false
   },
   "id": "39ed3be9afb4a224"
  },
  {
   "cell_type": "markdown",
   "source": [
    "### Q9. What is the relationship between the accuracy of a model and the values in its confusion matrix?"
   ],
   "metadata": {
    "collapsed": false
   },
   "id": "4a353b1da7ba53fc"
  },
  {
   "cell_type": "markdown",
   "source": [
    "Answer 9- The accuracy of a model is the ratio of the sum of true positive and true negative predictions to the total number of predictions made by the model. It measures the overall performance of the model on the test data. The values in the confusion matrix, such as true positive, true negative, false positive, and false negative predictions, are used to calculate the accuracy of the model. The accuracy of a model is influenced by the values in the confusion matrix, such as the number of correct and incorrect predictions made by the model. A high accuracy value indicates that the model is making accurate predictions on the test data, while a low accuracy value indicates that the model is making incorrect predictions on the test data. By analyzing the values in the confusion matrix, you can determine the accuracy of the model and identify areas where the model can be improved."
   ],
   "metadata": {
    "collapsed": false
   },
   "id": "2495c8e4e79f3883"
  },
  {
   "cell_type": "markdown",
   "source": [
    "### Q10. How can you use a confusion matrix to identify potential biases or limitations in your machine learning model?"
   ],
   "metadata": {
    "collapsed": false
   },
   "id": "49c2acc1af39d35c"
  },
  {
   "cell_type": "markdown",
   "source": [
    "Answer 10- A confusion matrix provides a detailed breakdown of the model's performance on the test data, allowing you to evaluate the model's accuracy, precision, recall, and F1 score. By analyzing the confusion matrix, you can identify potential biases or limitations in your machine learning model. For example, if the model is making a high number of false positive predictions, it may be overfitting the training data. If the model is making a high number of false negative predictions, it may be underfitting the training data. By analyzing the confusion matrix, you can identify the strengths and weaknesses of the model and make adjustments to improve its performance."
   ],
   "metadata": {
    "collapsed": false
   },
   "id": "a7d2b81fca9df54b"
  },
  {
   "cell_type": "markdown",
   "source": [],
   "metadata": {
    "collapsed": false
   },
   "id": "4f3f1fa7e7145413"
  },
  {
   "cell_type": "markdown",
   "source": [],
   "metadata": {
    "collapsed": false
   },
   "id": "ba1ca20bcc4c0aa9"
  },
  {
   "cell_type": "markdown",
   "source": [],
   "metadata": {
    "collapsed": false
   },
   "id": "ddae262da1ca09ac"
  },
  {
   "cell_type": "markdown",
   "source": [],
   "metadata": {
    "collapsed": false
   },
   "id": "ec73bdb76e18aee9"
  }
 ],
 "metadata": {
  "kernelspec": {
   "display_name": "Python 3",
   "language": "python",
   "name": "python3"
  },
  "language_info": {
   "codemirror_mode": {
    "name": "ipython",
    "version": 2
   },
   "file_extension": ".py",
   "mimetype": "text/x-python",
   "name": "python",
   "nbconvert_exporter": "python",
   "pygments_lexer": "ipython2",
   "version": "2.7.6"
  }
 },
 "nbformat": 4,
 "nbformat_minor": 5
}
