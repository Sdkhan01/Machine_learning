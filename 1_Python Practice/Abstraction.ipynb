{
 "cells": [
  {
   "cell_type": "code",
   "execution_count": 3,
   "id": "initial_id",
   "metadata": {
    "collapsed": true,
    "ExecuteTime": {
     "end_time": "2024-07-08T11:00:23.266885100Z",
     "start_time": "2024-07-08T11:00:23.246905200Z"
    }
   },
   "outputs": [],
   "source": [
    "## abstraction is the process of hiding the implementation details of an object and showing only the necessary features of the object.\n",
    "\n",
    "## In python, we can implement abstraction using abstract classes and interfaces.\n",
    "\n",
    "## Abstract class is a class that contains one or more abstract methods. An abstract method is a method that is declared, but contains no implementation."
   ]
  },
  {
   "cell_type": "code",
   "outputs": [],
   "source": [
    "import abc\n",
    "\n",
    "class pwskills:\n",
    "    @abc.abstractmethod\n",
    "    def stud_name(self):\n",
    "        pass\n",
    "    \n",
    "    @abc.abstractmethod\n",
    "    def stud_age(self):\n",
    "        pass\n",
    "    \n",
    "    @abc.abstractmethod\n",
    "    def stud_grade(self):\n",
    "        pass\n",
    "    \n",
    "    @abc.abstractmethod\n",
    "    def stud_class(self):\n",
    "        pass\n",
    "    "
   ],
   "metadata": {
    "collapsed": false,
    "ExecuteTime": {
     "end_time": "2024-07-08T11:03:56.760314600Z",
     "start_time": "2024-07-08T11:03:56.737378900Z"
    }
   },
   "id": "ef1173f79eb8b3a8",
   "execution_count": 4
  },
  {
   "cell_type": "code",
   "outputs": [],
   "source": [
    "class student_details(pwskills):\n",
    "    def stud_name(self):\n",
    "        return \"John\"\n",
    "    def stud_age(self):\n",
    "        return 15\n",
    "    def stud_grade(self):\n",
    "        return \"A\"\n",
    "    def stud_class(self):\n",
    "        return 10"
   ],
   "metadata": {
    "collapsed": false,
    "ExecuteTime": {
     "end_time": "2024-07-08T11:12:25.753820700Z",
     "start_time": "2024-07-08T11:12:25.736844900Z"
    }
   },
   "id": "1afc897c40342f2c",
   "execution_count": 5
  },
  {
   "cell_type": "code",
   "outputs": [],
   "source": [
    "class data_sheet(pwskills):\n",
    "    def stud_age(self):\n",
    "        return 16\n",
    "    def stud_grade(self):\n",
    "        return \"B\"\n",
    "    def stud_class(self):\n",
    "        return 11\n",
    "    def stud_name(self):\n",
    "        return \"Mark\"\n",
    "    "
   ],
   "metadata": {
    "collapsed": false,
    "ExecuteTime": {
     "end_time": "2024-07-08T11:16:40.403135600Z",
     "start_time": "2024-07-08T11:16:40.392164900Z"
    }
   },
   "id": "e1803cfa0c2f4bfb",
   "execution_count": 14
  },
  {
   "cell_type": "code",
   "outputs": [],
   "source": [
    "s1 = student_details()\n"
   ],
   "metadata": {
    "collapsed": false,
    "ExecuteTime": {
     "end_time": "2024-07-08T11:16:40.770607200Z",
     "start_time": "2024-07-08T11:16:40.753654600Z"
    }
   },
   "id": "68a7d409ef21c90c",
   "execution_count": 15
  },
  {
   "cell_type": "code",
   "outputs": [
    {
     "data": {
      "text/plain": "'John'"
     },
     "execution_count": 16,
     "metadata": {},
     "output_type": "execute_result"
    }
   ],
   "source": [
    "s1.stud_name()\n"
   ],
   "metadata": {
    "collapsed": false,
    "ExecuteTime": {
     "end_time": "2024-07-08T11:16:41.125730100Z",
     "start_time": "2024-07-08T11:16:41.101769900Z"
    }
   },
   "id": "b22bc54f2a591ee6",
   "execution_count": 16
  },
  {
   "cell_type": "code",
   "outputs": [
    {
     "data": {
      "text/plain": "15"
     },
     "execution_count": 17,
     "metadata": {},
     "output_type": "execute_result"
    }
   ],
   "source": [
    "s1.stud_age()"
   ],
   "metadata": {
    "collapsed": false,
    "ExecuteTime": {
     "end_time": "2024-07-08T11:16:41.394245600Z",
     "start_time": "2024-07-08T11:16:41.373268800Z"
    }
   },
   "id": "1e931d85685e9e34",
   "execution_count": 17
  },
  {
   "cell_type": "code",
   "outputs": [],
   "source": [
    "s2 = data_sheet()\n"
   ],
   "metadata": {
    "collapsed": false,
    "ExecuteTime": {
     "end_time": "2024-07-08T11:16:41.728453500Z",
     "start_time": "2024-07-08T11:16:41.703521300Z"
    }
   },
   "id": "8014cacccc310133",
   "execution_count": 18
  },
  {
   "cell_type": "code",
   "outputs": [
    {
     "data": {
      "text/plain": "16"
     },
     "execution_count": 19,
     "metadata": {},
     "output_type": "execute_result"
    }
   ],
   "source": [
    "s2.stud_age()"
   ],
   "metadata": {
    "collapsed": false,
    "ExecuteTime": {
     "end_time": "2024-07-08T11:16:42.040769200Z",
     "start_time": "2024-07-08T11:16:42.013843Z"
    }
   },
   "id": "69a152c20b433893",
   "execution_count": 19
  },
  {
   "cell_type": "code",
   "outputs": [
    {
     "name": "stdout",
     "output_type": "stream",
     "text": [
      "John\n",
      "15\n",
      "A\n",
      "10\n",
      "\n",
      "\n",
      "Mark\n",
      "16\n",
      "B\n",
      "11\n"
     ]
    }
   ],
   "source": [
    "for detail in (s1,s2):\n",
    "    print(detail.stud_name())\n",
    "    print(detail.stud_age())\n",
    "    print(detail.stud_grade())\n",
    "    print(detail.stud_class())\n",
    "    print(\"\\n\")"
   ],
   "metadata": {
    "collapsed": false,
    "ExecuteTime": {
     "end_time": "2024-07-08T11:16:42.314542600Z",
     "start_time": "2024-07-08T11:16:42.303563200Z"
    }
   },
   "id": "d3bf0371eaf546bd",
   "execution_count": 20
  },
  {
   "cell_type": "code",
   "outputs": [],
   "source": [],
   "metadata": {
    "collapsed": false
   },
   "id": "7b4e43e91fa8d40f"
  }
 ],
 "metadata": {
  "kernelspec": {
   "display_name": "Python 3",
   "language": "python",
   "name": "python3"
  },
  "language_info": {
   "codemirror_mode": {
    "name": "ipython",
    "version": 2
   },
   "file_extension": ".py",
   "mimetype": "text/x-python",
   "name": "python",
   "nbconvert_exporter": "python",
   "pygments_lexer": "ipython2",
   "version": "2.7.6"
  }
 },
 "nbformat": 4,
 "nbformat_minor": 5
}
