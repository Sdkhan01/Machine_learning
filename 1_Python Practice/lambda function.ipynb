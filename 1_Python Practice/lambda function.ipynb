{
 "cells": [
  {
   "cell_type": "code",
   "execution_count": 1,
   "id": "initial_id",
   "metadata": {
    "collapsed": true,
    "ExecuteTime": {
     "end_time": "2024-07-07T07:12:30.502848900Z",
     "start_time": "2024-07-07T07:12:30.489909600Z"
    }
   },
   "outputs": [],
   "source": [
    "## labmda function"
   ]
  },
  {
   "cell_type": "code",
   "outputs": [],
   "source": [
    "# lambda function\n",
    "# lambda arguments: expression\n",
    "#it can have any number of arguments but only one expression\n",
    "# it is syntactically restricted to a single expression\n",
    "# it is used when a function is needed for a short period of time\n",
    "# it is used along with built-in functions like filter(), map() and reduce()\n",
    "# it is used along with user-defined functions\n",
    "# it is used along with conditional statements\n",
    "# it is used along with sorting functions\n",
    "# it is used along with functions that return functions\n",
    "# it is used along with functions that accept functions as arguments\n",
    "# it is used along with functions that return functions"
   ],
   "metadata": {
    "collapsed": false,
    "ExecuteTime": {
     "end_time": "2024-07-07T07:13:45.192240800Z",
     "start_time": "2024-07-07T07:13:45.135843200Z"
    }
   },
   "id": "c04e138243d31b2f",
   "execution_count": 2
  },
  {
   "cell_type": "code",
   "outputs": [],
   "source": [
    "def test(m,p):\n",
    "    return m**p\n"
   ],
   "metadata": {
    "collapsed": false,
    "ExecuteTime": {
     "end_time": "2024-07-07T07:14:33.481180800Z",
     "start_time": "2024-07-07T07:14:33.451228900Z"
    }
   },
   "id": "d0db103216f831b7",
   "execution_count": 5
  },
  {
   "cell_type": "code",
   "outputs": [
    {
     "data": {
      "text/plain": "8"
     },
     "execution_count": 6,
     "metadata": {},
     "output_type": "execute_result"
    }
   ],
   "source": [
    "test(2,3)"
   ],
   "metadata": {
    "collapsed": false,
    "ExecuteTime": {
     "end_time": "2024-07-07T07:14:34.146616900Z",
     "start_time": "2024-07-07T07:14:34.120470400Z"
    }
   },
   "id": "ca97b2486e161db6",
   "execution_count": 6
  },
  {
   "cell_type": "code",
   "outputs": [],
   "source": [
    "#using labmda function\n",
    "\n",
    "pow = lambda n,p : n**p"
   ],
   "metadata": {
    "collapsed": false,
    "ExecuteTime": {
     "end_time": "2024-07-07T07:16:46.140702700Z",
     "start_time": "2024-07-07T07:16:46.120756300Z"
    }
   },
   "id": "8583eafd293cdf14",
   "execution_count": 8
  },
  {
   "cell_type": "code",
   "outputs": [
    {
     "data": {
      "text/plain": "8"
     },
     "execution_count": 9,
     "metadata": {},
     "output_type": "execute_result"
    }
   ],
   "source": [
    "pow(2,3)"
   ],
   "metadata": {
    "collapsed": false,
    "ExecuteTime": {
     "end_time": "2024-07-07T07:16:51.311398300Z",
     "start_time": "2024-07-07T07:16:51.270499400Z"
    }
   },
   "id": "1a419554ad445ef2",
   "execution_count": 9
  },
  {
   "cell_type": "code",
   "outputs": [
    {
     "data": {
      "text/plain": "5"
     },
     "execution_count": 10,
     "metadata": {},
     "output_type": "execute_result"
    }
   ],
   "source": [
    "## addition\n",
    "\n",
    "add = lambda  a,b : a+b\n",
    "add(2,3)"
   ],
   "metadata": {
    "collapsed": false,
    "ExecuteTime": {
     "end_time": "2024-07-07T07:17:23.693174500Z",
     "start_time": "2024-07-07T07:17:23.657657900Z"
    }
   },
   "id": "a8bb143d31dd3c46",
   "execution_count": 10
  },
  {
   "cell_type": "code",
   "outputs": [
    {
     "data": {
      "text/plain": "11"
     },
     "execution_count": 11,
     "metadata": {},
     "output_type": "execute_result"
    }
   ],
   "source": [
    "add(5,6)"
   ],
   "metadata": {
    "collapsed": false,
    "ExecuteTime": {
     "end_time": "2024-07-07T07:17:32.801866900Z",
     "start_time": "2024-07-07T07:17:32.777316700Z"
    }
   },
   "id": "32083fee8fa8ad8e",
   "execution_count": 11
  },
  {
   "cell_type": "code",
   "outputs": [],
   "source": [
    "c_Tof = lambda c : c*9/5 + 32"
   ],
   "metadata": {
    "collapsed": false,
    "ExecuteTime": {
     "end_time": "2024-07-07T07:18:18.714558300Z",
     "start_time": "2024-07-07T07:18:18.681860800Z"
    }
   },
   "id": "391b9894174122f0",
   "execution_count": 12
  },
  {
   "cell_type": "code",
   "outputs": [
    {
     "data": {
      "text/plain": "98.6"
     },
     "execution_count": 13,
     "metadata": {},
     "output_type": "execute_result"
    }
   ],
   "source": [
    "c_Tof(37)"
   ],
   "metadata": {
    "collapsed": false,
    "ExecuteTime": {
     "end_time": "2024-07-07T07:18:32.862055Z",
     "start_time": "2024-07-07T07:18:32.826559500Z"
    }
   },
   "id": "739d29183f81f020",
   "execution_count": 13
  },
  {
   "cell_type": "code",
   "outputs": [
    {
     "data": {
      "text/plain": "6"
     },
     "execution_count": 14,
     "metadata": {},
     "output_type": "execute_result"
    }
   ],
   "source": [
    "find_max = lambda a,b : a if a>b else b\n",
    "find_max(5,6)"
   ],
   "metadata": {
    "collapsed": false,
    "ExecuteTime": {
     "end_time": "2024-07-07T07:19:17.971907100Z",
     "start_time": "2024-07-07T07:19:17.945976700Z"
    }
   },
   "id": "5141b0b1e345e30a",
   "execution_count": 14
  },
  {
   "cell_type": "code",
   "outputs": [
    {
     "data": {
      "text/plain": "5"
     },
     "execution_count": 1,
     "metadata": {},
     "output_type": "execute_result"
    }
   ],
   "source": [
    "count_x = lambda s :len(s)\n",
    "count_x('hello')"
   ],
   "metadata": {
    "collapsed": false,
    "ExecuteTime": {
     "end_time": "2024-07-07T07:21:16.755454500Z",
     "start_time": "2024-07-07T07:21:16.718019400Z"
    }
   },
   "id": "35f0c4717d024f01",
   "execution_count": 1
  },
  {
   "cell_type": "code",
   "outputs": [],
   "source": [
    "l = [1,2,3,4,5,6,7,8,9]\n",
    "l2 = [10,11,12,13,14,15,16,17,18]\n",
    "\n"
   ],
   "metadata": {
    "collapsed": false,
    "ExecuteTime": {
     "end_time": "2024-07-07T07:29:08.138045500Z",
     "start_time": "2024-07-07T07:29:08.113002100Z"
    }
   },
   "id": "83bd484f004c2797",
   "execution_count": 8
  },
  {
   "cell_type": "code",
   "outputs": [],
   "source": [
    "def sq(x):\n",
    "    return x**2"
   ],
   "metadata": {
    "collapsed": false,
    "ExecuteTime": {
     "end_time": "2024-07-07T07:27:14.316928500Z",
     "start_time": "2024-07-07T07:27:14.287002800Z"
    }
   },
   "id": "cbc0aa56550dd950",
   "execution_count": 3
  },
  {
   "cell_type": "code",
   "outputs": [
    {
     "data": {
      "text/plain": "[1, 4, 9, 16, 25, 36, 49, 64, 81]"
     },
     "execution_count": 4,
     "metadata": {},
     "output_type": "execute_result"
    }
   ],
   "source": [
    "list(map(sq,l))"
   ],
   "metadata": {
    "collapsed": false,
    "ExecuteTime": {
     "end_time": "2024-07-07T07:27:26.214408200Z",
     "start_time": "2024-07-07T07:27:26.195460600Z"
    }
   },
   "id": "70f6ed7854da0f50",
   "execution_count": 4
  },
  {
   "cell_type": "code",
   "outputs": [
    {
     "data": {
      "text/plain": "[1, 4, 9, 16, 25, 36, 49, 64, 81]"
     },
     "execution_count": 7,
     "metadata": {},
     "output_type": "execute_result"
    }
   ],
   "source": [
    "list(map(lambda x : x**2,l))"
   ],
   "metadata": {
    "collapsed": false,
    "ExecuteTime": {
     "end_time": "2024-07-07T07:28:21.701396Z",
     "start_time": "2024-07-07T07:28:21.666941400Z"
    }
   },
   "id": "b6bea721b10d50d4",
   "execution_count": 7
  },
  {
   "cell_type": "code",
   "outputs": [
    {
     "data": {
      "text/plain": "[11, 13, 15, 17, 19, 21, 23, 25, 27]"
     },
     "execution_count": 10,
     "metadata": {},
     "output_type": "execute_result"
    }
   ],
   "source": [
    "list(map(lambda x,y : x+y , l,l2))"
   ],
   "metadata": {
    "collapsed": false,
    "ExecuteTime": {
     "end_time": "2024-07-07T07:29:37.198317200Z",
     "start_time": "2024-07-07T07:29:37.165405100Z"
    }
   },
   "id": "19df9b078f3a22d3",
   "execution_count": 10
  },
  {
   "cell_type": "code",
   "outputs": [],
   "source": [
    "from functools import reduce"
   ],
   "metadata": {
    "collapsed": false,
    "ExecuteTime": {
     "end_time": "2024-07-07T07:32:03.827642200Z",
     "start_time": "2024-07-07T07:32:03.793648500Z"
    }
   },
   "id": "d605cc600914b95f",
   "execution_count": 11
  },
  {
   "cell_type": "code",
   "outputs": [
    {
     "data": {
      "text/plain": "45"
     },
     "execution_count": 12,
     "metadata": {},
     "output_type": "execute_result"
    }
   ],
   "source": [
    "l = [1,2,3,4,5,6,7,8,9]\n",
    "reduce(lambda x,y : x+y, l)"
   ],
   "metadata": {
    "collapsed": false,
    "ExecuteTime": {
     "end_time": "2024-07-07T07:32:24.543755300Z",
     "start_time": "2024-07-07T07:32:24.471585200Z"
    }
   },
   "id": "68dd38f2d231c14d",
   "execution_count": 12
  },
  {
   "cell_type": "code",
   "outputs": [],
   "source": [],
   "metadata": {
    "collapsed": false
   },
   "id": "2bdd0a79669127bb"
  }
 ],
 "metadata": {
  "kernelspec": {
   "display_name": "Python 3",
   "language": "python",
   "name": "python3"
  },
  "language_info": {
   "codemirror_mode": {
    "name": "ipython",
    "version": 2
   },
   "file_extension": ".py",
   "mimetype": "text/x-python",
   "name": "python",
   "nbconvert_exporter": "python",
   "pygments_lexer": "ipython2",
   "version": "2.7.6"
  }
 },
 "nbformat": 4,
 "nbformat_minor": 5
}
