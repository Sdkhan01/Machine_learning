{
 "cells": [
  {
   "cell_type": "code",
   "execution_count": 1,
   "id": "initial_id",
   "metadata": {
    "collapsed": true,
    "ExecuteTime": {
     "end_time": "2024-07-07T07:38:35.608004200Z",
     "start_time": "2024-07-07T07:38:35.590950500Z"
    }
   },
   "outputs": [],
   "source": [
    "## OBJECT ORIENTED PROGRAMMING"
   ]
  },
  {
   "cell_type": "code",
   "outputs": [],
   "source": [
    "class pwskills:\n",
    "    def welcome(self):\n",
    "        print(\"Welcome to Python Skills\")"
   ],
   "metadata": {
    "collapsed": false,
    "ExecuteTime": {
     "end_time": "2024-07-07T07:43:52.197430900Z",
     "start_time": "2024-07-07T07:43:52.178481600Z"
    }
   },
   "id": "6e95bb663de999d3",
   "execution_count": 2
  },
  {
   "cell_type": "code",
   "outputs": [
    {
     "name": "stdout",
     "output_type": "stream",
     "text": [
      "Welcome to Python Skills\n"
     ]
    }
   ],
   "source": [
    "sdk = pwskills()\n",
    "sdk.welcome()"
   ],
   "metadata": {
    "collapsed": false,
    "ExecuteTime": {
     "end_time": "2024-07-07T07:44:01.440459400Z",
     "start_time": "2024-07-07T07:44:01.411505600Z"
    }
   },
   "id": "8dfa361b1da3715",
   "execution_count": 3
  },
  {
   "cell_type": "code",
   "outputs": [
    {
     "name": "stdout",
     "output_type": "stream",
     "text": [
      "Welcome to Python Skills\n",
      "Welcome to Python Skills\n"
     ]
    }
   ],
   "source": [
    "sk = pwskills()\n",
    "sk.welcome()\n",
    "sb = pwskills()\n",
    "sb.welcome()"
   ],
   "metadata": {
    "collapsed": false,
    "ExecuteTime": {
     "end_time": "2024-07-07T07:44:18.682040300Z",
     "start_time": "2024-07-07T07:44:18.658108500Z"
    }
   },
   "id": "94b210e7c64611dc",
   "execution_count": 4
  },
  {
   "cell_type": "code",
   "outputs": [],
   "source": [
    "class pwskills :\n",
    "    def __init__(self,mob,email,stud_id):\n",
    "        self.mob = mob\n",
    "        self.email = email\n",
    "        self.stud_id = stud_id\n",
    "    def return_details(self):\n",
    "        return self.mob,self.email,self.stud_id\n",
    "    \n",
    "    "
   ],
   "metadata": {
    "collapsed": false,
    "ExecuteTime": {
     "end_time": "2024-07-07T07:48:47.070402200Z",
     "start_time": "2024-07-07T07:48:47.037348100Z"
    }
   },
   "id": "199152da63cd4c6e",
   "execution_count": 5
  },
  {
   "cell_type": "code",
   "outputs": [
    {
     "data": {
      "text/plain": "(1234567890, 'sdk@gmail.com', 123)"
     },
     "execution_count": 6,
     "metadata": {},
     "output_type": "execute_result"
    }
   ],
   "source": [
    "sdf = pwskills(1234567890,'sdk@gmail.com',123)\n",
    "sdf.return_details()\n"
   ],
   "metadata": {
    "collapsed": false,
    "ExecuteTime": {
     "end_time": "2024-07-07T07:49:36.811274400Z",
     "start_time": "2024-07-07T07:49:36.786306200Z"
    }
   },
   "id": "7e6edcd7ca1c1264",
   "execution_count": 6
  },
  {
   "cell_type": "code",
   "outputs": [],
   "source": [
    "class pwskills2:\n",
    "    def __init__(shad,mob,email,id):\n",
    "        shad.mob = mob\n",
    "        shad.email = email\n",
    "        shad.id = id\n",
    "    def return_details(shad):\n",
    "        return shad.mob, shad.email, shad.id\n",
    "    \n",
    "    "
   ],
   "metadata": {
    "collapsed": false,
    "ExecuteTime": {
     "end_time": "2024-07-07T07:57:59.617977900Z",
     "start_time": "2024-07-07T07:57:59.603018700Z"
    }
   },
   "id": "6db7cc22ce49926f",
   "execution_count": 7
  },
  {
   "cell_type": "code",
   "outputs": [
    {
     "data": {
      "text/plain": "'shadab'"
     },
     "execution_count": 11,
     "metadata": {},
     "output_type": "execute_result"
    }
   ],
   "source": [
    "sk.mob\n",
    "sk.email"
   ],
   "metadata": {
    "collapsed": false,
    "ExecuteTime": {
     "end_time": "2024-07-07T07:59:11.850177100Z",
     "start_time": "2024-07-07T07:59:11.824274900Z"
    }
   },
   "id": "194f4d2e773cdfd9",
   "execution_count": 11
  },
  {
   "cell_type": "code",
   "outputs": [
    {
     "data": {
      "text/plain": "(9900990, 'shadab', 'sdk@gmail.com')"
     },
     "execution_count": 8,
     "metadata": {},
     "output_type": "execute_result"
    }
   ],
   "source": [
    "sk = pwskills2(9900990,'shadab','sdk@gmail.com')\n",
    "sk.return_details()"
   ],
   "metadata": {
    "collapsed": false,
    "ExecuteTime": {
     "end_time": "2024-07-07T07:58:37.252010200Z",
     "start_time": "2024-07-07T07:58:37.210523900Z"
    }
   },
   "id": "ebc67dde2f79839c",
   "execution_count": 8
  },
  {
   "cell_type": "code",
   "outputs": [],
   "source": [],
   "metadata": {
    "collapsed": false
   },
   "id": "3395660273b8fbd0"
  }
 ],
 "metadata": {
  "kernelspec": {
   "display_name": "Python 3",
   "language": "python",
   "name": "python3"
  },
  "language_info": {
   "codemirror_mode": {
    "name": "ipython",
    "version": 2
   },
   "file_extension": ".py",
   "mimetype": "text/x-python",
   "name": "python",
   "nbconvert_exporter": "python",
   "pygments_lexer": "ipython2",
   "version": "2.7.6"
  }
 },
 "nbformat": 4,
 "nbformat_minor": 5
}
