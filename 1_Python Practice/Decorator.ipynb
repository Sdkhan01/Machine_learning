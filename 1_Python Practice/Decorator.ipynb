{
 "cells": [
  {
   "cell_type": "code",
   "execution_count": 2,
   "id": "initial_id",
   "metadata": {
    "collapsed": true,
    "ExecuteTime": {
     "end_time": "2024-07-08T11:25:57.736174700Z",
     "start_time": "2024-07-08T11:25:57.714713200Z"
    }
   },
   "outputs": [],
   "source": [
    "def test():\n",
    "    print('this is the start of the fucntion ')\n",
    "    print(4+5)\n",
    "    print('This is the end of the function ')"
   ]
  },
  {
   "cell_type": "code",
   "outputs": [
    {
     "name": "stdout",
     "output_type": "stream",
     "text": [
      "this is the start of the fucntion \n",
      "9\n",
      "This is the end of the function \n"
     ]
    }
   ],
   "source": [
    "test()"
   ],
   "metadata": {
    "collapsed": false,
    "ExecuteTime": {
     "end_time": "2024-07-08T11:25:59.502299900Z",
     "start_time": "2024-07-08T11:25:59.493314400Z"
    }
   },
   "id": "bfe74514b8853c4",
   "execution_count": 3
  },
  {
   "cell_type": "code",
   "outputs": [],
   "source": [
    "def deco(func):\n",
    "    def inner():\n",
    "        print('this is the start of the function')\n",
    "        func()\n",
    "        print(2*1)\n",
    "        print('This is the end of the function ')\n",
    "    return inner"
   ],
   "metadata": {
    "collapsed": false,
    "ExecuteTime": {
     "end_time": "2024-07-08T11:28:54.501147400Z",
     "start_time": "2024-07-08T11:28:54.431335900Z"
    }
   },
   "id": "24db5acaf5fe589d",
   "execution_count": 17
  },
  {
   "cell_type": "code",
   "outputs": [],
   "source": [
    "@deco\n",
    "def test2():\n",
    "    print(4+5)"
   ],
   "metadata": {
    "collapsed": false,
    "ExecuteTime": {
     "end_time": "2024-07-08T11:28:54.702720300Z",
     "start_time": "2024-07-08T11:28:54.682777200Z"
    }
   },
   "id": "c7dc3c1d726fe215",
   "execution_count": 18
  },
  {
   "cell_type": "code",
   "outputs": [
    {
     "name": "stdout",
     "output_type": "stream",
     "text": [
      "this is the start of the function\n",
      "9\n",
      "2\n",
      "This is the end of the function \n"
     ]
    }
   ],
   "source": [
    "test2()"
   ],
   "metadata": {
    "collapsed": false,
    "ExecuteTime": {
     "end_time": "2024-07-08T11:28:54.934961500Z",
     "start_time": "2024-07-08T11:28:54.922952Z"
    }
   },
   "id": "4754cf1efb638736",
   "execution_count": 19
  },
  {
   "cell_type": "code",
   "outputs": [],
   "source": [
    "def decorator(func):\n",
    "    def inner():\n",
    "        print(i for i in range(10))\n",
    "        func()\n",
    "        print(i*2 for i in range(10))\n",
    "    return inner"
   ],
   "metadata": {
    "collapsed": false,
    "ExecuteTime": {
     "end_time": "2024-07-08T11:30:20.280679500Z",
     "start_time": "2024-07-08T11:30:20.268711200Z"
    }
   },
   "id": "2c8a4cfce595ce92",
   "execution_count": 20
  },
  {
   "cell_type": "code",
   "outputs": [],
   "source": [
    "@decorator\n",
    "\n",
    "def test3():\n",
    "    print('this is the start of the function')\n",
    "    a = print(i*3 for i in range(1,10))\n",
    "    print('This is the end of the function')\n",
    "    "
   ],
   "metadata": {
    "collapsed": false,
    "ExecuteTime": {
     "end_time": "2024-07-08T11:32:08.359362400Z",
     "start_time": "2024-07-08T11:32:08.334430Z"
    }
   },
   "id": "72f95c55f7f9596a",
   "execution_count": 27
  },
  {
   "cell_type": "code",
   "outputs": [
    {
     "name": "stdout",
     "output_type": "stream",
     "text": [
      "<generator object decorator.<locals>.inner.<locals>.<genexpr> at 0x000001CF5CAE1FC0>\n",
      "this is the start of the function\n",
      "<generator object test3.<locals>.<genexpr> at 0x000001CF5CAE1FC0>\n",
      "This is the end of the function\n",
      "<generator object decorator.<locals>.inner.<locals>.<genexpr> at 0x000001CF5CAE1FC0>\n"
     ]
    }
   ],
   "source": [
    "test3()"
   ],
   "metadata": {
    "collapsed": false,
    "ExecuteTime": {
     "end_time": "2024-07-08T11:32:08.609227500Z",
     "start_time": "2024-07-08T11:32:08.584298300Z"
    }
   },
   "id": "77f9b845ae09f6da",
   "execution_count": 28
  },
  {
   "cell_type": "code",
   "outputs": [],
   "source": [
    "import time \n",
    "\n",
    "def timer(func):\n",
    "    def inner(*args, **kwargs):\n",
    "        start = time.time()\n",
    "        func(*args, **kwargs)\n",
    "        end = time.time()\n",
    "        print('The time taken is ', end-start)\n",
    "    return inner"
   ],
   "metadata": {
    "collapsed": false,
    "ExecuteTime": {
     "end_time": "2024-07-08T11:32:29.590034100Z",
     "start_time": "2024-07-08T11:32:29.569053800Z"
    }
   },
   "id": "a51a34d9beb3ed50",
   "execution_count": 29
  },
  {
   "cell_type": "code",
   "outputs": [],
   "source": [
    "@timer\n",
    "def test4():\n",
    "    print('This is the start of the function')\n",
    "    print('This is the end of the function')\n",
    "    for i in range(1,10):\n",
    "        print(f'2 x {i} = {2*i}')\n"
   ],
   "metadata": {
    "collapsed": false,
    "ExecuteTime": {
     "end_time": "2024-07-08T11:36:24.096314100Z",
     "start_time": "2024-07-08T11:36:24.080359900Z"
    }
   },
   "id": "f83d379faebdc108",
   "execution_count": 44
  },
  {
   "cell_type": "code",
   "outputs": [
    {
     "name": "stdout",
     "output_type": "stream",
     "text": [
      "This is the start of the function\n",
      "This is the end of the function\n",
      "2 x 1 = 2\n",
      "2 x 2 = 4\n",
      "2 x 3 = 6\n",
      "2 x 4 = 8\n",
      "2 x 5 = 10\n",
      "2 x 6 = 12\n",
      "2 x 7 = 14\n",
      "2 x 8 = 16\n",
      "2 x 9 = 18\n",
      "The time taken is  0.0009672641754150391\n"
     ]
    }
   ],
   "source": [
    "test4()"
   ],
   "metadata": {
    "collapsed": false,
    "ExecuteTime": {
     "end_time": "2024-07-08T11:36:27.661228100Z",
     "start_time": "2024-07-08T11:36:27.653249500Z"
    }
   },
   "id": "eae7e91756d50f76",
   "execution_count": 45
  },
  {
   "cell_type": "code",
   "outputs": [],
   "source": [],
   "metadata": {
    "collapsed": false
   },
   "id": "97b8a2754e5c3211"
  }
 ],
 "metadata": {
  "kernelspec": {
   "display_name": "Python 3",
   "language": "python",
   "name": "python3"
  },
  "language_info": {
   "codemirror_mode": {
    "name": "ipython",
    "version": 2
   },
   "file_extension": ".py",
   "mimetype": "text/x-python",
   "name": "python",
   "nbconvert_exporter": "python",
   "pygments_lexer": "ipython2",
   "version": "2.7.6"
  }
 },
 "nbformat": 4,
 "nbformat_minor": 5
}
