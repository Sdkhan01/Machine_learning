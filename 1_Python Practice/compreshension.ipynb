{
 "cells": [
  {
   "cell_type": "code",
   "execution_count": 1,
   "id": "initial_id",
   "metadata": {
    "collapsed": true,
    "ExecuteTime": {
     "end_time": "2024-07-07T05:51:25.769910500Z",
     "start_time": "2024-07-07T05:51:25.754288800Z"
    }
   },
   "outputs": [],
   "source": [
    "## compreshension"
   ]
  },
  {
   "cell_type": "code",
   "outputs": [
    {
     "data": {
      "text/plain": "[1, 8, 27, 64]"
     },
     "execution_count": 2,
     "metadata": {},
     "output_type": "execute_result"
    }
   ],
   "source": [
    "# list compreshension\n",
    "\n",
    "[i**3 for i in range (1,5)]"
   ],
   "metadata": {
    "collapsed": false,
    "ExecuteTime": {
     "end_time": "2024-07-07T05:52:11.109850800Z",
     "start_time": "2024-07-07T05:52:11.082406700Z"
    }
   },
   "id": "dd6fcbf41be99ad1",
   "execution_count": 2
  },
  {
   "cell_type": "code",
   "outputs": [
    {
     "data": {
      "text/plain": "{1: 1, 2: 8, 3: 27, 4: 64}"
     },
     "execution_count": 3,
     "metadata": {},
     "output_type": "execute_result"
    }
   ],
   "source": [
    "# dictionary compreshension\n",
    "{i:i**3 for i in range (1,5)}"
   ],
   "metadata": {
    "collapsed": false,
    "ExecuteTime": {
     "end_time": "2024-07-07T05:52:23.061932400Z",
     "start_time": "2024-07-07T05:52:23.028481200Z"
    }
   },
   "id": "430200c68b4c4246",
   "execution_count": 3
  },
  {
   "cell_type": "code",
   "outputs": [
    {
     "data": {
      "text/plain": "{1, 8, 27, 64}"
     },
     "execution_count": 4,
     "metadata": {},
     "output_type": "execute_result"
    }
   ],
   "source": [
    "# set compreshension\n",
    "{i**3 for i in range (1,5)}\n"
   ],
   "metadata": {
    "collapsed": false,
    "ExecuteTime": {
     "end_time": "2024-07-07T05:52:35.356312300Z",
     "start_time": "2024-07-07T05:52:35.338327800Z"
    }
   },
   "id": "223465524948fe88",
   "execution_count": 4
  },
  {
   "cell_type": "code",
   "outputs": [
    {
     "data": {
      "text/plain": "<generator object <genexpr> at 0x00000279943A50E0>"
     },
     "execution_count": 6,
     "metadata": {},
     "output_type": "execute_result"
    }
   ],
   "source": [
    "# generator compreshension\n",
    "(i**3 for i in range (1,6))"
   ],
   "metadata": {
    "collapsed": false,
    "ExecuteTime": {
     "end_time": "2024-07-07T05:53:02.958511500Z",
     "start_time": "2024-07-07T05:53:02.933576900Z"
    }
   },
   "id": "f3263e392d33682",
   "execution_count": 6
  },
  {
   "cell_type": "code",
   "outputs": [
    {
     "data": {
      "text/plain": "['SHDND']"
     },
     "execution_count": 12,
     "metadata": {},
     "output_type": "execute_result"
    }
   ],
   "source": [
    "l1 = ['shdnd']\n",
    "[i.upper() for i in l1]"
   ],
   "metadata": {
    "collapsed": false,
    "ExecuteTime": {
     "end_time": "2024-07-07T05:55:12.063017Z",
     "start_time": "2024-07-07T05:55:12.036055100Z"
    }
   },
   "id": "1bf615b2d1c966a1",
   "execution_count": 12
  },
  {
   "cell_type": "code",
   "outputs": [],
   "source": [],
   "metadata": {
    "collapsed": false
   },
   "id": "827b12420fcb5f5b"
  }
 ],
 "metadata": {
  "kernelspec": {
   "display_name": "Python 3",
   "language": "python",
   "name": "python3"
  },
  "language_info": {
   "codemirror_mode": {
    "name": "ipython",
    "version": 2
   },
   "file_extension": ".py",
   "mimetype": "text/x-python",
   "name": "python",
   "nbconvert_exporter": "python",
   "pygments_lexer": "ipython2",
   "version": "2.7.6"
  }
 },
 "nbformat": 4,
 "nbformat_minor": 5
}
