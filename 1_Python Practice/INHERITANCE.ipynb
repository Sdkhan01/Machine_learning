{
 "cells": [
  {
   "cell_type": "code",
   "execution_count": 1,
   "id": "initial_id",
   "metadata": {
    "collapsed": true,
    "ExecuteTime": {
     "end_time": "2024-07-07T16:27:55.273898700Z",
     "start_time": "2024-07-07T16:27:55.259447Z"
    }
   },
   "outputs": [],
   "source": [
    "## iNHERITANCE\n"
   ]
  },
  {
   "cell_type": "code",
   "outputs": [],
   "source": [
    "class Animal:\n",
    "    def __init__(self):\n",
    "        print(\"Animal created\")\n",
    "\n",
    "    def whoAmI(self):\n",
    "        print(\"Animal\")\n",
    "\n",
    "    def eat(self):\n",
    "        print(\"Eating\")\n",
    "class Dog(Animal):\n",
    "    def __init__(self):\n",
    "        Animal.__init__(self)\n",
    "        print(\"Dog created\")\n",
    "    def whoAmI(self):\n",
    "        print(\"Dog\")\n",
    "    def bark(self):\n",
    "        print(\"Woof!\")\n",
    "\n",
    "    "
   ],
   "metadata": {
    "collapsed": false,
    "ExecuteTime": {
     "end_time": "2024-07-07T16:30:14.964277200Z",
     "start_time": "2024-07-07T16:30:14.945292100Z"
    }
   },
   "id": "4949b9ccea0d7ab1",
   "execution_count": 2
  },
  {
   "cell_type": "code",
   "outputs": [
    {
     "ename": "NameError",
     "evalue": "name 'Dog' is not defined",
     "output_type": "error",
     "traceback": [
      "\u001B[1;31m---------------------------------------------------------------------------\u001B[0m",
      "\u001B[1;31mNameError\u001B[0m                                 Traceback (most recent call last)",
      "Cell \u001B[1;32mIn[1], line 1\u001B[0m\n\u001B[1;32m----> 1\u001B[0m d \u001B[38;5;241m=\u001B[39m \u001B[43mDog\u001B[49m()\n",
      "\u001B[1;31mNameError\u001B[0m: name 'Dog' is not defined"
     ]
    }
   ],
   "source": [
    "d = Dog()"
   ],
   "metadata": {
    "collapsed": false,
    "ExecuteTime": {
     "end_time": "2024-07-08T10:26:06.309448900Z",
     "start_time": "2024-07-08T10:26:05.476662800Z"
    }
   },
   "id": "fe58a302de3817d1",
   "execution_count": 1
  },
  {
   "cell_type": "code",
   "outputs": [],
   "source": [
    "d.whoAmI()"
   ],
   "metadata": {
    "collapsed": false,
    "ExecuteTime": {
     "start_time": "2024-07-08T10:26:06.313461300Z"
    }
   },
   "id": "7271aa24d2d5ee23",
   "execution_count": null
  },
  {
   "cell_type": "code",
   "outputs": [],
   "source": [
    "d.eat()"
   ],
   "metadata": {
    "collapsed": false,
    "ExecuteTime": {
     "end_time": "2024-07-08T10:26:06.360312400Z",
     "start_time": "2024-07-08T10:26:06.319425Z"
    }
   },
   "id": "db6fbff912c99902",
   "execution_count": null
  },
  {
   "cell_type": "code",
   "outputs": [],
   "source": [
    "d.bark()"
   ],
   "metadata": {
    "collapsed": false,
    "ExecuteTime": {
     "start_time": "2024-07-08T10:26:06.324412900Z"
    }
   },
   "id": "856efa69a52a62e2",
   "execution_count": null
  },
  {
   "cell_type": "code",
   "outputs": [],
   "source": [
    "  ## INHERTINING PARENT CLASS INTO CHILD CLASSS\n"
   ],
   "metadata": {
    "collapsed": false,
    "ExecuteTime": {
     "start_time": "2024-07-08T10:26:06.327403800Z"
    }
   },
   "id": "5edb5577a733d679",
   "execution_count": null
  },
  {
   "cell_type": "code",
   "outputs": [],
   "source": [
    "class test :\n",
    "    \n",
    "    def test_math(self):\n",
    "        return 'This is my first class'"
   ],
   "metadata": {
    "collapsed": false,
    "ExecuteTime": {
     "end_time": "2024-07-08T10:27:02.433174300Z",
     "start_time": "2024-07-08T10:27:02.407245700Z"
    }
   },
   "id": "2dab5bc7f36b1de3",
   "execution_count": 3
  },
  {
   "cell_type": "code",
   "outputs": [],
   "source": [
    "class child_test(test):\n",
    "    pass"
   ],
   "metadata": {
    "collapsed": false,
    "ExecuteTime": {
     "end_time": "2024-07-08T10:27:27.433185800Z",
     "start_time": "2024-07-08T10:27:27.418227500Z"
    }
   },
   "id": "6c8507481204c41c",
   "execution_count": 4
  },
  {
   "cell_type": "code",
   "outputs": [],
   "source": [
    "child_test_obj = child_test()"
   ],
   "metadata": {
    "collapsed": false,
    "ExecuteTime": {
     "end_time": "2024-07-08T10:28:02.301005600Z",
     "start_time": "2024-07-08T10:28:02.277039900Z"
    }
   },
   "id": "fdeb61dae8a45bc9",
   "execution_count": 6
  },
  {
   "cell_type": "code",
   "outputs": [
    {
     "data": {
      "text/plain": "'This is my first class'"
     },
     "execution_count": 7,
     "metadata": {},
     "output_type": "execute_result"
    }
   ],
   "source": [
    "child_test_obj.test_math()"
   ],
   "metadata": {
    "collapsed": false,
    "ExecuteTime": {
     "end_time": "2024-07-08T10:28:10.465995700Z",
     "start_time": "2024-07-08T10:28:10.443029700Z"
    }
   },
   "id": "e8324872bef5ab77",
   "execution_count": 7
  },
  {
   "cell_type": "code",
   "outputs": [],
   "source": [
    "## INHERITING PARENT CLASS INTO CHILD CLASS AND ADDING NEW METHOD\n",
    "\n"
   ],
   "metadata": {
    "collapsed": false,
    "ExecuteTime": {
     "end_time": "2024-07-08T10:28:18.484234400Z",
     "start_time": "2024-07-08T10:28:18.458293200Z"
    }
   },
   "id": "7fa21c6955da99f7",
   "execution_count": 8
  },
  {
   "cell_type": "code",
   "outputs": [],
   "source": [
    "class test :\n",
    "        \n",
    "        def test_math(self):\n",
    "            return 'This is my first class'"
   ],
   "metadata": {
    "collapsed": false,
    "ExecuteTime": {
     "end_time": "2024-07-08T10:28:24.527311200Z",
     "start_time": "2024-07-08T10:28:24.496392400Z"
    }
   },
   "id": "9abf462f05f80d95",
   "execution_count": 9
  },
  {
   "cell_type": "code",
   "outputs": [],
   "source": [
    "class child_test(test):\n",
    "    def test_math1(self):\n",
    "        return"
   ],
   "metadata": {
    "collapsed": false,
    "ExecuteTime": {
     "end_time": "2024-07-08T10:28:32.494253900Z",
     "start_time": "2024-07-08T10:28:32.475300100Z"
    }
   },
   "id": "19dfa83f32d61592",
   "execution_count": 10
  },
  {
   "cell_type": "code",
   "outputs": [],
   "source": [
    "child_test_obj = child_test()\n"
   ],
   "metadata": {
    "collapsed": false,
    "ExecuteTime": {
     "end_time": "2024-07-08T10:28:41.655752400Z",
     "start_time": "2024-07-08T10:28:41.635807500Z"
    }
   },
   "id": "d9309e4d0d5a14e4",
   "execution_count": 11
  },
  {
   "cell_type": "code",
   "outputs": [
    {
     "data": {
      "text/plain": "'This is my first class'"
     },
     "execution_count": 12,
     "metadata": {},
     "output_type": "execute_result"
    }
   ],
   "source": [
    "child_test_obj.test_math()"
   ],
   "metadata": {
    "collapsed": false,
    "ExecuteTime": {
     "end_time": "2024-07-08T10:28:53.041671300Z",
     "start_time": "2024-07-08T10:28:53.007763400Z"
    }
   },
   "id": "edca5d5eca92c9b4",
   "execution_count": 12
  },
  {
   "cell_type": "code",
   "outputs": [],
   "source": [
    "##Mulptilevel Inheritance\n",
    "\n",
    "class class1:\n",
    "    def test_class1(self):\n",
    "        return 'Thos os a method from class 1'\n",
    "    "
   ],
   "metadata": {
    "collapsed": false,
    "ExecuteTime": {
     "end_time": "2024-07-08T10:31:36.465336Z",
     "start_time": "2024-07-08T10:31:36.424180900Z"
    }
   },
   "id": "769a0859f03b4a28",
   "execution_count": 15
  },
  {
   "cell_type": "code",
   "outputs": [],
   "source": [
    "class class2(class1):\n",
    "    def tes_class2(self):\n",
    "        return(\"this is method from class 2\")\n",
    "    "
   ],
   "metadata": {
    "collapsed": false,
    "ExecuteTime": {
     "end_time": "2024-07-08T10:32:22.425930200Z",
     "start_time": "2024-07-08T10:32:22.396012700Z"
    }
   },
   "id": "cf1a33b3c2d40f6f",
   "execution_count": 16
  },
  {
   "cell_type": "code",
   "outputs": [],
   "source": [
    "class class3(class2):\n",
    "    pass\n",
    "    "
   ],
   "metadata": {
    "collapsed": false,
    "ExecuteTime": {
     "end_time": "2024-07-08T10:32:59.634939600Z",
     "start_time": "2024-07-08T10:32:59.587259400Z"
    }
   },
   "id": "1845fae1580a3876",
   "execution_count": 17
  },
  {
   "cell_type": "code",
   "outputs": [],
   "source": [
    "class3_obj = class3()"
   ],
   "metadata": {
    "collapsed": false,
    "ExecuteTime": {
     "end_time": "2024-07-08T10:33:08.599156400Z",
     "start_time": "2024-07-08T10:33:08.556254800Z"
    }
   },
   "id": "4013c761b5fb14e6",
   "execution_count": 18
  },
  {
   "cell_type": "code",
   "outputs": [
    {
     "data": {
      "text/plain": "'Thos os a method from class 1'"
     },
     "execution_count": 19,
     "metadata": {},
     "output_type": "execute_result"
    }
   ],
   "source": [
    "class3_obj.test_class1()"
   ],
   "metadata": {
    "collapsed": false,
    "ExecuteTime": {
     "end_time": "2024-07-08T10:33:21.346110400Z",
     "start_time": "2024-07-08T10:33:21.308767700Z"
    }
   },
   "id": "a1bac8bb3eec1d00",
   "execution_count": 19
  },
  {
   "cell_type": "code",
   "outputs": [
    {
     "data": {
      "text/plain": "'this is method from class 2'"
     },
     "execution_count": 20,
     "metadata": {},
     "output_type": "execute_result"
    }
   ],
   "source": [
    "class3_obj.tes_class2()"
   ],
   "metadata": {
    "collapsed": false,
    "ExecuteTime": {
     "end_time": "2024-07-08T10:33:24.288835200Z",
     "start_time": "2024-07-08T10:33:24.251322Z"
    }
   },
   "id": "32302f5637bb47c0",
   "execution_count": 20
  },
  {
   "cell_type": "code",
   "outputs": [],
   "source": [
    "## MULTIPLE INHERITANCE\n",
    "\n",
    "class class1:\n",
    "    def test_class1(self):\n",
    "        return 'Thos os a method from class 1'"
   ],
   "metadata": {
    "collapsed": false,
    "ExecuteTime": {
     "end_time": "2024-07-08T10:57:17.333204900Z",
     "start_time": "2024-07-08T10:57:17.310577100Z"
    }
   },
   "id": "8525a542a5f0e2d1",
   "execution_count": 21
  },
  {
   "cell_type": "code",
   "outputs": [],
   "source": [
    "class class2:\n",
    "    def tes_class2(self):\n",
    "        return(\"this is method from class 2\")\n",
    "    "
   ],
   "metadata": {
    "collapsed": false,
    "ExecuteTime": {
     "end_time": "2024-07-08T10:57:28.330032500Z",
     "start_time": "2024-07-08T10:57:28.297562900Z"
    }
   },
   "id": "300775eafced04be",
   "execution_count": 22
  },
  {
   "cell_type": "code",
   "outputs": [],
   "source": [
    "class class3(class1,class2):\n",
    "    pass"
   ],
   "metadata": {
    "collapsed": false,
    "ExecuteTime": {
     "end_time": "2024-07-08T10:57:47.965430800Z",
     "start_time": "2024-07-08T10:57:47.928322900Z"
    }
   },
   "id": "69b3f2d5df2ead1d",
   "execution_count": 23
  },
  {
   "cell_type": "code",
   "outputs": [],
   "source": [
    "class3_obj = class3()"
   ],
   "metadata": {
    "collapsed": false,
    "ExecuteTime": {
     "end_time": "2024-07-08T10:57:59.528774300Z",
     "start_time": "2024-07-08T10:57:59.485323600Z"
    }
   },
   "id": "ce3e6c98af3ddacd",
   "execution_count": 24
  },
  {
   "cell_type": "code",
   "outputs": [
    {
     "data": {
      "text/plain": "'Thos os a method from class 1'"
     },
     "execution_count": 25,
     "metadata": {},
     "output_type": "execute_result"
    }
   ],
   "source": [
    "class3_obj.test_class1()"
   ],
   "metadata": {
    "collapsed": false,
    "ExecuteTime": {
     "end_time": "2024-07-08T10:58:31.976407500Z",
     "start_time": "2024-07-08T10:58:31.941397500Z"
    }
   },
   "id": "f07b286ba4d5cd8d",
   "execution_count": 25
  },
  {
   "cell_type": "code",
   "outputs": [
    {
     "data": {
      "text/plain": "'this is method from class 2'"
     },
     "execution_count": 26,
     "metadata": {},
     "output_type": "execute_result"
    }
   ],
   "source": [
    "class3_obj.tes_class2()"
   ],
   "metadata": {
    "collapsed": false,
    "ExecuteTime": {
     "end_time": "2024-07-08T10:58:34.331394200Z",
     "start_time": "2024-07-08T10:58:34.293907900Z"
    }
   },
   "id": "18e929ef1a01155f",
   "execution_count": 26
  },
  {
   "cell_type": "code",
   "outputs": [],
   "source": [
    "## METHOD RESOLUTION ORDER\n",
    "\n",
    "class class1:\n",
    "    def test_class1(self):\n",
    "        return 'Thos os a method from class 1'"
   ],
   "metadata": {
    "collapsed": false,
    "ExecuteTime": {
     "end_time": "2024-07-08T10:58:49.507081400Z",
     "start_time": "2024-07-08T10:58:49.478409Z"
    }
   },
   "id": "f57fd5a2145d21fa",
   "execution_count": 27
  },
  {
   "cell_type": "code",
   "outputs": [],
   "source": [
    "class class2:\n",
    "    def tes_class2(self):\n",
    "        return(\"this is method from class 2\")"
   ],
   "metadata": {
    "collapsed": false,
    "ExecuteTime": {
     "end_time": "2024-07-08T10:58:51.272396900Z",
     "start_time": "2024-07-08T10:58:51.232328400Z"
    }
   },
   "id": "cfc7207e531ce6df",
   "execution_count": 28
  },
  {
   "cell_type": "code",
   "outputs": [],
   "source": [
    "class class3(class1,class2):\n",
    "    pass"
   ],
   "metadata": {
    "collapsed": false,
    "ExecuteTime": {
     "end_time": "2024-07-08T10:58:55.779865800Z",
     "start_time": "2024-07-08T10:58:55.734695800Z"
    }
   },
   "id": "24dc48e6d77855c4",
   "execution_count": 29
  },
  {
   "cell_type": "code",
   "outputs": [],
   "source": [
    "class3_obj = class3()"
   ],
   "metadata": {
    "collapsed": false,
    "ExecuteTime": {
     "end_time": "2024-07-08T10:58:58.793279Z",
     "start_time": "2024-07-08T10:58:58.750306600Z"
    }
   },
   "id": "c2734ef099916ace",
   "execution_count": 30
  },
  {
   "cell_type": "code",
   "outputs": [
    {
     "data": {
      "text/plain": "'Thos os a method from class 1'"
     },
     "execution_count": 31,
     "metadata": {},
     "output_type": "execute_result"
    }
   ],
   "source": [
    "class3_obj.test_class1()"
   ],
   "metadata": {
    "collapsed": false,
    "ExecuteTime": {
     "end_time": "2024-07-08T10:59:00.458538900Z",
     "start_time": "2024-07-08T10:59:00.433402100Z"
    }
   },
   "id": "992e366576945083",
   "execution_count": 31
  },
  {
   "cell_type": "code",
   "outputs": [
    {
     "data": {
      "text/plain": "'this is method from class 2'"
     },
     "execution_count": 32,
     "metadata": {},
     "output_type": "execute_result"
    }
   ],
   "source": [
    "class3_obj.tes_class2()"
   ],
   "metadata": {
    "collapsed": false,
    "ExecuteTime": {
     "end_time": "2024-07-08T10:59:02.317344300Z",
     "start_time": "2024-07-08T10:59:02.277699800Z"
    }
   },
   "id": "8c6d3698c35260de",
   "execution_count": 32
  },
  {
   "cell_type": "code",
   "outputs": [],
   "source": [],
   "metadata": {
    "collapsed": false
   },
   "id": "1df16762ab6fa029"
  }
 ],
 "metadata": {
  "kernelspec": {
   "display_name": "Python 3",
   "language": "python",
   "name": "python3"
  },
  "language_info": {
   "codemirror_mode": {
    "name": "ipython",
    "version": 2
   },
   "file_extension": ".py",
   "mimetype": "text/x-python",
   "name": "python",
   "nbconvert_exporter": "python",
   "pygments_lexer": "ipython2",
   "version": "2.7.6"
  }
 },
 "nbformat": 4,
 "nbformat_minor": 5
}
