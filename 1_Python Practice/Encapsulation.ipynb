{
 "cells": [
  {
   "cell_type": "code",
   "execution_count": 8,
   "id": "initial_id",
   "metadata": {
    "collapsed": true,
    "ExecuteTime": {
     "end_time": "2024-07-07T14:00:04.219335Z",
     "start_time": "2024-07-07T14:00:04.192375100Z"
    }
   },
   "outputs": [
    {
     "name": "stdout",
     "output_type": "stream",
     "text": [
      "Color of bike is Red\n",
      "Price of bike is 90000\n",
      "Model of bike is Yamaha\n",
      "\n",
      "\n",
      "Color of bike is Blue\n",
      "Price of bike is 90000\n",
      "Model of bike is Yamaha\n",
      "\n",
      "\n",
      "Color of bike is Blue\n",
      "Price of bike is 90000\n",
      "Model of bike is Honda\n"
     ]
    }
   ],
   "source": [
    "class bike:\n",
    "    def __init__(self, color, price,model):\n",
    "        self.color = color\n",
    "        self.price = price\n",
    "        self.model  = model\n",
    "    def display(self):\n",
    "        print(\"Color of bike is\",self.color)\n",
    "        print(\"Price of bike is\",self.price)\n",
    "        print(\"Model of bike is\",self.model)\n",
    "obj = bike('Red',90000,'Yamaha')\n",
    "obj.display()\n",
    "print('\\n')\n",
    "obj.color = 'Blue'\n",
    "obj.display()\n",
    "print('\\n')\n",
    "obj.model = 'Honda'\n",
    "obj.display()"
   ]
  },
  {
   "cell_type": "code",
   "outputs": [],
   "source": [
    "## now using encapsulation\n",
    "\n",
    "class car:\n",
    "    def __init__(self,year,model,speed):\n",
    "        self.__year = year\n",
    "        self.__model = model\n",
    "        self.__speed = speed\n",
    "    def set_speed(self,speed):\n",
    "        self.__speed = 0 if speed < 0 else speed\n",
    "    def get_speed(self):\n",
    "        return self.__speed\n"
   ],
   "metadata": {
    "collapsed": false,
    "ExecuteTime": {
     "end_time": "2024-07-07T14:07:58.675654700Z",
     "start_time": "2024-07-07T14:07:58.658700400Z"
    }
   },
   "id": "ed3d0bbbc8cc259a",
   "execution_count": 25
  },
  {
   "cell_type": "code",
   "outputs": [],
   "source": [
    "obj = car(2019,'Toyota',200)"
   ],
   "metadata": {
    "collapsed": false,
    "ExecuteTime": {
     "end_time": "2024-07-07T14:07:59.906270Z",
     "start_time": "2024-07-07T14:07:59.882332Z"
    }
   },
   "id": "f4768f0ed441abc5",
   "execution_count": 26
  },
  {
   "cell_type": "code",
   "outputs": [
    {
     "data": {
      "text/plain": "2019"
     },
     "execution_count": 27,
     "metadata": {},
     "output_type": "execute_result"
    }
   ],
   "source": [
    "obj._car__year\n"
   ],
   "metadata": {
    "collapsed": false,
    "ExecuteTime": {
     "end_time": "2024-07-07T14:08:00.954977500Z",
     "start_time": "2024-07-07T14:08:00.923501700Z"
    }
   },
   "id": "df14e4616e3e78e2",
   "execution_count": 27
  },
  {
   "cell_type": "code",
   "outputs": [],
   "source": [
    "obj.set_speed(300)"
   ],
   "metadata": {
    "collapsed": false,
    "ExecuteTime": {
     "end_time": "2024-07-07T14:08:01.396976500Z",
     "start_time": "2024-07-07T14:08:01.373040100Z"
    }
   },
   "id": "d317369b3b98c42f",
   "execution_count": 28
  },
  {
   "cell_type": "code",
   "outputs": [
    {
     "data": {
      "text/plain": "300"
     },
     "execution_count": 29,
     "metadata": {},
     "output_type": "execute_result"
    }
   ],
   "source": [
    "obj.get_speed()"
   ],
   "metadata": {
    "collapsed": false,
    "ExecuteTime": {
     "end_time": "2024-07-07T14:08:12.611542200Z",
     "start_time": "2024-07-07T14:08:12.580623600Z"
    }
   },
   "id": "f617bdb0f468be0d",
   "execution_count": 29
  },
  {
   "cell_type": "code",
   "outputs": [],
   "source": [
    "obj.set_speed(-300)\n"
   ],
   "metadata": {
    "collapsed": false,
    "ExecuteTime": {
     "end_time": "2024-07-07T14:08:16.769941300Z",
     "start_time": "2024-07-07T14:08:16.728105700Z"
    }
   },
   "id": "d644888c6f7be5b1",
   "execution_count": 30
  },
  {
   "cell_type": "code",
   "outputs": [
    {
     "data": {
      "text/plain": "0"
     },
     "execution_count": 31,
     "metadata": {},
     "output_type": "execute_result"
    }
   ],
   "source": [
    "obj.get_speed()"
   ],
   "metadata": {
    "collapsed": false,
    "ExecuteTime": {
     "end_time": "2024-07-07T14:08:18.624133800Z",
     "start_time": "2024-07-07T14:08:18.568283800Z"
    }
   },
   "id": "2a05b1332747babe",
   "execution_count": 31
  },
  {
   "cell_type": "code",
   "outputs": [],
   "source": [
    "class bank_account:\n",
    "    def __init__(self,account_number,account_holder_name,balance):\n",
    "        self.__account_number = account_number\n",
    "        self.__account_holder_name = account_holder_name\n",
    "        self.__balance = balance\n",
    "    def deposit(self,amount):\n",
    "        self.__balance = self.__balance + amount\n",
    "    def withdraw(self,amount):\n",
    "        if amount > self.__balance:\n",
    "            print('Insufficient balance')\n",
    "        else:\n",
    "            self.__balance = self.__balance - amount\n",
    "    def set_balance(self,balance):\n",
    "        self.__balance = 0 if balance < 0 else balance\n",
    "    def get_balance(self):\n",
    "        return self.__balance"
   ],
   "metadata": {
    "collapsed": false,
    "ExecuteTime": {
     "end_time": "2024-07-07T14:11:28.521097200Z",
     "start_time": "2024-07-07T14:11:28.499157300Z"
    }
   },
   "id": "96370a2178577a33",
   "execution_count": 33
  },
  {
   "cell_type": "code",
   "outputs": [],
   "source": [
    "obj = bank_account(123456,'Ali',1000)\n"
   ],
   "metadata": {
    "collapsed": false,
    "ExecuteTime": {
     "end_time": "2024-07-07T14:11:47.979607600Z",
     "start_time": "2024-07-07T14:11:47.963650100Z"
    }
   },
   "id": "a939e6f4abbc7098",
   "execution_count": 34
  },
  {
   "cell_type": "code",
   "outputs": [],
   "source": [
    "obj.deposit(500)\n"
   ],
   "metadata": {
    "collapsed": false,
    "ExecuteTime": {
     "end_time": "2024-07-07T14:11:54.782570500Z",
     "start_time": "2024-07-07T14:11:54.763589600Z"
    }
   },
   "id": "7cadd4fd9c70e95a",
   "execution_count": 35
  },
  {
   "cell_type": "code",
   "outputs": [
    {
     "data": {
      "text/plain": "1500"
     },
     "execution_count": 38,
     "metadata": {},
     "output_type": "execute_result"
    }
   ],
   "source": [
    "obj.get_balance()"
   ],
   "metadata": {
    "collapsed": false,
    "ExecuteTime": {
     "end_time": "2024-07-07T14:22:20.527781300Z",
     "start_time": "2024-07-07T14:22:20.492523400Z"
    }
   },
   "id": "da165e84d4ea4978",
   "execution_count": 38
  },
  {
   "cell_type": "code",
   "outputs": [
    {
     "name": "stdout",
     "output_type": "stream",
     "text": [
      "Insufficient balance\n"
     ]
    }
   ],
   "source": [
    "obj.withdraw(2000)"
   ],
   "metadata": {
    "collapsed": false,
    "ExecuteTime": {
     "end_time": "2024-07-07T14:22:22.619503600Z",
     "start_time": "2024-07-07T14:22:22.572726800Z"
    }
   },
   "id": "7d2d5903d1f22a5f",
   "execution_count": 39
  },
  {
   "cell_type": "code",
   "outputs": [],
   "source": [
    "obj.set_balance(200)"
   ],
   "metadata": {
    "collapsed": false,
    "ExecuteTime": {
     "end_time": "2024-07-07T14:22:32.563388700Z",
     "start_time": "2024-07-07T14:22:32.498513Z"
    }
   },
   "id": "3da97844ce458ab9",
   "execution_count": 40
  },
  {
   "cell_type": "code",
   "outputs": [
    {
     "data": {
      "text/plain": "200"
     },
     "execution_count": 41,
     "metadata": {},
     "output_type": "execute_result"
    }
   ],
   "source": [
    "obj.get_balance()"
   ],
   "metadata": {
    "collapsed": false,
    "ExecuteTime": {
     "end_time": "2024-07-07T14:22:34.810465100Z",
     "start_time": "2024-07-07T14:22:34.763603400Z"
    }
   },
   "id": "53eebc278698a04e",
   "execution_count": 41
  },
  {
   "cell_type": "code",
   "outputs": [],
   "source": [
    "obj.withdraw(200)\n"
   ],
   "metadata": {
    "collapsed": false,
    "ExecuteTime": {
     "end_time": "2024-07-07T14:23:11.460482100Z",
     "start_time": "2024-07-07T14:23:11.410185200Z"
    }
   },
   "id": "516bbb7645239d7",
   "execution_count": 42
  },
  {
   "cell_type": "code",
   "outputs": [
    {
     "data": {
      "text/plain": "0"
     },
     "execution_count": 43,
     "metadata": {},
     "output_type": "execute_result"
    }
   ],
   "source": [
    "obj.get_balance()\n"
   ],
   "metadata": {
    "collapsed": false,
    "ExecuteTime": {
     "end_time": "2024-07-07T14:23:13.759585300Z",
     "start_time": "2024-07-07T14:23:13.727286300Z"
    }
   },
   "id": "86c86350ada9deb6",
   "execution_count": 43
  },
  {
   "cell_type": "code",
   "outputs": [
    {
     "name": "stdout",
     "output_type": "stream",
     "text": [
      "Insufficient balance\n"
     ]
    }
   ],
   "source": [
    "obj.withdraw(1000)"
   ],
   "metadata": {
    "collapsed": false,
    "ExecuteTime": {
     "end_time": "2024-07-07T14:23:18.976252600Z",
     "start_time": "2024-07-07T14:23:18.898542Z"
    }
   },
   "id": "ec46208149cfd46c",
   "execution_count": 44
  },
  {
   "cell_type": "code",
   "outputs": [],
   "source": [
    "obj.deposit(2225)"
   ],
   "metadata": {
    "collapsed": false,
    "ExecuteTime": {
     "end_time": "2024-07-07T14:23:28.004494Z",
     "start_time": "2024-07-07T14:23:27.948359200Z"
    }
   },
   "id": "567b65f048fa2c13",
   "execution_count": 45
  },
  {
   "cell_type": "code",
   "outputs": [
    {
     "data": {
      "text/plain": "2225"
     },
     "execution_count": 46,
     "metadata": {},
     "output_type": "execute_result"
    }
   ],
   "source": [
    "obj.get_balance()"
   ],
   "metadata": {
    "collapsed": false,
    "ExecuteTime": {
     "end_time": "2024-07-07T14:23:34.740566100Z",
     "start_time": "2024-07-07T14:23:34.708200600Z"
    }
   },
   "id": "a60c39407a5aa02",
   "execution_count": 46
  },
  {
   "cell_type": "code",
   "outputs": [],
   "source": [],
   "metadata": {
    "collapsed": false
   },
   "id": "591fc28ca9b6ea38"
  }
 ],
 "metadata": {
  "kernelspec": {
   "display_name": "Python 3",
   "language": "python",
   "name": "python3"
  },
  "language_info": {
   "codemirror_mode": {
    "name": "ipython",
    "version": 2
   },
   "file_extension": ".py",
   "mimetype": "text/x-python",
   "name": "python",
   "nbconvert_exporter": "python",
   "pygments_lexer": "ipython2",
   "version": "2.7.6"
  }
 },
 "nbformat": 4,
 "nbformat_minor": 5
}
