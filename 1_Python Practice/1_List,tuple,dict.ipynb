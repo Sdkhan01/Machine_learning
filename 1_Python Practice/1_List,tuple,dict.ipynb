{
 "cells": [
  {
   "cell_type": "code",
   "execution_count": 1,
   "id": "initial_id",
   "metadata": {
    "collapsed": true,
    "ExecuteTime": {
     "end_time": "2024-07-05T06:34:16.997265200Z",
     "start_time": "2024-07-05T06:34:16.973142800Z"
    }
   },
   "outputs": [],
   "source": [
    "## list, tuple, dictinary"
   ]
  },
  {
   "cell_type": "code",
   "outputs": [
    {
     "data": {
      "text/plain": "list"
     },
     "execution_count": 2,
     "metadata": {},
     "output_type": "execute_result"
    }
   ],
   "source": [
    "# list\n",
    "\n",
    "l1 = [1,2,3,4,5,'shubham', 'kumar', 'singh', 3.14, 3.14]\n",
    "type(l1)"
   ],
   "metadata": {
    "collapsed": false,
    "ExecuteTime": {
     "end_time": "2024-07-05T06:35:03.719252800Z",
     "start_time": "2024-07-05T06:35:03.682057100Z"
    }
   },
   "id": "e79656436f1698ba",
   "execution_count": 2
  },
  {
   "cell_type": "code",
   "outputs": [
    {
     "data": {
      "text/plain": "[1, 2, 3, 4, 5, 'shubham', 'kumar', 'singh', 3.14, 3.14]"
     },
     "execution_count": 3,
     "metadata": {},
     "output_type": "execute_result"
    }
   ],
   "source": [
    "l1\n"
   ],
   "metadata": {
    "collapsed": false,
    "ExecuteTime": {
     "end_time": "2024-07-05T06:35:06.862231800Z",
     "start_time": "2024-07-05T06:35:06.835161900Z"
    }
   },
   "id": "2e527eb7e5c31c10",
   "execution_count": 3
  },
  {
   "cell_type": "code",
   "outputs": [
    {
     "data": {
      "text/plain": "3.14"
     },
     "execution_count": 4,
     "metadata": {},
     "output_type": "execute_result"
    }
   ],
   "source": [
    "l1[-1]"
   ],
   "metadata": {
    "collapsed": false,
    "ExecuteTime": {
     "end_time": "2024-07-05T06:35:37.971123200Z",
     "start_time": "2024-07-05T06:35:37.951169300Z"
    }
   },
   "id": "6dbaff2bbe6a2dee",
   "execution_count": 4
  },
  {
   "cell_type": "code",
   "outputs": [
    {
     "data": {
      "text/plain": "[1, 2, 3, 4, 5, 'shubham', 'kumar', 'singh', 3.14, 3.14]"
     },
     "execution_count": 5,
     "metadata": {},
     "output_type": "execute_result"
    }
   ],
   "source": [
    "l1[::1]"
   ],
   "metadata": {
    "collapsed": false,
    "ExecuteTime": {
     "end_time": "2024-07-05T06:36:04.758161100Z",
     "start_time": "2024-07-05T06:36:04.720253Z"
    }
   },
   "id": "64771e5efea90180",
   "execution_count": 5
  },
  {
   "cell_type": "code",
   "outputs": [
    {
     "data": {
      "text/plain": "[1, 2, 3, 4, 5, 'shubham', 'kumar', 'singh', 3.14, 3.14]"
     },
     "execution_count": 6,
     "metadata": {},
     "output_type": "execute_result"
    }
   ],
   "source": [
    "l1[::]"
   ],
   "metadata": {
    "collapsed": false,
    "ExecuteTime": {
     "end_time": "2024-07-05T06:36:12.602974900Z",
     "start_time": "2024-07-05T06:36:12.575531300Z"
    }
   },
   "id": "91eec243f4649796",
   "execution_count": 6
  },
  {
   "cell_type": "code",
   "outputs": [
    {
     "data": {
      "text/plain": "[3.14, 3.14, 'singh', 'kumar', 'shubham', 5, 4, 3, 2, 1]"
     },
     "execution_count": 7,
     "metadata": {},
     "output_type": "execute_result"
    }
   ],
   "source": [
    "l1[::-1]"
   ],
   "metadata": {
    "collapsed": false,
    "ExecuteTime": {
     "end_time": "2024-07-05T06:36:29.002207300Z",
     "start_time": "2024-07-05T06:36:28.958325800Z"
    }
   },
   "id": "791ccbe60ce014e0",
   "execution_count": 7
  },
  {
   "cell_type": "code",
   "outputs": [
    {
     "data": {
      "text/plain": "[1, 3, 5, 'kumar', 3.14]"
     },
     "execution_count": 8,
     "metadata": {},
     "output_type": "execute_result"
    }
   ],
   "source": [
    "l1[::2]"
   ],
   "metadata": {
    "collapsed": false,
    "ExecuteTime": {
     "end_time": "2024-07-05T06:36:40.850211900Z",
     "start_time": "2024-07-05T06:36:40.820726900Z"
    }
   },
   "id": "9c58fdf48a22bd8e",
   "execution_count": 8
  },
  {
   "cell_type": "code",
   "outputs": [
    {
     "data": {
      "text/plain": "[2, 3, 4, 5]"
     },
     "execution_count": 9,
     "metadata": {},
     "output_type": "execute_result"
    }
   ],
   "source": [
    "l1[1:5]"
   ],
   "metadata": {
    "collapsed": false,
    "ExecuteTime": {
     "end_time": "2024-07-05T06:36:56.730127600Z",
     "start_time": "2024-07-05T06:36:56.697204100Z"
    }
   },
   "id": "a43a16da1c50a71f",
   "execution_count": 9
  },
  {
   "cell_type": "code",
   "outputs": [
    {
     "data": {
      "text/plain": "['m', 'a', 'h', 'b', 'u', 'h', 's']"
     },
     "execution_count": 16,
     "metadata": {},
     "output_type": "execute_result"
    }
   ],
   "source": [
    "s = ['s','h','u','b','h','a','m']\n",
    "s[::-1]"
   ],
   "metadata": {
    "collapsed": false,
    "ExecuteTime": {
     "end_time": "2024-07-05T06:39:34.818892900Z",
     "start_time": "2024-07-05T06:39:34.794957500Z"
    }
   },
   "id": "7c58b85347063d6c",
   "execution_count": 16
  },
  {
   "cell_type": "code",
   "outputs": [],
   "source": [
    "l2 = l1 + s"
   ],
   "metadata": {
    "collapsed": false,
    "ExecuteTime": {
     "end_time": "2024-07-05T06:40:18.578472100Z",
     "start_time": "2024-07-05T06:40:18.551506100Z"
    }
   },
   "id": "4025ab6f0ab798dd",
   "execution_count": 20
  },
  {
   "cell_type": "code",
   "outputs": [
    {
     "data": {
      "text/plain": "[1,\n 2,\n 3,\n 4,\n 5,\n 'shubham',\n 'kumar',\n 'singh',\n 3.14,\n 3.14,\n 's',\n 'h',\n 'u',\n 'b',\n 'h',\n 'a',\n 'm']"
     },
     "execution_count": 21,
     "metadata": {},
     "output_type": "execute_result"
    }
   ],
   "source": [
    "l2"
   ],
   "metadata": {
    "collapsed": false,
    "ExecuteTime": {
     "end_time": "2024-07-05T06:40:20.382588600Z",
     "start_time": "2024-07-05T06:40:20.357653200Z"
    }
   },
   "id": "6896be42778d1fb5",
   "execution_count": 21
  },
  {
   "cell_type": "code",
   "outputs": [],
   "source": [
    "l2[0] = 100"
   ],
   "metadata": {
    "collapsed": false,
    "ExecuteTime": {
     "end_time": "2024-07-05T06:40:24.026469300Z",
     "start_time": "2024-07-05T06:40:23.996986200Z"
    }
   },
   "id": "12dd5b2d14a787b4",
   "execution_count": 22
  },
  {
   "cell_type": "code",
   "outputs": [
    {
     "data": {
      "text/plain": "[100,\n 2,\n 3,\n 4,\n 5,\n 'shubham',\n 'kumar',\n 'singh',\n 3.14,\n 3.14,\n 's',\n 'h',\n 'u',\n 'b',\n 'h',\n 'a',\n 'm']"
     },
     "execution_count": 23,
     "metadata": {},
     "output_type": "execute_result"
    }
   ],
   "source": [
    "l2"
   ],
   "metadata": {
    "collapsed": false,
    "ExecuteTime": {
     "end_time": "2024-07-05T06:40:25.775235700Z",
     "start_time": "2024-07-05T06:40:25.743320700Z"
    }
   },
   "id": "647580306e7cdbe7",
   "execution_count": 23
  },
  {
   "cell_type": "code",
   "outputs": [
    {
     "data": {
      "text/plain": "[1, 2, 3, 4, 5, 'shubham', 'kumar', 'singh', 3.14, 3.14]"
     },
     "execution_count": 24,
     "metadata": {},
     "output_type": "execute_result"
    }
   ],
   "source": [
    "l1"
   ],
   "metadata": {
    "collapsed": false,
    "ExecuteTime": {
     "end_time": "2024-07-05T06:40:38.453999300Z",
     "start_time": "2024-07-05T06:40:38.412115700Z"
    }
   },
   "id": "fabaf30b46387411",
   "execution_count": 24
  },
  {
   "cell_type": "code",
   "outputs": [
    {
     "data": {
      "text/plain": "'shubham'"
     },
     "execution_count": 25,
     "metadata": {},
     "output_type": "execute_result"
    }
   ],
   "source": [
    "l1[5]"
   ],
   "metadata": {
    "collapsed": false,
    "ExecuteTime": {
     "end_time": "2024-07-05T06:40:56.330685500Z",
     "start_time": "2024-07-05T06:40:56.305752900Z"
    }
   },
   "id": "1240a0af0e86ae78",
   "execution_count": 25
  },
  {
   "cell_type": "code",
   "outputs": [
    {
     "data": {
      "text/plain": "'s'"
     },
     "execution_count": 26,
     "metadata": {},
     "output_type": "execute_result"
    }
   ],
   "source": [
    "l1[5][0]"
   ],
   "metadata": {
    "collapsed": false,
    "ExecuteTime": {
     "end_time": "2024-07-05T06:41:14.629528700Z",
     "start_time": "2024-07-05T06:41:14.588126400Z"
    }
   },
   "id": "c540163aa2209d24",
   "execution_count": 26
  },
  {
   "cell_type": "code",
   "outputs": [
    {
     "data": {
      "text/plain": "'shu'"
     },
     "execution_count": 27,
     "metadata": {},
     "output_type": "execute_result"
    }
   ],
   "source": [
    "l1[5][0:3]"
   ],
   "metadata": {
    "collapsed": false,
    "ExecuteTime": {
     "end_time": "2024-07-05T06:41:17.638222Z",
     "start_time": "2024-07-05T06:41:17.611292700Z"
    }
   },
   "id": "45656ef54998e492",
   "execution_count": 27
  },
  {
   "cell_type": "code",
   "outputs": [
    {
     "data": {
      "text/plain": "'mahbuhs'"
     },
     "execution_count": 28,
     "metadata": {},
     "output_type": "execute_result"
    }
   ],
   "source": [
    "l1[5][::-1]"
   ],
   "metadata": {
    "collapsed": false,
    "ExecuteTime": {
     "end_time": "2024-07-05T06:41:20.619696400Z",
     "start_time": "2024-07-05T06:41:20.590239900Z"
    }
   },
   "id": "d3d03fdb2fe42eb5",
   "execution_count": 28
  },
  {
   "cell_type": "code",
   "outputs": [
    {
     "data": {
      "text/plain": "'m'"
     },
     "execution_count": 29,
     "metadata": {},
     "output_type": "execute_result"
    }
   ],
   "source": [
    "l1[5][::-1][0]"
   ],
   "metadata": {
    "collapsed": false,
    "ExecuteTime": {
     "end_time": "2024-07-05T06:41:27.943500400Z",
     "start_time": "2024-07-05T06:41:27.920020600Z"
    }
   },
   "id": "9f83b87d1fb69b92",
   "execution_count": 29
  },
  {
   "cell_type": "code",
   "outputs": [
    {
     "data": {
      "text/plain": "'mah'"
     },
     "execution_count": 30,
     "metadata": {},
     "output_type": "execute_result"
    }
   ],
   "source": [
    "l1[5][::-1][0:3]"
   ],
   "metadata": {
    "collapsed": false,
    "ExecuteTime": {
     "end_time": "2024-07-05T06:41:36.255560200Z",
     "start_time": "2024-07-05T06:41:36.225394900Z"
    }
   },
   "id": "86cabacb0969e3f",
   "execution_count": 30
  },
  {
   "cell_type": "code",
   "outputs": [
    {
     "data": {
      "text/plain": "'ham'"
     },
     "execution_count": 31,
     "metadata": {},
     "output_type": "execute_result"
    }
   ],
   "source": [
    "l1[5][::-1][0:3][::-1]"
   ],
   "metadata": {
    "collapsed": false,
    "ExecuteTime": {
     "end_time": "2024-07-05T06:42:11.296829400Z",
     "start_time": "2024-07-05T06:42:11.257022200Z"
    }
   },
   "id": "737a1bffdb2ba438",
   "execution_count": 31
  },
  {
   "cell_type": "code",
   "outputs": [
    {
     "data": {
      "text/plain": "'h'"
     },
     "execution_count": 32,
     "metadata": {},
     "output_type": "execute_result"
    }
   ],
   "source": [
    "l1[5][::-1][0:3][::-1][0]"
   ],
   "metadata": {
    "collapsed": false,
    "ExecuteTime": {
     "end_time": "2024-07-05T06:42:31.969688500Z",
     "start_time": "2024-07-05T06:42:31.942762700Z"
    }
   },
   "id": "4d6a9aebda2eb1dd",
   "execution_count": 32
  },
  {
   "cell_type": "code",
   "outputs": [
    {
     "data": {
      "text/plain": "'ha'"
     },
     "execution_count": 33,
     "metadata": {},
     "output_type": "execute_result"
    }
   ],
   "source": [
    "l1[5][::-1][0:3][::-1][0:2]"
   ],
   "metadata": {
    "collapsed": false,
    "ExecuteTime": {
     "end_time": "2024-07-05T06:42:35.334429700Z",
     "start_time": "2024-07-05T06:42:35.306499400Z"
    }
   },
   "id": "350b17ca92fad0ef",
   "execution_count": 33
  },
  {
   "cell_type": "code",
   "outputs": [
    {
     "data": {
      "text/plain": "'ah'"
     },
     "execution_count": 34,
     "metadata": {},
     "output_type": "execute_result"
    }
   ],
   "source": [
    "l1[5][::-1][0:3][::-1][0:2][::-1]"
   ],
   "metadata": {
    "collapsed": false,
    "ExecuteTime": {
     "end_time": "2024-07-05T06:42:38.853220500Z",
     "start_time": "2024-07-05T06:42:38.826684500Z"
    }
   },
   "id": "5ff75faa33b4f63c",
   "execution_count": 34
  },
  {
   "cell_type": "code",
   "outputs": [
    {
     "data": {
      "text/plain": "'a'"
     },
     "execution_count": 35,
     "metadata": {},
     "output_type": "execute_result"
    }
   ],
   "source": [
    "l1[5][::-1][0:3][::-1][0:2][::-1][0]"
   ],
   "metadata": {
    "collapsed": false,
    "ExecuteTime": {
     "end_time": "2024-07-05T06:42:42.226049400Z",
     "start_time": "2024-07-05T06:42:42.189127800Z"
    }
   },
   "id": "ffcd0de4cd4b195e",
   "execution_count": 35
  },
  {
   "cell_type": "code",
   "outputs": [
    {
     "data": {
      "text/plain": "'ah'"
     },
     "execution_count": 36,
     "metadata": {},
     "output_type": "execute_result"
    }
   ],
   "source": [
    "l1[5][::-1][0:3][::-1][0:2][::-1][0:2]"
   ],
   "metadata": {
    "collapsed": false,
    "ExecuteTime": {
     "end_time": "2024-07-05T06:42:44.993641200Z",
     "start_time": "2024-07-05T06:42:44.947612300Z"
    }
   },
   "id": "84221d2da8e68255",
   "execution_count": 36
  },
  {
   "cell_type": "code",
   "outputs": [
    {
     "data": {
      "text/plain": "'ha'"
     },
     "execution_count": 37,
     "metadata": {},
     "output_type": "execute_result"
    }
   ],
   "source": [
    "l1[5][::-1][0:3][::-1][0:2][::-1][0:2][::-1]"
   ],
   "metadata": {
    "collapsed": false,
    "ExecuteTime": {
     "end_time": "2024-07-05T06:42:47.999572Z",
     "start_time": "2024-07-05T06:42:47.952118400Z"
    }
   },
   "id": "a3866b932d4607f",
   "execution_count": 37
  },
  {
   "cell_type": "code",
   "outputs": [
    {
     "data": {
      "text/plain": "[1, 2, 3, 4, 5, 'shubham', 'kumar', 'singh', 3.14, 3.14]"
     },
     "execution_count": 38,
     "metadata": {},
     "output_type": "execute_result"
    }
   ],
   "source": [
    "l1"
   ],
   "metadata": {
    "collapsed": false,
    "ExecuteTime": {
     "end_time": "2024-07-05T06:57:34.132687Z",
     "start_time": "2024-07-05T06:57:34.108667400Z"
    }
   },
   "id": "b96a646714a4552d",
   "execution_count": 38
  },
  {
   "cell_type": "code",
   "outputs": [],
   "source": [
    "l1.append('sdk')"
   ],
   "metadata": {
    "collapsed": false,
    "ExecuteTime": {
     "end_time": "2024-07-05T06:57:45.121863400Z",
     "start_time": "2024-07-05T06:57:45.086958200Z"
    }
   },
   "id": "f7c9fa46adb15193",
   "execution_count": 39
  },
  {
   "cell_type": "code",
   "outputs": [
    {
     "data": {
      "text/plain": "[1, 2, 3, 4, 5, 'shubham', 'kumar', 'singh', 3.14, 3.14, 'sdk']"
     },
     "execution_count": 40,
     "metadata": {},
     "output_type": "execute_result"
    }
   ],
   "source": [
    "l1"
   ],
   "metadata": {
    "collapsed": false,
    "ExecuteTime": {
     "end_time": "2024-07-05T06:57:47.642389600Z",
     "start_time": "2024-07-05T06:57:47.610475900Z"
    }
   },
   "id": "15b9ea680dd9ee4f",
   "execution_count": 40
  },
  {
   "cell_type": "code",
   "outputs": [],
   "source": [
    "l1.append(['s','d','k'])"
   ],
   "metadata": {
    "collapsed": false,
    "ExecuteTime": {
     "end_time": "2024-07-05T06:57:52.182642800Z",
     "start_time": "2024-07-05T06:57:52.150719900Z"
    }
   },
   "id": "dc5309701c0deade",
   "execution_count": 41
  },
  {
   "cell_type": "code",
   "outputs": [
    {
     "data": {
      "text/plain": "[1,\n 2,\n 3,\n 4,\n 5,\n 'shubham',\n 'kumar',\n 'singh',\n 3.14,\n 3.14,\n 'sdk',\n ['s', 'd', 'k']]"
     },
     "execution_count": 42,
     "metadata": {},
     "output_type": "execute_result"
    }
   ],
   "source": [
    "l1"
   ],
   "metadata": {
    "collapsed": false,
    "ExecuteTime": {
     "end_time": "2024-07-05T06:57:54.141449800Z",
     "start_time": "2024-07-05T06:57:54.097055600Z"
    }
   },
   "id": "40fe6e106dabb5ac",
   "execution_count": 42
  },
  {
   "cell_type": "code",
   "outputs": [],
   "source": [
    "l1.append(100)"
   ],
   "metadata": {
    "collapsed": false,
    "ExecuteTime": {
     "end_time": "2024-07-05T06:58:23.385787900Z",
     "start_time": "2024-07-05T06:58:23.356835200Z"
    }
   },
   "id": "33d42cb81befae46",
   "execution_count": 44
  },
  {
   "cell_type": "code",
   "outputs": [
    {
     "data": {
      "text/plain": "[1,\n 2,\n 3,\n 4,\n 5,\n 'shubham',\n 'kumar',\n 'singh',\n 3.14,\n 3.14,\n 'sdk',\n ['s', 'd', 'k'],\n 100]"
     },
     "execution_count": 45,
     "metadata": {},
     "output_type": "execute_result"
    }
   ],
   "source": [
    "l1"
   ],
   "metadata": {
    "collapsed": false,
    "ExecuteTime": {
     "end_time": "2024-07-05T06:58:26.852032900Z",
     "start_time": "2024-07-05T06:58:26.830041900Z"
    }
   },
   "id": "8fbb832d87e6cb03",
   "execution_count": 45
  },
  {
   "cell_type": "code",
   "outputs": [
    {
     "data": {
      "text/plain": "list"
     },
     "execution_count": 46,
     "metadata": {},
     "output_type": "execute_result"
    }
   ],
   "source": [
    "type(l1)"
   ],
   "metadata": {
    "collapsed": false,
    "ExecuteTime": {
     "end_time": "2024-07-05T06:58:39.115508100Z",
     "start_time": "2024-07-05T06:58:39.078572Z"
    }
   },
   "id": "c7335c68fe0c78ac",
   "execution_count": 46
  },
  {
   "cell_type": "code",
   "outputs": [
    {
     "data": {
      "text/plain": "[1,\n 2,\n 3,\n 4,\n 5,\n 'ssd',\n 'shubham',\n 'kumar',\n 'singh',\n 3.14,\n 3.14,\n 'sdk',\n ['s', 'd', 'k'],\n 100,\n 100,\n 100]"
     },
     "execution_count": 48,
     "metadata": {},
     "output_type": "execute_result"
    }
   ],
   "source": [
    "#append at \n",
    "l1.insert(5,'ssd')\n",
    "l1.append(100)\n",
    "l1"
   ],
   "metadata": {
    "collapsed": false,
    "ExecuteTime": {
     "end_time": "2024-07-05T07:11:06.928279600Z",
     "start_time": "2024-07-05T07:11:06.885382800Z"
    }
   },
   "id": "db626f90d519fa59",
   "execution_count": 48
  },
  {
   "cell_type": "code",
   "outputs": [],
   "source": [
    "l1.insert(4,[3,2,3])"
   ],
   "metadata": {
    "collapsed": false,
    "ExecuteTime": {
     "end_time": "2024-07-05T07:13:54.244371500Z",
     "start_time": "2024-07-05T07:13:54.126117100Z"
    }
   },
   "id": "1fee19f48a9b9dff",
   "execution_count": 57
  },
  {
   "cell_type": "code",
   "outputs": [
    {
     "data": {
      "text/plain": "1"
     },
     "execution_count": 58,
     "metadata": {},
     "output_type": "execute_result"
    }
   ],
   "source": [
    "1"
   ],
   "metadata": {
    "collapsed": false,
    "ExecuteTime": {
     "end_time": "2024-07-05T07:13:54.791249700Z",
     "start_time": "2024-07-05T07:13:54.757338200Z"
    }
   },
   "id": "928e6de5c802ab7d",
   "execution_count": 58
  },
  {
   "cell_type": "code",
   "outputs": [
    {
     "data": {
      "text/plain": "[1,\n 2,\n 3,\n 4,\n [3, 2, 3],\n [323],\n 5,\n 'ssd',\n 'shubham',\n 'kumar',\n 'singh',\n 3.14,\n 3.14,\n 'sdk',\n ['s', 'd', 'k'],\n 100,\n 100,\n 100]"
     },
     "execution_count": 59,
     "metadata": {},
     "output_type": "execute_result"
    }
   ],
   "source": [
    "l1"
   ],
   "metadata": {
    "collapsed": false,
    "ExecuteTime": {
     "end_time": "2024-07-05T07:13:55.772686200Z",
     "start_time": "2024-07-05T07:13:55.736262Z"
    }
   },
   "id": "97c9453c5a3bd85d",
   "execution_count": 59
  },
  {
   "cell_type": "code",
   "outputs": [
    {
     "data": {
      "text/plain": "[3, 2]"
     },
     "execution_count": 60,
     "metadata": {},
     "output_type": "execute_result"
    }
   ],
   "source": [
    "l1[4][:2]"
   ],
   "metadata": {
    "collapsed": false,
    "ExecuteTime": {
     "end_time": "2024-07-05T07:14:11.151940400Z",
     "start_time": "2024-07-05T07:14:11.121987200Z"
    }
   },
   "id": "1ce526ff1cfa32fa",
   "execution_count": 60
  },
  {
   "cell_type": "code",
   "outputs": [
    {
     "data": {
      "text/plain": "[1,\n 2,\n 3,\n 4,\n [3, 2, 3],\n [323],\n 5,\n 'ssd',\n 'shubham',\n 'kumar',\n 'singh',\n 3.14,\n 3.14,\n 'sdk',\n ['s', 'd', 'k'],\n 100,\n 100,\n 100,\n 's',\n 'h',\n 'd']"
     },
     "execution_count": 61,
     "metadata": {},
     "output_type": "execute_result"
    }
   ],
   "source": [
    "l1.extend('shd')\n",
    "l1"
   ],
   "metadata": {
    "collapsed": false,
    "ExecuteTime": {
     "end_time": "2024-07-05T07:19:17.504777900Z",
     "start_time": "2024-07-05T07:19:17.465691200Z"
    }
   },
   "id": "64bb3c180d9b7d74",
   "execution_count": 61
  },
  {
   "cell_type": "code",
   "outputs": [],
   "source": [
    "l1.extend(['shd'])"
   ],
   "metadata": {
    "collapsed": false,
    "ExecuteTime": {
     "end_time": "2024-07-05T07:19:24.036925600Z",
     "start_time": "2024-07-05T07:19:24.003540700Z"
    }
   },
   "id": "12922100e1aff62d",
   "execution_count": 62
  },
  {
   "cell_type": "code",
   "outputs": [
    {
     "data": {
      "text/plain": "[1,\n 2,\n 3,\n 4,\n [3, 2, 3],\n [323],\n 5,\n 'ssd',\n 'shubham',\n 'kumar',\n 'singh',\n 3.14,\n 3.14,\n 'sdk',\n ['s', 'd', 'k'],\n 100,\n 100,\n 100,\n 's',\n 'h',\n 'd',\n 'shd']"
     },
     "execution_count": 63,
     "metadata": {},
     "output_type": "execute_result"
    }
   ],
   "source": [
    "l1"
   ],
   "metadata": {
    "collapsed": false,
    "ExecuteTime": {
     "end_time": "2024-07-05T07:19:26.444952100Z",
     "start_time": "2024-07-05T07:19:26.402378Z"
    }
   },
   "id": "4dc6fc8fc07e2ce9",
   "execution_count": 63
  },
  {
   "cell_type": "code",
   "outputs": [],
   "source": [
    "l1.extend([1,2,3,4,5])"
   ],
   "metadata": {
    "collapsed": false,
    "ExecuteTime": {
     "end_time": "2024-07-05T07:19:34.035169200Z",
     "start_time": "2024-07-05T07:19:33.998016500Z"
    }
   },
   "id": "776bd3c1a118f2c",
   "execution_count": 64
  },
  {
   "cell_type": "code",
   "outputs": [
    {
     "data": {
      "text/plain": "[1,\n 2,\n 3,\n 4,\n [3, 2, 3],\n [323],\n 5,\n 'ssd',\n 'shubham',\n 'kumar',\n 'singh',\n 3.14,\n 3.14,\n 'sdk',\n ['s', 'd', 'k'],\n 100,\n 100,\n 100,\n 's',\n 'h',\n 'd',\n 'shd',\n 1,\n 2,\n 3,\n 4,\n 5]"
     },
     "execution_count": 65,
     "metadata": {},
     "output_type": "execute_result"
    }
   ],
   "source": [
    "l1"
   ],
   "metadata": {
    "collapsed": false,
    "ExecuteTime": {
     "end_time": "2024-07-05T07:19:35.997610200Z",
     "start_time": "2024-07-05T07:19:35.938669900Z"
    }
   },
   "id": "154a4c0e0bbe1edb",
   "execution_count": 65
  },
  {
   "cell_type": "code",
   "outputs": [
    {
     "data": {
      "text/plain": "5"
     },
     "execution_count": 67,
     "metadata": {},
     "output_type": "execute_result"
    }
   ],
   "source": [
    "l1.pop(-1)"
   ],
   "metadata": {
    "collapsed": false,
    "ExecuteTime": {
     "end_time": "2024-07-05T07:20:05.382783800Z",
     "start_time": "2024-07-05T07:20:05.314073300Z"
    }
   },
   "id": "e973831e4259d285",
   "execution_count": 67
  },
  {
   "cell_type": "code",
   "outputs": [
    {
     "data": {
      "text/plain": "[1,\n 2,\n 3,\n 4,\n [3, 2, 3],\n [323],\n 5,\n 'ssd',\n 'shubham',\n 'kumar',\n 'singh',\n 3.14,\n 3.14,\n 'sdk',\n ['s', 'd', 'k'],\n 100,\n 100,\n 100,\n 's',\n 'h',\n 'd',\n 'shd',\n 1,\n 2,\n 3,\n 4]"
     },
     "execution_count": 68,
     "metadata": {},
     "output_type": "execute_result"
    }
   ],
   "source": [
    "l1"
   ],
   "metadata": {
    "collapsed": false,
    "ExecuteTime": {
     "end_time": "2024-07-05T07:20:09.365049800Z",
     "start_time": "2024-07-05T07:20:09.322959Z"
    }
   },
   "id": "14968331c048d876",
   "execution_count": 68
  },
  {
   "cell_type": "code",
   "outputs": [
    {
     "data": {
      "text/plain": "[323]"
     },
     "execution_count": 69,
     "metadata": {},
     "output_type": "execute_result"
    }
   ],
   "source": [
    "l1.pop(5)"
   ],
   "metadata": {
    "collapsed": false,
    "ExecuteTime": {
     "end_time": "2024-07-05T07:20:14.845952900Z",
     "start_time": "2024-07-05T07:20:14.804549400Z"
    }
   },
   "id": "f294223512201bbc",
   "execution_count": 69
  },
  {
   "cell_type": "code",
   "outputs": [
    {
     "data": {
      "text/plain": "[1,\n 2,\n 3,\n 4,\n [3, 2, 3],\n 5,\n 'ssd',\n 'shubham',\n 'kumar',\n 'singh',\n 3.14,\n 3.14,\n 'sdk',\n ['s', 'd', 'k'],\n 100,\n 100,\n 100,\n 's',\n 'h',\n 'd',\n 'shd',\n 1,\n 2,\n 3,\n 4]"
     },
     "execution_count": 70,
     "metadata": {},
     "output_type": "execute_result"
    }
   ],
   "source": [
    "l1"
   ],
   "metadata": {
    "collapsed": false,
    "ExecuteTime": {
     "end_time": "2024-07-05T07:20:17.450137Z",
     "start_time": "2024-07-05T07:20:17.388391600Z"
    }
   },
   "id": "ef25ece66d5e3fb",
   "execution_count": 70
  },
  {
   "cell_type": "code",
   "outputs": [
    {
     "data": {
      "text/plain": "[1,\n 2,\n 3,\n 4,\n [3, 2, 3],\n 5,\n 'ssd',\n 'kumar',\n 'singh',\n 3.14,\n 3.14,\n 'sdk',\n ['s', 'd', 'k'],\n 100,\n 100,\n 100,\n 's',\n 'h',\n 'd',\n 'shd',\n 1,\n 2,\n 3,\n 4]"
     },
     "execution_count": 71,
     "metadata": {},
     "output_type": "execute_result"
    }
   ],
   "source": [
    "l1.remove('shubham')\n",
    "l1"
   ],
   "metadata": {
    "collapsed": false,
    "ExecuteTime": {
     "end_time": "2024-07-05T07:27:11.774902700Z",
     "start_time": "2024-07-05T07:27:11.737972900Z"
    }
   },
   "id": "3c2b8c1e6bd9ae1d",
   "execution_count": 71
  },
  {
   "cell_type": "code",
   "outputs": [
    {
     "ename": "ValueError",
     "evalue": "list.remove(x): x not in list",
     "output_type": "error",
     "traceback": [
      "\u001B[1;31m---------------------------------------------------------------------------\u001B[0m",
      "\u001B[1;31mValueError\u001B[0m                                Traceback (most recent call last)",
      "Cell \u001B[1;32mIn[72], line 1\u001B[0m\n\u001B[1;32m----> 1\u001B[0m \u001B[43ml1\u001B[49m\u001B[38;5;241;43m.\u001B[39;49m\u001B[43mremove\u001B[49m\u001B[43m(\u001B[49m\u001B[38;5;241;43m0\u001B[39;49m\u001B[43m)\u001B[49m\n\u001B[0;32m      2\u001B[0m l1\n",
      "\u001B[1;31mValueError\u001B[0m: list.remove(x): x not in list"
     ]
    }
   ],
   "source": [
    "l1.remove([0])\n",
    "l1"
   ],
   "metadata": {
    "collapsed": false,
    "ExecuteTime": {
     "end_time": "2024-07-05T07:27:59.646838900Z",
     "start_time": "2024-07-05T07:27:59.599965200Z"
    }
   },
   "id": "af9b742ab0f1a532",
   "execution_count": 72
  },
  {
   "cell_type": "code",
   "outputs": [],
   "source": [
    "l1[4].remove(2)"
   ],
   "metadata": {
    "collapsed": false,
    "ExecuteTime": {
     "end_time": "2024-07-05T07:29:49.154559600Z",
     "start_time": "2024-07-05T07:29:49.097674900Z"
    }
   },
   "id": "b770929371736949",
   "execution_count": 75
  },
  {
   "cell_type": "code",
   "outputs": [
    {
     "data": {
      "text/plain": "[1,\n 2,\n 3,\n 4,\n [3, 3],\n 5,\n 'ssd',\n 'kumar',\n 'singh',\n 3.14,\n 3.14,\n 'sdk',\n ['s', 'd', 'k'],\n 100,\n 100,\n 100,\n 's',\n 'h',\n 'd',\n 'shd',\n 1,\n 2,\n 3,\n 4]"
     },
     "execution_count": 76,
     "metadata": {},
     "output_type": "execute_result"
    }
   ],
   "source": [
    "l1"
   ],
   "metadata": {
    "collapsed": false,
    "ExecuteTime": {
     "end_time": "2024-07-05T07:29:53.392090700Z",
     "start_time": "2024-07-05T07:29:53.354850Z"
    }
   },
   "id": "dfa1bab9399682fd",
   "execution_count": 76
  },
  {
   "cell_type": "code",
   "outputs": [],
   "source": [
    "str = 'shubham'"
   ],
   "metadata": {
    "collapsed": false,
    "ExecuteTime": {
     "end_time": "2024-07-05T07:38:12.532385200Z",
     "start_time": "2024-07-05T07:38:12.499462500Z"
    }
   },
   "id": "3544f34141a8bf0",
   "execution_count": 77
  },
  {
   "cell_type": "code",
   "outputs": [
    {
     "ename": "TypeError",
     "evalue": "'str' object does not support item assignment",
     "output_type": "error",
     "traceback": [
      "\u001B[1;31m---------------------------------------------------------------------------\u001B[0m",
      "\u001B[1;31mTypeError\u001B[0m                                 Traceback (most recent call last)",
      "Cell \u001B[1;32mIn[79], line 1\u001B[0m\n\u001B[1;32m----> 1\u001B[0m \u001B[38;5;28;43mstr\u001B[39;49m\u001B[43m[\u001B[49m\u001B[38;5;241;43m0\u001B[39;49m\u001B[43m]\u001B[49m \u001B[38;5;241m=\u001B[39m \u001B[38;5;124m'\u001B[39m\u001B[38;5;124mr\u001B[39m\u001B[38;5;124m'\u001B[39m\n",
      "\u001B[1;31mTypeError\u001B[0m: 'str' object does not support item assignment"
     ]
    }
   ],
   "source": [
    "str[0] = 'r'"
   ],
   "metadata": {
    "collapsed": false,
    "ExecuteTime": {
     "end_time": "2024-07-05T07:38:29.402872400Z",
     "start_time": "2024-07-05T07:38:29.355193900Z"
    }
   },
   "id": "7386bce99f643f1f",
   "execution_count": 79
  },
  {
   "cell_type": "code",
   "outputs": [
    {
     "data": {
      "text/plain": "[100, 2, 3, 4, 5]"
     },
     "execution_count": 80,
     "metadata": {},
     "output_type": "execute_result"
    }
   ],
   "source": [
    "l2 = [1,2,3,4,5]\n",
    "l2[0] = 100\n",
    "l2"
   ],
   "metadata": {
    "collapsed": false,
    "ExecuteTime": {
     "end_time": "2024-07-05T07:38:57.384382100Z",
     "start_time": "2024-07-05T07:38:57.352311500Z"
    }
   },
   "id": "e5ecb571143e51",
   "execution_count": 80
  },
  {
   "cell_type": "code",
   "outputs": [],
   "source": [],
   "metadata": {
    "collapsed": false,
    "ExecuteTime": {
     "end_time": "2024-07-05T07:39:10.279741100Z",
     "start_time": "2024-07-05T07:39:10.252695700Z"
    }
   },
   "id": "91b56b12a51f9135",
   "execution_count": 80
  },
  {
   "cell_type": "code",
   "outputs": [
    {
     "data": {
      "text/plain": "[100, 2, 3, 4, 5]"
     },
     "execution_count": 82,
     "metadata": {},
     "output_type": "execute_result"
    }
   ],
   "source": [
    "l2"
   ],
   "metadata": {
    "collapsed": false,
    "ExecuteTime": {
     "end_time": "2024-07-05T07:39:28.370905400Z",
     "start_time": "2024-07-05T07:39:28.329016Z"
    }
   },
   "id": "5ff8ce9c7797da87",
   "execution_count": 82
  },
  {
   "cell_type": "code",
   "outputs": [],
   "source": [
    "l2[1:3] = [200,300]"
   ],
   "metadata": {
    "collapsed": false,
    "ExecuteTime": {
     "end_time": "2024-07-05T07:39:33.380611200Z",
     "start_time": "2024-07-05T07:39:33.346667800Z"
    }
   },
   "id": "2b71126a56e00c55",
   "execution_count": 83
  },
  {
   "cell_type": "code",
   "outputs": [
    {
     "data": {
      "text/plain": "[100, 200, 300, 4, 5]"
     },
     "execution_count": 84,
     "metadata": {},
     "output_type": "execute_result"
    }
   ],
   "source": [
    "l2"
   ],
   "metadata": {
    "collapsed": false,
    "ExecuteTime": {
     "end_time": "2024-07-05T07:39:35.273758600Z",
     "start_time": "2024-07-05T07:39:35.226245500Z"
    }
   },
   "id": "e0eac73a326327a3",
   "execution_count": 84
  },
  {
   "cell_type": "code",
   "outputs": [],
   "source": [
    "str = str.replace('s','r')"
   ],
   "metadata": {
    "collapsed": false,
    "ExecuteTime": {
     "end_time": "2024-07-05T07:40:16.763972200Z",
     "start_time": "2024-07-05T07:40:16.711890Z"
    }
   },
   "id": "7dc3bca3547a2383",
   "execution_count": 85
  },
  {
   "cell_type": "code",
   "outputs": [
    {
     "data": {
      "text/plain": "'rhubham'"
     },
     "execution_count": 86,
     "metadata": {},
     "output_type": "execute_result"
    }
   ],
   "source": [
    "str"
   ],
   "metadata": {
    "collapsed": false,
    "ExecuteTime": {
     "end_time": "2024-07-05T07:40:19.362974Z",
     "start_time": "2024-07-05T07:40:19.331604200Z"
    }
   },
   "id": "a87cefaa386c6acb",
   "execution_count": 86
  },
  {
   "cell_type": "code",
   "outputs": [
    {
     "data": {
      "text/plain": "'rhubham'"
     },
     "execution_count": 87,
     "metadata": {},
     "output_type": "execute_result"
    }
   ],
   "source": [
    "str "
   ],
   "metadata": {
    "collapsed": false,
    "ExecuteTime": {
     "end_time": "2024-07-05T07:40:44.636974Z",
     "start_time": "2024-07-05T07:40:44.577517400Z"
    }
   },
   "id": "979fb947de55b893",
   "execution_count": 87
  },
  {
   "cell_type": "code",
   "outputs": [
    {
     "data": {
      "text/plain": "tuple"
     },
     "execution_count": 88,
     "metadata": {},
     "output_type": "execute_result"
    }
   ],
   "source": [
    "#tuplr\n",
    "t1 = (1,2,3,4,5)\n",
    "type(t1)"
   ],
   "metadata": {
    "collapsed": false,
    "ExecuteTime": {
     "end_time": "2024-07-05T07:41:04.598718Z",
     "start_time": "2024-07-05T07:41:04.569764700Z"
    }
   },
   "id": "a7c203ea73e22f",
   "execution_count": 88
  },
  {
   "cell_type": "code",
   "outputs": [
    {
     "data": {
      "text/plain": "1"
     },
     "execution_count": 89,
     "metadata": {},
     "output_type": "execute_result"
    }
   ],
   "source": [
    "t1[0]"
   ],
   "metadata": {
    "collapsed": false,
    "ExecuteTime": {
     "end_time": "2024-07-05T07:41:06.842584900Z",
     "start_time": "2024-07-05T07:41:06.812062600Z"
    }
   },
   "id": "345f878935f5ebfc",
   "execution_count": 89
  },
  {
   "cell_type": "code",
   "outputs": [
    {
     "ename": "TypeError",
     "evalue": "'tuple' object does not support item assignment",
     "output_type": "error",
     "traceback": [
      "\u001B[1;31m---------------------------------------------------------------------------\u001B[0m",
      "\u001B[1;31mTypeError\u001B[0m                                 Traceback (most recent call last)",
      "Cell \u001B[1;32mIn[90], line 1\u001B[0m\n\u001B[1;32m----> 1\u001B[0m \u001B[43mt1\u001B[49m\u001B[43m[\u001B[49m\u001B[38;5;241;43m0\u001B[39;49m\u001B[43m]\u001B[49m \u001B[38;5;241m=\u001B[39m \u001B[38;5;241m100\u001B[39m\n",
      "\u001B[1;31mTypeError\u001B[0m: 'tuple' object does not support item assignment"
     ]
    }
   ],
   "source": [
    "t1"
   ],
   "metadata": {
    "collapsed": false,
    "ExecuteTime": {
     "end_time": "2024-07-05T07:41:09.339235300Z",
     "start_time": "2024-07-05T07:41:09.294831500Z"
    }
   },
   "id": "163a9ecbe60ff89e",
   "execution_count": 90
  },
  {
   "cell_type": "code",
   "outputs": [
    {
     "data": {
      "text/plain": "set"
     },
     "execution_count": 1,
     "metadata": {},
     "output_type": "execute_result"
    }
   ],
   "source": [
    "s3 = {234,'shubham', 3.14, 234,(1,2,3,4,5)}\n",
    "type(s3)"
   ],
   "metadata": {
    "collapsed": false,
    "ExecuteTime": {
     "end_time": "2024-07-07T04:30:09.983179100Z",
     "start_time": "2024-07-07T04:30:09.969187700Z"
    }
   },
   "id": "9ae709913c4e90ac",
   "execution_count": 1
  },
  {
   "cell_type": "code",
   "outputs": [
    {
     "data": {
      "text/plain": "{(1, 2, 3, 4, 5), 234, 3.14, 'shubham'}"
     },
     "execution_count": 2,
     "metadata": {},
     "output_type": "execute_result"
    }
   ],
   "source": [
    "s3"
   ],
   "metadata": {
    "collapsed": false,
    "ExecuteTime": {
     "end_time": "2024-07-07T04:31:05.948345800Z",
     "start_time": "2024-07-07T04:31:05.895657Z"
    }
   },
   "id": "abea5b3567619a9",
   "execution_count": 2
  },
  {
   "cell_type": "code",
   "outputs": [
    {
     "data": {
      "text/plain": "{1, 2, 3, 4, 5, 6, 7, 8, 9, 'kh', 'sd'}"
     },
     "execution_count": 12,
     "metadata": {},
     "output_type": "execute_result"
    }
   ],
   "source": [
    "s4 = {9,4,5,5,6,1,1,2,3,4,4,5,6,7,3,3,7,8,4,'sd','sd','sd','sd','kh','kh','kh','kh'}\n",
    "s4"
   ],
   "metadata": {
    "collapsed": false,
    "ExecuteTime": {
     "end_time": "2024-07-07T04:33:48.191373200Z",
     "start_time": "2024-07-07T04:33:48.144952800Z"
    }
   },
   "id": "710140518820d2a4",
   "execution_count": 12
  },
  {
   "cell_type": "code",
   "outputs": [
    {
     "data": {
      "text/plain": "[1, 2, 3, 4, 5, 6, 7, 8, 9, 'sd', 'kh']"
     },
     "execution_count": 13,
     "metadata": {},
     "output_type": "execute_result"
    }
   ],
   "source": [
    "list(s4)"
   ],
   "metadata": {
    "collapsed": false,
    "ExecuteTime": {
     "end_time": "2024-07-07T04:33:50.417716200Z",
     "start_time": "2024-07-07T04:33:50.385803300Z"
    }
   },
   "id": "86d8dfea13d2d799",
   "execution_count": 13
  },
  {
   "cell_type": "code",
   "outputs": [],
   "source": [
    "s4.add(100)"
   ],
   "metadata": {
    "collapsed": false,
    "ExecuteTime": {
     "end_time": "2024-07-07T04:34:58.363147200Z",
     "start_time": "2024-07-07T04:34:58.175157700Z"
    }
   },
   "id": "d0797ba41b7d829",
   "execution_count": 14
  },
  {
   "cell_type": "code",
   "outputs": [
    {
     "data": {
      "text/plain": "{1, 100, 2, 3, 4, 5, 6, 7, 8, 9, 'kh', 'sd'}"
     },
     "execution_count": 15,
     "metadata": {},
     "output_type": "execute_result"
    }
   ],
   "source": [
    "s4"
   ],
   "metadata": {
    "collapsed": false,
    "ExecuteTime": {
     "end_time": "2024-07-07T04:35:00.893044900Z",
     "start_time": "2024-07-07T04:35:00.796755400Z"
    }
   },
   "id": "ea10ba78f5bd3343",
   "execution_count": 15
  },
  {
   "cell_type": "code",
   "outputs": [],
   "source": [
    "s4.remove(100)"
   ],
   "metadata": {
    "collapsed": false,
    "ExecuteTime": {
     "end_time": "2024-07-07T04:35:07.139096Z",
     "start_time": "2024-07-07T04:35:06.998348800Z"
    }
   },
   "id": "386592682bfc82f0",
   "execution_count": 16
  },
  {
   "cell_type": "code",
   "outputs": [
    {
     "data": {
      "text/plain": "{1, 2, 3, 4, 5, 6, 7, 8, 9, 'kh', 'sd'}"
     },
     "execution_count": 17,
     "metadata": {},
     "output_type": "execute_result"
    }
   ],
   "source": [
    "s4"
   ],
   "metadata": {
    "collapsed": false,
    "ExecuteTime": {
     "end_time": "2024-07-07T04:35:09.021786100Z",
     "start_time": "2024-07-07T04:35:08.893108500Z"
    }
   },
   "id": "f347405ef176f661",
   "execution_count": 17
  },
  {
   "cell_type": "code",
   "outputs": [
    {
     "name": "stdout",
     "output_type": "stream",
     "text": [
      "pass\n"
     ]
    }
   ],
   "source": [
    "marks = int(input('Enter the marks: '))\n",
    "if marks > 10:\n",
    "    print('pass')\n",
    "elif marks == 10:\n",
    "    print('just pass')\n",
    "else:\n",
    "    print('fail')"
   ],
   "metadata": {
    "collapsed": false,
    "ExecuteTime": {
     "end_time": "2024-07-07T04:51:46.840690300Z",
     "start_time": "2024-07-07T04:51:44.272890400Z"
    }
   },
   "id": "1bcefb3766cb5d95",
   "execution_count": 19
  },
  {
   "cell_type": "code",
   "outputs": [
    {
     "name": "stdout",
     "output_type": "stream",
     "text": [
      "negative\n"
     ]
    }
   ],
   "source": [
    "i = int(input('Enter the number: '))\n",
    "\n",
    "if i!=0:\n",
    "    if i>0:\n",
    "        print('positive')\n",
    "    if i<0:\n",
    "        print('negative')\n",
    "        "
   ],
   "metadata": {
    "collapsed": false,
    "ExecuteTime": {
     "end_time": "2024-07-07T04:53:18.362729400Z",
     "start_time": "2024-07-07T04:53:15.547942700Z"
    }
   },
   "id": "23321bb0258a9803",
   "execution_count": 20
  },
  {
   "cell_type": "code",
   "outputs": [
    {
     "name": "stdout",
     "output_type": "stream",
     "text": [
      "1\n",
      "2\n",
      "3\n",
      "4\n",
      "5\n",
      "6\n",
      "7\n",
      "8\n",
      "9\n",
      "10\n"
     ]
    }
   ],
   "source": [
    "list = [1,2,3,4,5,6,7,8,9,10]\n",
    "for i in list:\n",
    "    print(i)"
   ],
   "metadata": {
    "collapsed": false,
    "ExecuteTime": {
     "end_time": "2024-07-07T04:59:18.673719600Z",
     "start_time": "2024-07-07T04:59:18.628833400Z"
    }
   },
   "id": "769c24fcbb7f6014",
   "execution_count": 28
  },
  {
   "cell_type": "code",
   "outputs": [
    {
     "name": "stdout",
     "output_type": "stream",
     "text": [
      "1\n",
      "2\n",
      "3\n",
      "4\n"
     ]
    }
   ],
   "source": [
    "for i in range(1,5):\n",
    "    print(i)"
   ],
   "metadata": {
    "collapsed": false,
    "ExecuteTime": {
     "end_time": "2024-07-07T04:59:19.103823900Z",
     "start_time": "2024-07-07T04:59:19.036963800Z"
    }
   },
   "id": "ef970b444f47817e",
   "execution_count": 29
  },
  {
   "cell_type": "code",
   "outputs": [
    {
     "name": "stdout",
     "output_type": "stream",
     "text": [
      "1\n",
      "3\n",
      "5\n",
      "7\n",
      "9\n"
     ]
    }
   ],
   "source": [
    "for i in range(1,10,2):\n",
    "    print(i)\n",
    "    "
   ],
   "metadata": {
    "collapsed": false,
    "ExecuteTime": {
     "end_time": "2024-07-07T04:59:19.444680200Z",
     "start_time": "2024-07-07T04:59:19.390821Z"
    }
   },
   "id": "fac945fafcadcab7",
   "execution_count": 30
  },
  {
   "cell_type": "code",
   "outputs": [
    {
     "name": "stdout",
     "output_type": "stream",
     "text": [
      "10\n",
      "9\n",
      "8\n",
      "7\n",
      "6\n",
      "5\n",
      "4\n",
      "3\n",
      "2\n"
     ]
    }
   ],
   "source": [
    "for i in range(10,1,-1):\n",
    "    print(i)"
   ],
   "metadata": {
    "collapsed": false,
    "ExecuteTime": {
     "end_time": "2024-07-07T04:59:19.757776Z",
     "start_time": "2024-07-07T04:59:19.707821300Z"
    }
   },
   "id": "9d5d5360d49127ac",
   "execution_count": 31
  },
  {
   "cell_type": "code",
   "outputs": [
    {
     "data": {
      "text/plain": "[1, 4, 9, 16, 25, 36, 49, 64, 81, 100]"
     },
     "execution_count": 33,
     "metadata": {},
     "output_type": "execute_result"
    }
   ],
   "source": [
    "l2 =[]\n",
    "for i in list:\n",
    "    l2.append(i**2)\n",
    "l2"
   ],
   "metadata": {
    "collapsed": false,
    "ExecuteTime": {
     "end_time": "2024-07-07T04:59:35.016229500Z",
     "start_time": "2024-07-07T04:59:34.948382200Z"
    }
   },
   "id": "91b08707ea0f2cd5",
   "execution_count": 33
  },
  {
   "cell_type": "code",
   "outputs": [],
   "source": [],
   "metadata": {
    "collapsed": false,
    "ExecuteTime": {
     "end_time": "2024-07-07T04:59:35.229806700Z",
     "start_time": "2024-07-07T04:59:35.187868200Z"
    }
   },
   "id": "9411a1ec81f5fe96",
   "execution_count": 33
  },
  {
   "cell_type": "code",
   "outputs": [
    {
     "ename": "SyntaxError",
     "evalue": "cannot assign to expression (3508351309.py, line 1)",
     "output_type": "error",
     "traceback": [
      "\u001B[1;36m  Cell \u001B[1;32mIn[35], line 1\u001B[1;36m\u001B[0m\n\u001B[1;33m    [l2 for i**2 in list]\u001B[0m\n\u001B[1;37m            ^\u001B[0m\n\u001B[1;31mSyntaxError\u001B[0m\u001B[1;31m:\u001B[0m cannot assign to expression\n"
     ]
    }
   ],
   "source": [
    "[l2 for i**2 in list]"
   ],
   "metadata": {
    "collapsed": false,
    "ExecuteTime": {
     "end_time": "2024-07-07T05:00:14.251382700Z",
     "start_time": "2024-07-07T05:00:14.200013Z"
    }
   },
   "id": "b4f1db3b276ddce4",
   "execution_count": 35
  },
  {
   "cell_type": "code",
   "outputs": [
    {
     "data": {
      "text/plain": "[1, 4, 9, 16, 25, 36, 49, 64, 81, 100]"
     },
     "execution_count": 36,
     "metadata": {},
     "output_type": "execute_result"
    }
   ],
   "source": [
    "[i**2 for i in list]"
   ],
   "metadata": {
    "collapsed": false,
    "ExecuteTime": {
     "end_time": "2024-07-07T05:00:39.091428600Z",
     "start_time": "2024-07-07T05:00:39.050034400Z"
    }
   },
   "id": "570291101fd2ccf0",
   "execution_count": 36
  },
  {
   "cell_type": "code",
   "outputs": [
    {
     "ename": "SyntaxError",
     "evalue": "invalid syntax (1924836950.py, line 1)",
     "output_type": "error",
     "traceback": [
      "\u001B[1;36m  Cell \u001B[1;32mIn[38], line 1\u001B[1;36m\u001B[0m\n\u001B[1;33m    [i** for i in list if i%2 == 0]\u001B[0m\n\u001B[1;37m         ^\u001B[0m\n\u001B[1;31mSyntaxError\u001B[0m\u001B[1;31m:\u001B[0m invalid syntax\n"
     ]
    }
   ],
   "source": [
    "[i** for i in list if i%2 == 0]"
   ],
   "metadata": {
    "collapsed": false,
    "ExecuteTime": {
     "end_time": "2024-07-07T05:01:38.733060600Z",
     "start_time": "2024-07-07T05:01:38.677177300Z"
    }
   },
   "id": "3270f00c3202a5c9",
   "execution_count": 38
  },
  {
   "cell_type": "code",
   "outputs": [
    {
     "data": {
      "text/plain": "[1, 'a', 9, 'a', 25, 'a', 49, 'a', 81, 'a']"
     },
     "execution_count": 42,
     "metadata": {},
     "output_type": "execute_result"
    }
   ],
   "source": [
    "[i**2 if i %2!= 0 else 'a' for i in list]"
   ],
   "metadata": {
    "collapsed": false,
    "ExecuteTime": {
     "end_time": "2024-07-07T05:03:33.606466500Z",
     "start_time": "2024-07-07T05:03:33.542593400Z"
    }
   },
   "id": "eb613f2074069f51",
   "execution_count": 42
  },
  {
   "cell_type": "code",
   "outputs": [
    {
     "name": "stdout",
     "output_type": "stream",
     "text": [
      "shadab\n",
      "shanz\n",
      "shahbaz\n",
      "krishna\n",
      "shubham\n",
      "kumar\n",
      "singh\n",
      "ramu\n",
      "rah\n",
      "xyz\n"
     ]
    }
   ],
   "source": [
    "l = ['shadab','shanz','shahbaz','krishna','shubham','kumar','singh','ramu','rah','xyz']\n",
    "lt = []\n",
    "for i in l:\n",
    "    print(i)\n",
    "    if i[0] == 's' or i[0] == 'k':\n",
    "        lt.append(i)\n"
   ],
   "metadata": {
    "collapsed": false,
    "ExecuteTime": {
     "end_time": "2024-07-07T05:13:21.189202600Z",
     "start_time": "2024-07-07T05:13:21.142326700Z"
    }
   },
   "id": "dbcef53260b2b1cc",
   "execution_count": 46
  },
  {
   "cell_type": "code",
   "outputs": [
    {
     "data": {
      "text/plain": "['Shadab',\n 'Shanz',\n 'Shahbaz',\n 'Krishna',\n 'Shubham',\n 'Kumar',\n 'Singh',\n 'Ramu',\n 'Rah',\n 'Xyz']"
     },
     "execution_count": 49,
     "metadata": {},
     "output_type": "execute_result"
    }
   ],
   "source": [
    "lt = []\n",
    "for i in l:\n",
    "    lt.append(i.title())\n",
    "lt"
   ],
   "metadata": {
    "collapsed": false,
    "ExecuteTime": {
     "end_time": "2024-07-07T05:14:40.026142500Z",
     "start_time": "2024-07-07T05:14:39.976276500Z"
    }
   },
   "id": "95462b5dce2acdd9",
   "execution_count": 49
  },
  {
   "cell_type": "code",
   "outputs": [
    {
     "name": "stdout",
     "output_type": "stream",
     "text": [
      "1\n",
      "2\n",
      "3\n",
      "4\n",
      "5\n",
      "6\n",
      "7\n",
      "8\n",
      "9\n",
      "10\n"
     ]
    }
   ],
   "source": [
    "a = 1\n",
    "while a<=10:\n",
    "    print(a)\n",
    "    a = a+1"
   ],
   "metadata": {
    "collapsed": false,
    "ExecuteTime": {
     "end_time": "2024-07-07T05:24:55.087411900Z",
     "start_time": "2024-07-07T05:24:55.034954Z"
    }
   },
   "id": "69db84a1a9085ec9",
   "execution_count": 66
  },
  {
   "cell_type": "code",
   "outputs": [
    {
     "name": "stdout",
     "output_type": "stream",
     "text": [
      "720\n"
     ]
    }
   ],
   "source": [
    "#sum of number till sum point\n",
    "\n",
    "\n",
    "n = int(input('Enter the number: '))\n",
    "start = 1\n",
    "counter = 1\n",
    "while counter <= n:\n",
    "    start = start * counter\n",
    "    counter = counter+1\n",
    "print(start)"
   ],
   "metadata": {
    "collapsed": false,
    "ExecuteTime": {
     "end_time": "2024-07-07T05:39:23.738508400Z",
     "start_time": "2024-07-07T05:39:21.682925600Z"
    }
   },
   "id": "20245e56677a3210",
   "execution_count": 70
  },
  {
   "cell_type": "code",
   "outputs": [
    {
     "name": "stdout",
     "output_type": "stream",
     "text": [
      "120\n"
     ]
    }
   ],
   "source": [
    "n = int(input('Enter the number: '))\n",
    "start = 0\n",
    "counter = 1\n",
    "while counter <= n:\n",
    "    start = start + counter\n",
    "    counter = counter+1\n",
    "print(start)"
   ],
   "metadata": {
    "collapsed": false,
    "ExecuteTime": {
     "end_time": "2024-07-07T05:40:07.996484400Z",
     "start_time": "2024-07-07T05:40:05.514802Z"
    }
   },
   "id": "87831a8afbb9801b",
   "execution_count": 71
  },
  {
   "cell_type": "code",
   "outputs": [
    {
     "name": "stdout",
     "output_type": "stream",
     "text": [
      "120\n"
     ]
    }
   ],
   "source": [
    "num = int(input('Enter the number: '))\n",
    "fact = 1\n",
    "while num > 0:\n",
    "    fact = fact * num\n",
    "    num = num - 1\n",
    "print(fact)"
   ],
   "metadata": {
    "collapsed": false,
    "ExecuteTime": {
     "end_time": "2024-07-07T05:40:57.809642600Z",
     "start_time": "2024-07-07T05:40:56.045526100Z"
    }
   },
   "id": "d08d8fa374b85515",
   "execution_count": 72
  },
  {
   "cell_type": "code",
   "outputs": [
    {
     "name": "stdout",
     "output_type": "stream",
     "text": [
      "ubbas\n"
     ]
    }
   ],
   "source": [
    "word = 'sabbu'\n",
    "reverse = \"\"\n",
    "len = len(word)\n",
    "while len > 0:\n",
    "    reverse = reverse + word[len-1]\n",
    "    len = len - 1\n",
    "print(reverse)"
   ],
   "metadata": {
    "collapsed": false,
    "ExecuteTime": {
     "end_time": "2024-07-07T05:46:00.819556400Z",
     "start_time": "2024-07-07T05:46:00.768663Z"
    }
   },
   "id": "a16eaed244bfc8a5",
   "execution_count": 74
  },
  {
   "cell_type": "code",
   "outputs": [
    {
     "name": "stdout",
     "output_type": "stream",
     "text": [
      "1\n",
      "2\n",
      "3\n",
      "4\n",
      "5\n"
     ]
    }
   ],
   "source": [
    "n = 10\n",
    "i = 1\n",
    "while i < n:\n",
    "    print(i)\n",
    "    if i ==5:\n",
    "        break\n",
    "    i = i + 1\n",
    "    \n",
    "else:\n",
    "    print('this is else block')\n"
   ],
   "metadata": {
    "collapsed": false,
    "ExecuteTime": {
     "end_time": "2024-07-07T05:50:12.463891500Z",
     "start_time": "2024-07-07T05:50:12.394650800Z"
    }
   },
   "id": "a631de410976a0a6",
   "execution_count": 80
  },
  {
   "cell_type": "code",
   "outputs": [],
   "source": [],
   "metadata": {
    "collapsed": false
   },
   "id": "f0d2e91a864c6d45"
  }
 ],
 "metadata": {
  "kernelspec": {
   "display_name": "Python 3",
   "language": "python",
   "name": "python3"
  },
  "language_info": {
   "codemirror_mode": {
    "name": "ipython",
    "version": 2
   },
   "file_extension": ".py",
   "mimetype": "text/x-python",
   "name": "python",
   "nbconvert_exporter": "python",
   "pygments_lexer": "ipython2",
   "version": "2.7.6"
  }
 },
 "nbformat": 4,
 "nbformat_minor": 5
}
