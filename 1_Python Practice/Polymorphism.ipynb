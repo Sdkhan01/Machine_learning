{
 "cells": [
  {
   "cell_type": "markdown",
   "source": [],
   "metadata": {
    "collapsed": false
   },
   "id": "ee1ee6a2185f4808"
  },
  {
   "cell_type": "code",
   "outputs": [],
   "source": [
    "# # Polymorphism"
   ],
   "metadata": {
    "collapsed": false,
    "ExecuteTime": {
     "end_time": "2024-07-07T12:54:34.243812300Z",
     "start_time": "2024-07-07T12:54:34.227821900Z"
    }
   },
   "id": "a3653d9ba576134a",
   "execution_count": 1
  },
  {
   "cell_type": "code",
   "outputs": [],
   "source": [
    "# Polymorphism is the ability to use a common interface for multiple forms (data types).\n",
    "# The concept of polymorphism is often expressed as \"one interface, many implementations\".\n",
    "# Polymorphism can be static or dynamic. In static polymorphism, the response to a function is determined at compile time.\n",
    "# In dynamic polymorphism, it is decided at runtime.\n"
   ],
   "metadata": {
    "collapsed": false,
    "ExecuteTime": {
     "end_time": "2024-07-07T12:54:48.193066500Z",
     "start_time": "2024-07-07T12:54:48.165144Z"
    }
   },
   "id": "be41ec00a3edbd36",
   "execution_count": 2
  },
  {
   "cell_type": "code",
   "outputs": [],
   "source": [
    "class data_science:\n",
    "    def syllabus(self):\n",
    "        print('This is the syllabus of data science course')\n",
    "class web_dev:\n",
    "    def syllabus(self):\n",
    "        print('This is the syllabus of web development course')"
   ],
   "metadata": {
    "collapsed": false,
    "ExecuteTime": {
     "end_time": "2024-07-07T12:56:26.888271Z",
     "start_time": "2024-07-07T12:56:26.859316400Z"
    }
   },
   "id": "780992e260f6fb09",
   "execution_count": 3
  },
  {
   "cell_type": "code",
   "outputs": [],
   "source": [
    "def class_syll(obj):\n",
    "    for i in (obj):\n",
    "        i.syllabus()"
   ],
   "metadata": {
    "collapsed": false,
    "ExecuteTime": {
     "end_time": "2024-07-07T12:57:22.346245Z",
     "start_time": "2024-07-07T12:57:22.313329400Z"
    }
   },
   "id": "6c3caa7b0911607e",
   "execution_count": 4
  },
  {
   "cell_type": "code",
   "outputs": [],
   "source": [
    "ds = data_science()\n",
    "wd = web_dev()"
   ],
   "metadata": {
    "collapsed": false,
    "ExecuteTime": {
     "end_time": "2024-07-07T12:57:31.394753800Z",
     "start_time": "2024-07-07T12:57:31.370787700Z"
    }
   },
   "id": "a1afe417217dd417",
   "execution_count": 5
  },
  {
   "cell_type": "code",
   "outputs": [],
   "source": [
    "obj = [ds,wd]"
   ],
   "metadata": {
    "collapsed": false,
    "ExecuteTime": {
     "end_time": "2024-07-07T12:58:37.594368Z",
     "start_time": "2024-07-07T12:58:37.572429700Z"
    }
   },
   "id": "8477a38d2a1427f3",
   "execution_count": 9
  },
  {
   "cell_type": "code",
   "outputs": [
    {
     "name": "stdout",
     "output_type": "stream",
     "text": [
      "This is the syllabus of data science course\n",
      "This is the syllabus of web development course\n"
     ]
    }
   ],
   "source": [
    "class_syll(obj)"
   ],
   "metadata": {
    "collapsed": false,
    "ExecuteTime": {
     "end_time": "2024-07-07T12:58:42.506192700Z",
     "start_time": "2024-07-07T12:58:42.488212100Z"
    }
   },
   "id": "4eeb57f0bfb27050",
   "execution_count": 11
  },
  {
   "cell_type": "code",
   "outputs": [],
   "source": [
    "# Polymorphism example with a function"
   ],
   "metadata": {
    "collapsed": false,
    "ExecuteTime": {
     "end_time": "2024-07-07T12:59:05.216923500Z",
     "start_time": "2024-07-07T12:59:05.191483Z"
    }
   },
   "id": "db1cc5425774ae1e",
   "execution_count": 12
  },
  {
   "cell_type": "code",
   "outputs": [],
   "source": [
    "def add(x, y, z = 0):\n",
    "    return x + y + z\n"
   ],
   "metadata": {
    "collapsed": false,
    "ExecuteTime": {
     "end_time": "2024-07-07T12:59:16.919036800Z",
     "start_time": "2024-07-07T12:59:16.896463500Z"
    }
   },
   "id": "e57ddee7d9abb7c5",
   "execution_count": 13
  },
  {
   "cell_type": "code",
   "outputs": [
    {
     "name": "stdout",
     "output_type": "stream",
     "text": [
      "5\n"
     ]
    }
   ],
   "source": [
    "print(add(2, 3))"
   ],
   "metadata": {
    "collapsed": false,
    "ExecuteTime": {
     "end_time": "2024-07-07T12:59:19.796209200Z",
     "start_time": "2024-07-07T12:59:19.770281700Z"
    }
   },
   "id": "f000ad688af186b4",
   "execution_count": 14
  },
  {
   "cell_type": "code",
   "outputs": [
    {
     "name": "stdout",
     "output_type": "stream",
     "text": [
      "9\n"
     ]
    }
   ],
   "source": [
    "print(add(2, 3, 4))"
   ],
   "metadata": {
    "collapsed": false,
    "ExecuteTime": {
     "end_time": "2024-07-07T12:59:22.469726600Z",
     "start_time": "2024-07-07T12:59:22.451749800Z"
    }
   },
   "id": "166a48715bae68e0",
   "execution_count": 15
  },
  {
   "cell_type": "code",
   "outputs": [],
   "source": [
    "# Polymorphism example with a class\n",
    "\n",
    "class India():\n",
    "    def capital(self):\n",
    "        print(\"New Delhi is the capital of India.\")\n",
    "    def language(self):\n",
    "        print(\"Hindi is the most widely spoken language of India.\")\n",
    "    def type(self):\n",
    "        print(\"India is a developing country.\")\n",
    "class USA():\n",
    "    def capital(self):\n",
    "        print('washington, DC is the capital of USA.')\n",
    "    def language(self):\n",
    "        print('English is the primary language spoken in USA.')\n",
    "    def type(self):\n",
    "        print('USA is a developed country.')\n",
    "\n"
   ],
   "metadata": {
    "collapsed": false,
    "ExecuteTime": {
     "end_time": "2024-07-07T13:01:37.856394700Z",
     "start_time": "2024-07-07T13:01:37.829439800Z"
    }
   },
   "id": "bb541d881a1a3d0e",
   "execution_count": 16
  },
  {
   "cell_type": "code",
   "outputs": [],
   "source": [
    "obj_ind = India()\n",
    "obj_usa = USA()\n"
   ],
   "metadata": {
    "collapsed": false,
    "ExecuteTime": {
     "end_time": "2024-07-07T13:01:52.949383600Z",
     "start_time": "2024-07-07T13:01:52.924418200Z"
    }
   },
   "id": "155de10abe9e97ef",
   "execution_count": 17
  },
  {
   "cell_type": "code",
   "outputs": [
    {
     "name": "stdout",
     "output_type": "stream",
     "text": [
      "New Delhi is the capital of India.\n",
      "Hindi is the most widely spoken language of India.\n",
      "India is a developing country.\n",
      "\n",
      "\n",
      "washington, DC is the capital of USA.\n",
      "English is the primary language spoken in USA.\n",
      "USA is a developed country.\n"
     ]
    }
   ],
   "source": [
    "# now we will call the methods using the same function name using for loop and passing the objects of the classes\n",
    "\n",
    "for country in(obj_ind,obj_usa):\n",
    "    country.capital()\n",
    "    country.language()\n",
    "    country.type()\n",
    "    print('\\n')\n",
    "    "
   ],
   "metadata": {
    "collapsed": false,
    "ExecuteTime": {
     "end_time": "2024-07-07T13:03:54.346873400Z",
     "start_time": "2024-07-07T13:03:54.330394300Z"
    }
   },
   "id": "6444d109bffca360",
   "execution_count": 19
  },
  {
   "cell_type": "code",
   "outputs": [],
   "source": [
    "## Polymorphism with Inheritance\n",
    "## it works with the method overriding in the child class means the child class can have the same method as the parent class\n",
    "\n",
    "class Bird:\n",
    "    def intro(self):\n",
    "        print(\"There are many types of birds.\")\n",
    "    def flight(self):\n",
    "        print(\"Most of the birds can fly but some cannot.\")\n",
    "class sparrow(Bird):\n",
    "    def flight(self):\n",
    "        print('Sparrows can fly.')\n",
    "class ostrich(Bird):\n",
    "    def flight(self):\n",
    "        print('Ostriches cannot fly.')\n",
    "class penguin(Bird):\n",
    "    def flight(self):\n",
    "        print('Penguins cannot fly.')\n",
    "        \n",
    "    "
   ],
   "metadata": {
    "collapsed": false,
    "ExecuteTime": {
     "end_time": "2024-07-07T13:07:09.848534900Z",
     "start_time": "2024-07-07T13:07:09.824595900Z"
    }
   },
   "id": "f6ce70366f07442a",
   "execution_count": 20
  },
  {
   "cell_type": "code",
   "outputs": [],
   "source": [
    "## now we will call the methods using the same function name using for loop and passing the objects of the classes\n",
    "##d in above classes we have the same method name in the parent class and the child class\n",
    "#parent class method in above example is flight and the child class method is also flight, so the child class method will override the parent class method\n",
    "## bird class is the parent class and sparrow, ostrich, penguin are the child classes"
   ],
   "metadata": {
    "collapsed": false,
    "ExecuteTime": {
     "end_time": "2024-07-07T13:08:22.956903100Z",
     "start_time": "2024-07-07T13:08:22.933951Z"
    }
   },
   "id": "b45e0ebcf8b3e2ca",
   "execution_count": 21
  },
  {
   "cell_type": "code",
   "outputs": [],
   "source": [
    "obj_bird = Bird()\n",
    "obj_sparrow = sparrow()\n",
    "obj_ostrich = ostrich()\n",
    "obj_penguin = penguin()\n"
   ],
   "metadata": {
    "collapsed": false,
    "ExecuteTime": {
     "end_time": "2024-07-07T13:08:35.260597Z",
     "start_time": "2024-07-07T13:08:35.235121600Z"
    }
   },
   "id": "ad50d77f384a9567",
   "execution_count": 22
  },
  {
   "cell_type": "code",
   "outputs": [
    {
     "name": "stdout",
     "output_type": "stream",
     "text": [
      "There are many types of birds.\n",
      "Most of the birds can fly but some cannot.\n",
      "\n",
      "\n",
      "There are many types of birds.\n",
      "Sparrows can fly.\n",
      "\n",
      "\n",
      "There are many types of birds.\n",
      "Ostriches cannot fly.\n",
      "\n",
      "\n",
      "There are many types of birds.\n",
      "Penguins cannot fly.\n"
     ]
    }
   ],
   "source": [
    "for bird in (obj_bird, obj_sparrow, obj_ostrich, obj_penguin):\n",
    "    bird.intro()\n",
    "    bird.flight()\n",
    "    print('\\n')\n"
   ],
   "metadata": {
    "collapsed": false,
    "ExecuteTime": {
     "end_time": "2024-07-07T13:12:12.194621700Z",
     "start_time": "2024-07-07T13:12:12.169146200Z"
    }
   },
   "id": "dd03a9052499fc7e",
   "execution_count": 29
  },
  {
   "cell_type": "code",
   "outputs": [],
   "source": [
    "class college:\n",
    "    def name(self):\n",
    "        print('My college name is Amity university')\n",
    "    def location(self):\n",
    "        print('My college is located in lucknow')\n",
    "    def type(self):\n",
    "        print('My college is a private college')\n",
    "class mca:\n",
    "    def type(self):\n",
    "        print('I am a student of MCA')\n",
    "    def name(self):\n",
    "        print('My name is Rishabh')\n",
    "    def roll_no(self):\n",
    "        print('My roll no is 123')\n",
    "    def location(self):\n",
    "        pass\n",
    "class bca:\n",
    "    def type(self):\n",
    "        print('I am a student of BCA')\n",
    "    def name(self):\n",
    "        print('My name is shadab')\n",
    "    def roll_no(self):\n",
    "        print('My roll no is 124')\n",
    "    def location(self):\n",
    "        pass\n",
    "class btech:\n",
    "    def type(self):\n",
    "        print('I am a student of Btech')\n",
    "    def name(self):\n",
    "        print('My name is shivam')\n",
    "    def roll_no(self):\n",
    "        print('My roll no is 125')\n",
    "    def location(self):\n",
    "        pass"
   ],
   "metadata": {
    "collapsed": false,
    "ExecuteTime": {
     "end_time": "2024-07-07T13:20:48.131183900Z",
     "start_time": "2024-07-07T13:20:48.108247600Z"
    }
   },
   "id": "985df951fb96a033",
   "execution_count": 45
  },
  {
   "cell_type": "code",
   "outputs": [],
   "source": [
    "obj_college = college()\n",
    "obj_mca = mca()\n",
    "obj_bca = bca()\n",
    "obj_btech = btech()\n"
   ],
   "metadata": {
    "collapsed": false,
    "ExecuteTime": {
     "end_time": "2024-07-07T13:20:48.444017700Z",
     "start_time": "2024-07-07T13:20:48.413099400Z"
    }
   },
   "id": "5087dc061a3333d9",
   "execution_count": 46
  },
  {
   "cell_type": "code",
   "outputs": [
    {
     "name": "stdout",
     "output_type": "stream",
     "text": [
      "My college name is Amity university\n",
      "My college is a private college\n",
      "My college is located in lucknow\n",
      "My name is Rishabh\n",
      "I am a student of MCA\n",
      "My name is shadab\n",
      "I am a student of BCA\n",
      "My name is shivam\n",
      "I am a student of Btech\n"
     ]
    }
   ],
   "source": [
    "for student in (obj_college, obj_mca, obj_bca, obj_btech):\n",
    "    student.name()\n",
    "    student.type()\n",
    "    student.location()\n",
    "    "
   ],
   "metadata": {
    "collapsed": false,
    "ExecuteTime": {
     "end_time": "2024-07-07T13:20:49.398398400Z",
     "start_time": "2024-07-07T13:20:49.368895100Z"
    }
   },
   "id": "d858387bef27c410",
   "execution_count": 47
  },
  {
   "cell_type": "code",
   "outputs": [],
   "source": [],
   "metadata": {
    "collapsed": false
   },
   "id": "ba2a3736c67e5d42"
  },
  {
   "cell_type": "code",
   "outputs": [
    {
     "ename": "SyntaxError",
     "evalue": "incomplete input (668631829.py, line 8)",
     "output_type": "error",
     "traceback": [
      "\u001B[1;36m  Cell \u001B[1;32mIn[34], line 8\u001B[1;36m\u001B[0m\n\u001B[1;33m    class branch(college):\u001B[0m\n\u001B[1;37m                          ^\u001B[0m\n\u001B[1;31mSyntaxError\u001B[0m\u001B[1;31m:\u001B[0m incomplete input\n"
     ]
    }
   ],
   "source": [
    "class college:\n",
    "    def name(self):\n",
    "        print('My college name is Amity university')\n",
    "    def location(self):\n",
    "        print('My college is located in lucknow')\n",
    "    def type(self):\n",
    "        print('My college is a private college')\n",
    "class branch(college):"
   ],
   "metadata": {
    "collapsed": false,
    "ExecuteTime": {
     "end_time": "2024-07-07T13:18:01.327105500Z",
     "start_time": "2024-07-07T13:18:01.303554700Z"
    }
   },
   "id": "c237e7e776a1e949",
   "execution_count": 34
  },
  {
   "cell_type": "code",
   "outputs": [],
   "source": [
    "    def type(self):\n",
    "        print('I am a student of MCA')\n",
    "    def name(self):\n",
    "        print('My name is Rishabh')\n",
    "    def roll_no(self):\n",
    "        print('My roll no is 123')\n",
    "    def location(self):\n",
    "        pass"
   ],
   "metadata": {
    "collapsed": false,
    "ExecuteTime": {
     "end_time": "2024-07-07T13:21:53.818054400Z",
     "start_time": "2024-07-07T13:21:53.790517300Z"
    }
   },
   "id": "bad8622456db34c6",
   "execution_count": 48
  },
  {
   "cell_type": "code",
   "outputs": [],
   "source": [
    "class college:\n",
    "    def name(self):\n",
    "        print('My college name is Amity university')\n",
    "    def location(self):\n",
    "        print('My college is located in lucknow')\n",
    "    def type(self):\n",
    "        print('My college is a private college')\n",
    "    class branch(college):\n",
    "        def type(self):\n",
    "            print('I am a student of MCA')\n",
    "        def name(self):\n",
    "            print('My name is Rishabh')\n",
    "        def roll_no(self):\n",
    "            print('My roll no is 123')\n",
    "        def location(self):\n",
    "            pass\n",
    "#this method is not working because we cannot define a class inside a class"
   ],
   "metadata": {
    "collapsed": false,
    "ExecuteTime": {
     "end_time": "2024-07-07T13:23:29.402423800Z",
     "start_time": "2024-07-07T13:23:29.365946700Z"
    }
   },
   "id": "8080baf491cb59f9",
   "execution_count": 51
  },
  {
   "cell_type": "code",
   "outputs": [],
   "source": [
    "class college:\n",
    "    def name(self):\n",
    "        print('My college name is Amity university')\n",
    "    def location(self):\n",
    "        print('My college is located in lucknow')\n",
    "    def type(self):\n",
    "        print('My college is a private college') \n",
    "class branch:\n",
    "        def type(self):\n",
    "            print('I am a student of MCA')\n",
    "        def name(self):\n",
    "            print('My name is Rishabh')\n",
    "        def roll_no(self):\n",
    "            print('My roll no is 123')\n",
    "        def location(self):\n",
    "            pass"
   ],
   "metadata": {
    "collapsed": false,
    "ExecuteTime": {
     "end_time": "2024-07-07T13:24:16.815542200Z",
     "start_time": "2024-07-07T13:24:16.788615900Z"
    }
   },
   "id": "ae1cfcadc07c1c48",
   "execution_count": 54
  },
  {
   "cell_type": "code",
   "outputs": [],
   "source": [
    "obj_college = college()\n",
    "obj_branch = branch()\n"
   ],
   "metadata": {
    "collapsed": false,
    "ExecuteTime": {
     "end_time": "2024-07-07T13:24:17.715401700Z",
     "start_time": "2024-07-07T13:24:17.687508900Z"
    }
   },
   "id": "2bd62287ce08e5b",
   "execution_count": 55
  },
  {
   "cell_type": "code",
   "outputs": [
    {
     "name": "stdout",
     "output_type": "stream",
     "text": [
      "My college name is Amity university\n",
      "My college is a private college\n",
      "My college is located in lucknow\n",
      "My name is Rishabh\n",
      "I am a student of MCA\n"
     ]
    }
   ],
   "source": [
    "for student in (obj_college, obj_branch):\n",
    "    student.name()\n",
    "    student.type()\n",
    "    student.location()"
   ],
   "metadata": {
    "collapsed": false,
    "ExecuteTime": {
     "end_time": "2024-07-07T13:24:29.979697900Z",
     "start_time": "2024-07-07T13:24:29.967729900Z"
    }
   },
   "id": "8bec7c124242a831",
   "execution_count": 56
  },
  {
   "cell_type": "code",
   "outputs": [],
   "source": [],
   "metadata": {
    "collapsed": false
   },
   "id": "34fdea8907d0a1d7"
  }
 ],
 "metadata": {
  "kernelspec": {
   "display_name": "Python 3",
   "language": "python",
   "name": "python3"
  },
  "language_info": {
   "codemirror_mode": {
    "name": "ipython",
    "version": 2
   },
   "file_extension": ".py",
   "mimetype": "text/x-python",
   "name": "python",
   "nbconvert_exporter": "python",
   "pygments_lexer": "ipython2",
   "version": "2.7.6"
  }
 },
 "nbformat": 4,
 "nbformat_minor": 5
}
